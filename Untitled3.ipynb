{
 "cells": [
  {
   "cell_type": "code",
   "execution_count": 3,
   "metadata": {},
   "outputs": [
    {
     "name": "stdout",
     "output_type": "stream",
     "text": [
      "pd.__version__: 0.20.1\n",
      "np.__version__: 1.12.1\n",
      "libraries imported\n"
     ]
    }
   ],
   "source": [
    "%matplotlib notebook\n",
    "import matplotlib.pyplot as plt\n",
    "import matplotlib\n",
    "matplotlib.style.use('ggplot')\n",
    "\n",
    "import pandas as pd\n",
    "import numpy as np\n",
    "import timeit \n",
    "from datetime import datetime\n",
    "from datetime import timedelta\n",
    "#NB : timeit.default_timer() auto chooses timeing function for os, nicer than time.time() or time.clock()\n",
    "print (\"pd.__version__:\", pd.__version__)\n",
    "print (\"np.__version__:\", np.__version__)\n",
    "\n",
    "print (\"libraries imported\")"
   ]
  },
  {
   "cell_type": "code",
   "execution_count": 4,
   "metadata": {},
   "outputs": [
    {
     "name": "stdout",
     "output_type": "stream",
     "text": [
      "start loading data\n",
      "elapsed time :  0.004909211317077222\n"
     ]
    }
   ],
   "source": [
    "start_time = timeit.default_timer()\n",
    "print (\"start loading data\")\n",
    "dfOD = pd.read_csv('OD.csv')\n",
    "elapsed = timeit.default_timer() - start_time\n",
    "print (\"elapsed time : \", elapsed)"
   ]
  },
  {
   "cell_type": "code",
   "execution_count": 5,
   "metadata": {},
   "outputs": [
    {
     "name": "stdout",
     "output_type": "stream",
     "text": [
      "start\n",
      "elapsed time :  0.15820956373586625\n"
     ]
    }
   ],
   "source": [
    "start_time = timeit.default_timer()\n",
    "#suppress warning\n",
    "#refer https://stackoverflow.com/questions/20625582/how-to-deal-with-settingwithcopywarning-in-pandas\n",
    "#https://pandas.pydata.org/pandas-docs/stable/options.html\n",
    "#pd.options.mode.chained_assignment = None or 'warn'\n",
    "pd.options.mode.chained_assignment = None\n",
    "print (\"start\")\n",
    "df1[\"duration\"] = np.nan\n",
    "for i in range(df1.shape[0]):\n",
    "    tempFinish = datetime.strptime(df1['Finish'][i], '%d/%m/%Y %H:%M')\n",
    "    #print (\"type(tempFinish):\", type(tempFinish))\n",
    "    tempStart = datetime.strptime(df1['Start'][i], '%d/%m/%Y %H:%M')\n",
    "    #print (\"type(tempStart):\", type(tempStart))\n",
    "    df1['duration'][i] = (tempFinish - tempStart).total_seconds()\n",
    "    #print (type(df1['duration'][i]))\n",
    "    \n",
    "    #df1[\"durationSeconds\"][i] = (df1['duration'][i]-datetime(1970,1,1)).total_seconds()\n",
    "elapsed = timeit.default_timer() - start_time\n",
    "print (\"elapsed time : \", elapsed)"
   ]
  },
  {
   "cell_type": "code",
   "execution_count": null,
   "metadata": {
    "collapsed": true
   },
   "outputs": [],
   "source": []
  }
 ],
 "metadata": {
  "kernelspec": {
   "display_name": "Python 3",
   "language": "python",
   "name": "python3"
  },
  "language_info": {
   "codemirror_mode": {
    "name": "ipython",
    "version": 3
   },
   "file_extension": ".py",
   "mimetype": "text/x-python",
   "name": "python",
   "nbconvert_exporter": "python",
   "pygments_lexer": "ipython3",
   "version": "3.6.1"
  }
 },
 "nbformat": 4,
 "nbformat_minor": 2
}
