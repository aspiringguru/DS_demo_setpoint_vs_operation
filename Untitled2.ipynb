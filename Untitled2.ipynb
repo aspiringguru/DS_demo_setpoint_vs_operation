{
 "cells": [
  {
   "cell_type": "code",
   "execution_count": 5,
   "metadata": {},
   "outputs": [
    {
     "name": "stdout",
     "output_type": "stream",
     "text": [
      "type(AcDepart): <class 'str'>\n",
      "type(AcDepart_): <class 'datetime.datetime'>\n",
      "type(AcArrival): <class 'str'>\n",
      "type(AcArrival_): <class 'datetime.datetime'>\n",
      "11.0\n",
      "type(ActualHours): <class 'float'>\n",
      "type(AcDepart_ - AcArrival_): <class 'datetime.timedelta'>\n"
     ]
    }
   ],
   "source": [
    "from datetime import datetime\n",
    "\n",
    "AcDepart = '1900-01-01 18:00:00'\n",
    "print (\"type(AcDepart):\", type(AcDepart))\n",
    "AcDepart_ = datetime.strptime(AcDepart, '%Y-%m-%d %H:%M:%S')\n",
    "print (\"type(AcDepart_):\", type(AcDepart_))\n",
    "\n",
    "AcArrival = '1900-01-01 07:00:00'\n",
    "print (\"type(AcArrival):\", type(AcArrival))\n",
    "\n",
    "AcArrival_ = datetime.strptime(AcArrival, '%Y-%m-%d %H:%M:%S')\n",
    "print (\"type(AcArrival_):\", type(AcArrival_))\n",
    "\n",
    "ActualHours = (AcDepart_ - AcArrival_).total_seconds()/3600\n",
    "print (ActualHours)\n",
    "print (\"type(ActualHours):\", type(ActualHours))\n",
    "print (\"type(AcDepart_ - AcArrival_):\", type(AcDepart_ - AcArrival_))"
   ]
  },
  {
   "cell_type": "code",
   "execution_count": null,
   "metadata": {},
   "outputs": [],
   "source": []
  },
  {
   "cell_type": "code",
   "execution_count": null,
   "metadata": {
    "collapsed": true
   },
   "outputs": [],
   "source": [
    "type()"
   ]
  }
 ],
 "metadata": {
  "kernelspec": {
   "display_name": "Python 3",
   "language": "python",
   "name": "python3"
  },
  "language_info": {
   "codemirror_mode": {
    "name": "ipython",
    "version": 3
   },
   "file_extension": ".py",
   "mimetype": "text/x-python",
   "name": "python",
   "nbconvert_exporter": "python",
   "pygments_lexer": "ipython3",
   "version": "3.6.1"
  }
 },
 "nbformat": 4,
 "nbformat_minor": 2
}
