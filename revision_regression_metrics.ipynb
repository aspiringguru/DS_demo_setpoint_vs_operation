{
 "cells": [
  {
   "cell_type": "code",
   "execution_count": 28,
   "metadata": {},
   "outputs": [
    {
     "name": "stdout",
     "output_type": "stream",
     "text": [
      "<class 'pandas.core.frame.DataFrame'> (506, 14)\n",
      "type(array): <class 'numpy.ndarray'>\n",
      "type(X): <class 'numpy.ndarray'> , X.shape :  (506, 13)\n",
      "type(Y): <class 'numpy.ndarray'> , Y.shape :  (506,)\n",
      "type(results): <class 'numpy.ndarray'>\n",
      "[-2.20686845 -2.89680909 -2.78673044 -4.59847835 -4.10986504 -3.56469238\n",
      " -2.66966723 -9.65637767 -5.02272517 -2.53725254]\n",
      "<class 'numpy.float64'>\n",
      "results.mean(): -4.00494663532\n",
      "results.std(): 2.08359926871\n",
      "MAE: -4.005 (2.084)\n"
     ]
    }
   ],
   "source": [
    "#https://machinelearningmastery.com/metrics-evaluate-machine-learning-algorithms-python/\n",
    "#\n",
    "# Cross Validation Regression MAE\n",
    "import pandas\n",
    "from sklearn import model_selection\n",
    "from sklearn.linear_model import LinearRegression\n",
    "#url = \"https://archive.ics.uci.edu/ml/machine-learning-databases/housing/housing.data\"\n",
    "\n",
    "#url = os.path.join('revision', 'housing.data')\n",
    "url = 'housing.data.txt'\n",
    "names = ['CRIM', 'ZN', 'INDUS', 'CHAS', 'NOX', 'RM', 'AGE', 'DIS', 'RAD', 'TAX', 'PTRATIO', 'B', 'LSTAT', 'MEDV']\n",
    "\n",
    "dataframe = pandas.read_csv(url, delim_whitespace=True, names=names)\n",
    "print (type(dataframe), dataframe.shape)\n",
    "array = dataframe.values\n",
    "print (\"type(array):\", type(array))\n",
    "X = array[:,0:13]#slices columns 0:12 inclusive\n",
    "Y = array[:,13]# slice column 13 only.\n",
    "print (\"type(X):\", type(X), \", X.shape : \", X.shape)\n",
    "print (\"type(Y):\", type(Y), \", Y.shape : \", Y.shape)\n",
    "seed = 7\n",
    "kfold = model_selection.KFold(n_splits=10, random_state=seed)\n",
    "model = LinearRegression()\n",
    "scoring = 'neg_mean_absolute_error'\n",
    "results = model_selection.cross_val_score(model, X, Y, cv=kfold, scoring=scoring)\n",
    "print (\"type(results):\", type(results))\n",
    "print (results)\n",
    "print (type(results[0]))\n",
    "print (\"results.mean():\", results.mean())\n",
    "print (\"results.std():\", results.std())\n",
    "print ((\"MAE: %.3f (%.3f)\") % (results.mean(), results.std()))"
   ]
  },
  {
   "cell_type": "code",
   "execution_count": null,
   "metadata": {
    "collapsed": true
   },
   "outputs": [],
   "source": []
  }
 ],
 "metadata": {
  "kernelspec": {
   "display_name": "Python 3",
   "language": "python",
   "name": "python3"
  },
  "language_info": {
   "codemirror_mode": {
    "name": "ipython",
    "version": 3
   },
   "file_extension": ".py",
   "mimetype": "text/x-python",
   "name": "python",
   "nbconvert_exporter": "python",
   "pygments_lexer": "ipython3",
   "version": "3.6.1"
  }
 },
 "nbformat": 4,
 "nbformat_minor": 2
}
