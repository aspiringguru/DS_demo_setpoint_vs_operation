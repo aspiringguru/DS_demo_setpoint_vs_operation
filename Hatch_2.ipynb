{
 "cells": [
  {
   "cell_type": "markdown",
   "metadata": {},
   "source": [
    "h1. Load the Outage Database (OD.csv). In the “FailureMode” field,   \n",
    "h2. fix the inconsistent use of CAPitalisation.   \n",
    "h3. Remove all numbers from the field.  \n"
   ]
  },
  {
   "cell_type": "code",
   "execution_count": 1,
   "metadata": {},
   "outputs": [
    {
     "name": "stdout",
     "output_type": "stream",
     "text": [
      "pd.__version__: 0.20.1\n",
      "np.__version__: 1.12.1\n",
      "libraries imported\n"
     ]
    }
   ],
   "source": [
    "%matplotlib notebook\n",
    "import matplotlib.pyplot as plt\n",
    "import matplotlib\n",
    "matplotlib.style.use('ggplot')\n",
    "\n",
    "import pandas as pd\n",
    "import numpy as np\n",
    "import timeit \n",
    "from datetime import datetime\n",
    "from datetime import timedelta\n",
    "#NB : timeit.default_timer() auto chooses timeing function for os, nicer than time.time() or time.clock()\n",
    "print (\"pd.__version__:\", pd.__version__)\n",
    "print (\"np.__version__:\", np.__version__)\n",
    "\n",
    "print (\"libraries imported\")"
   ]
  },
  {
   "cell_type": "code",
   "execution_count": 2,
   "metadata": {},
   "outputs": [
    {
     "name": "stdout",
     "output_type": "stream",
     "text": [
      "start loading data\n",
      "elapsed time :  0.004976675593831504\n"
     ]
    }
   ],
   "source": [
    "start_time = timeit.default_timer()\n",
    "print (\"start loading data\")\n",
    "df1 = pd.read_csv('OD.csv')\n",
    "elapsed = timeit.default_timer() - start_time\n",
    "print (\"elapsed time : \", elapsed)"
   ]
  },
  {
   "cell_type": "code",
   "execution_count": 3,
   "metadata": {},
   "outputs": [
    {
     "name": "stdout",
     "output_type": "stream",
     "text": [
      "(1000, 4)\n"
     ]
    }
   ],
   "source": [
    "print (df1.shape)"
   ]
  },
  {
   "cell_type": "code",
   "execution_count": 4,
   "metadata": {},
   "outputs": [
    {
     "data": {
      "text/html": [
       "<div>\n",
       "<style>\n",
       "    .dataframe thead tr:only-child th {\n",
       "        text-align: right;\n",
       "    }\n",
       "\n",
       "    .dataframe thead th {\n",
       "        text-align: left;\n",
       "    }\n",
       "\n",
       "    .dataframe tbody tr th {\n",
       "        vertical-align: top;\n",
       "    }\n",
       "</style>\n",
       "<table border=\"1\" class=\"dataframe\">\n",
       "  <thead>\n",
       "    <tr style=\"text-align: right;\">\n",
       "      <th></th>\n",
       "      <th>Start</th>\n",
       "      <th>Finish</th>\n",
       "      <th>AACodeDesc</th>\n",
       "      <th>FailureMode</th>\n",
       "    </tr>\n",
       "  </thead>\n",
       "  <tbody>\n",
       "    <tr>\n",
       "      <th>0</th>\n",
       "      <td>29/07/2015 23:30</td>\n",
       "      <td>30/07/2015 3:34</td>\n",
       "      <td>Operational Stops</td>\n",
       "      <td>Pre-Drying tower low flow</td>\n",
       "    </tr>\n",
       "    <tr>\n",
       "      <th>1</th>\n",
       "      <td>20/03/2015 13:52</td>\n",
       "      <td>20/03/2015 13:55</td>\n",
       "      <td>Unscheduled Maintenance</td>\n",
       "      <td>Feed pots</td>\n",
       "    </tr>\n",
       "    <tr>\n",
       "      <th>2</th>\n",
       "      <td>7/10/2013 22:14</td>\n",
       "      <td>7/10/2013 22:27</td>\n",
       "      <td>Operational Stops</td>\n",
       "      <td>ESD LP cooling system temperatures / flows</td>\n",
       "    </tr>\n",
       "    <tr>\n",
       "      <th>3</th>\n",
       "      <td>28/01/2013 9:28</td>\n",
       "      <td>28/01/2013 10:15</td>\n",
       "      <td>Delays</td>\n",
       "      <td>Metallurgist testwork</td>\n",
       "    </tr>\n",
       "    <tr>\n",
       "      <th>4</th>\n",
       "      <td>14/04/2016 12:15</td>\n",
       "      <td>14/04/2016 12:21</td>\n",
       "      <td>Operational Stops</td>\n",
       "      <td>ESD LP cooling system temperatures / flows</td>\n",
       "    </tr>\n",
       "  </tbody>\n",
       "</table>\n",
       "</div>"
      ],
      "text/plain": [
       "              Start            Finish               AACodeDesc  \\\n",
       "0  29/07/2015 23:30   30/07/2015 3:34        Operational Stops   \n",
       "1  20/03/2015 13:52  20/03/2015 13:55  Unscheduled Maintenance   \n",
       "2   7/10/2013 22:14   7/10/2013 22:27        Operational Stops   \n",
       "3   28/01/2013 9:28  28/01/2013 10:15                   Delays   \n",
       "4  14/04/2016 12:15  14/04/2016 12:21        Operational Stops   \n",
       "\n",
       "                                  FailureMode  \n",
       "0                   Pre-Drying tower low flow  \n",
       "1                                   Feed pots  \n",
       "2  ESD LP cooling system temperatures / flows  \n",
       "3                       Metallurgist testwork  \n",
       "4  ESD LP cooling system temperatures / flows  "
      ]
     },
     "execution_count": 4,
     "metadata": {},
     "output_type": "execute_result"
    }
   ],
   "source": [
    "df1.head(5)"
   ]
  },
  {
   "cell_type": "code",
   "execution_count": 5,
   "metadata": {
    "collapsed": true
   },
   "outputs": [],
   "source": [
    "#h2. fix the inconsistent use of CAPitalisation. \n",
    "df1['FailureMode'] = df1['FailureMode'].str.lower()"
   ]
  },
  {
   "cell_type": "code",
   "execution_count": 6,
   "metadata": {
    "collapsed": true
   },
   "outputs": [],
   "source": [
    "#h3. Remove all numbers from the field.\n",
    "df1['FailureMode'] = df1['FailureMode'].str.replace('\\d+', '')"
   ]
  },
  {
   "cell_type": "markdown",
   "metadata": {},
   "source": [
    "i1. Which 3 areas (“FailureMode”) have the largest total time to repair? \n",
    "nb: group by area, calc total time, pick largest.\n",
    "\n",
    "i2. Which 3 areas have the smallest median time between failures?\n",
    "nb: group by area, calculate median for area, sort by median."
   ]
  },
  {
   "cell_type": "code",
   "execution_count": 7,
   "metadata": {},
   "outputs": [
    {
     "data": {
      "text/plain": [
       "Start          object\n",
       "Finish         object\n",
       "AACodeDesc     object\n",
       "FailureMode    object\n",
       "dtype: object"
      ]
     },
     "execution_count": 7,
     "metadata": {},
     "output_type": "execute_result"
    }
   ],
   "source": [
    "df1.dtypes"
   ]
  },
  {
   "cell_type": "code",
   "execution_count": 8,
   "metadata": {},
   "outputs": [
    {
     "name": "stdout",
     "output_type": "stream",
     "text": [
      "is_string: True\n",
      "is_numeric: False\n",
      "is_string: True\n",
      "is_numeric: False\n"
     ]
    },
    {
     "data": {
      "text/plain": [
       "str"
      ]
     },
     "execution_count": 8,
     "metadata": {},
     "output_type": "execute_result"
    }
   ],
   "source": [
    "from pandas.api.types import is_string_dtype\n",
    "from pandas.api.types import is_numeric_dtype\n",
    "print (\"is_string:\", is_string_dtype(df1['Start']))\n",
    "print (\"is_numeric:\", is_numeric_dtype(df1['Start']))\n",
    "print (\"is_string:\", is_string_dtype(df1['Finish']))\n",
    "print (\"is_numeric:\", is_numeric_dtype(df1['Finish']))\n",
    "type(df1['Finish'][0])"
   ]
  },
  {
   "cell_type": "code",
   "execution_count": 9,
   "metadata": {},
   "outputs": [
    {
     "name": "stdout",
     "output_type": "stream",
     "text": [
      "start\n",
      "elapsed time :  0.16260750523668654\n"
     ]
    }
   ],
   "source": [
    "start_time = timeit.default_timer()\n",
    "#suppress warning\n",
    "#refer https://stackoverflow.com/questions/20625582/how-to-deal-with-settingwithcopywarning-in-pandas\n",
    "#https://pandas.pydata.org/pandas-docs/stable/options.html\n",
    "#pd.options.mode.chained_assignment = None or 'warn'\n",
    "pd.options.mode.chained_assignment = None\n",
    "print (\"start\")\n",
    "df1[\"duration\"] = np.nan\n",
    "for i in range(df1.shape[0]):\n",
    "    tempFinish = datetime.strptime(df1['Finish'][i], '%d/%m/%Y %H:%M')\n",
    "    #print (\"type(tempFinish):\", type(tempFinish))\n",
    "    tempStart = datetime.strptime(df1['Start'][i], '%d/%m/%Y %H:%M')\n",
    "    #print (\"type(tempStart):\", type(tempStart))\n",
    "    df1['duration'][i] = (tempFinish - tempStart).total_seconds()\n",
    "    #print (type(df1['duration'][i]))\n",
    "    \n",
    "    #df1[\"durationSeconds\"][i] = (df1['duration'][i]-datetime(1970,1,1)).total_seconds()\n",
    "elapsed = timeit.default_timer() - start_time\n",
    "print (\"elapsed time : \", elapsed)"
   ]
  },
  {
   "cell_type": "code",
   "execution_count": 10,
   "metadata": {},
   "outputs": [
    {
     "data": {
      "text/plain": [
       "dtype('float64')"
      ]
     },
     "execution_count": 10,
     "metadata": {},
     "output_type": "execute_result"
    }
   ],
   "source": [
    "df1['duration'].dtypes"
   ]
  },
  {
   "cell_type": "code",
   "execution_count": 11,
   "metadata": {},
   "outputs": [
    {
     "data": {
      "text/plain": [
       "Start                2/02/2014 22:54\n",
       "Finish               18/02/2014 6:00\n",
       "AACodeDesc     Scheduled Maintenance\n",
       "FailureMode         planned shutdown\n",
       "duration                 1.32156e+06\n",
       "Name: 57, dtype: object"
      ]
     },
     "execution_count": 11,
     "metadata": {},
     "output_type": "execute_result"
    }
   ],
   "source": [
    "#tempDuration = list(df1['duration'])\n",
    "df1.loc[df1['duration'].idxmax()]\n"
   ]
  },
  {
   "cell_type": "code",
   "execution_count": 12,
   "metadata": {
    "collapsed": true
   },
   "outputs": [],
   "source": [
    "rowMax = df1['duration'].idxmax()"
   ]
  },
  {
   "cell_type": "code",
   "execution_count": 13,
   "metadata": {},
   "outputs": [
    {
     "data": {
      "text/html": [
       "<div>\n",
       "<style>\n",
       "    .dataframe thead tr:only-child th {\n",
       "        text-align: right;\n",
       "    }\n",
       "\n",
       "    .dataframe thead th {\n",
       "        text-align: left;\n",
       "    }\n",
       "\n",
       "    .dataframe tbody tr th {\n",
       "        vertical-align: top;\n",
       "    }\n",
       "</style>\n",
       "<table border=\"1\" class=\"dataframe\">\n",
       "  <thead>\n",
       "    <tr style=\"text-align: right;\">\n",
       "      <th></th>\n",
       "      <th>Start</th>\n",
       "      <th>Finish</th>\n",
       "      <th>AACodeDesc</th>\n",
       "      <th>FailureMode</th>\n",
       "      <th>duration</th>\n",
       "    </tr>\n",
       "  </thead>\n",
       "  <tbody>\n",
       "    <tr>\n",
       "      <th>57</th>\n",
       "      <td>2/02/2014 22:54</td>\n",
       "      <td>18/02/2014 6:00</td>\n",
       "      <td>Scheduled Maintenance</td>\n",
       "      <td>planned shutdown</td>\n",
       "      <td>1321560.0</td>\n",
       "    </tr>\n",
       "  </tbody>\n",
       "</table>\n",
       "</div>"
      ],
      "text/plain": [
       "              Start           Finish             AACodeDesc       FailureMode  \\\n",
       "57  2/02/2014 22:54  18/02/2014 6:00  Scheduled Maintenance  planned shutdown   \n",
       "\n",
       "     duration  \n",
       "57  1321560.0  "
      ]
     },
     "execution_count": 13,
     "metadata": {},
     "output_type": "execute_result"
    }
   ],
   "source": [
    "df1.iloc[[rowMax]]"
   ]
  },
  {
   "cell_type": "code",
   "execution_count": 14,
   "metadata": {
    "collapsed": true
   },
   "outputs": [],
   "source": [
    "#i1. Which 3 areas (“FailureMode”) have the largest total time to repair?   \n",
    "#nb: group by area, calc total time, pick largest."
   ]
  },
  {
   "cell_type": "code",
   "execution_count": 15,
   "metadata": {},
   "outputs": [
    {
     "name": "stdout",
     "output_type": "stream",
     "text": [
      "-----------------largest total 'FailureMode' area time to repair -----------------\n",
      "                                                          sum  count    median\n",
      "FailureMode                                                                   \n",
      "planned shutdown                                    1664160.0      7   70740.0\n",
      "stock accumulation                                   582120.0      2  291060.0\n",
      "hp cooling system leaks                              520020.0     12   16170.0\n",
      "clean uptake / accretion fall                        349860.0     24    8850.0\n",
      "furnace change                                       286320.0     18   13560.0\n",
      "slag reduction                                       263160.0      9    2700.0\n",
      "acid plant delay                                     176460.0    118     660.0\n",
      "esd hp cooling system temperatures / flows / pr...   127440.0     80     690.0\n",
      "feed pots                                            118800.0     83     300.0\n",
      "slow tapping rate / feed connection                  103260.0     21    4020.0\n",
      "-----------------smallest median 'FailureMode' area time to repair -----------------\n",
      "                                                         sum  count  median\n",
      "FailureMode                                                                \n",
      "converter dampers leaking/damaged                       60.0      1    60.0\n",
      "ipat high/low temperature                              240.0      2   120.0\n",
      "converter high bed temps/pressures                    3600.0     10   150.0\n",
      "feed back pressure                                   27360.0     65   180.0\n",
      "feed carrier air                                       180.0      1   180.0\n",
      "silica / lump / roof coal deviation                   2760.0      7   240.0\n",
      "pre-drying tower faulty instruments/control valves     540.0      2   270.0\n",
      "esd spray cooler pumps and instruments                 300.0      1   300.0\n",
      "feed pots                                           118800.0     83   300.0\n",
      "precipitators - general faults/faulty transformers     300.0      1   300.0\n"
     ]
    }
   ],
   "source": [
    "#https://pandas.pydata.org/pandas-docs/stable/generated/pandas.DataFrame.groupby.html\n",
    "aggFailureModeDuration = df1.groupby(['FailureMode'])['duration'].agg(['sum','count', 'median'])\n",
    "#print (type(aggFailureModeDuration))\n",
    "#print (aggFailureModeDuration.head())\n",
    "print (\"-----------------largest total 'FailureMode' area time to repair -----------------\")\n",
    "print (aggFailureModeDuration.sort_values('sum', ascending=False).head(10))\n",
    "print (\"-----------------smallest median 'FailureMode' area time to repair -----------------\")\n",
    "print (aggFailureModeDuration.sort_values('median', ascending=True).head(10) )"
   ]
  },
  {
   "cell_type": "markdown",
   "metadata": {},
   "source": [
    "j. Challenge question (optional):     \n",
    "Sensor “master_feed_rate” represents the master feed rate into the process.   \n",
    "How confident are you that the timestamps in the Outage Database match the Process Database?    \n"
   ]
  },
  {
   "cell_type": "code",
   "execution_count": null,
   "metadata": {
    "collapsed": true
   },
   "outputs": [],
   "source": []
  }
 ],
 "metadata": {
  "kernelspec": {
   "display_name": "Python 3",
   "language": "python",
   "name": "python3"
  },
  "language_info": {
   "codemirror_mode": {
    "name": "ipython",
    "version": 3
   },
   "file_extension": ".py",
   "mimetype": "text/x-python",
   "name": "python",
   "nbconvert_exporter": "python",
   "pygments_lexer": "ipython3",
   "version": "3.6.1"
  }
 },
 "nbformat": 4,
 "nbformat_minor": 2
}
