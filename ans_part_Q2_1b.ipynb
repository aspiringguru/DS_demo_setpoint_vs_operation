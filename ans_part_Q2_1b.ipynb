{
 "cells": [
  {
   "cell_type": "code",
   "execution_count": 1,
   "metadata": {},
   "outputs": [
    {
     "name": "stdout",
     "output_type": "stream",
     "text": [
      "libraries imported\n"
     ]
    }
   ],
   "source": [
    "%matplotlib notebook\n",
    "import matplotlib.pyplot as plt\n",
    "import matplotlib.mlab as mlab\n",
    "import matplotlib.patches as mpatches\n",
    "import matplotlib\n",
    "matplotlib.style.use('ggplot')\n",
    "\n",
    "import pandas as pd\n",
    "import numpy as np\n",
    "import timeit \n",
    "import os\n",
    "from datetime import datetime\n",
    "from datetime import timedelta\n",
    "\n",
    "#NB : timeit.default_timer() auto chooses timeing function for os, nicer than time.time() or time.clock()\n",
    "print (\"libraries imported\")"
   ]
  },
  {
   "cell_type": "code",
   "execution_count": 2,
   "metadata": {},
   "outputs": [
    {
     "name": "stdout",
     "output_type": "stream",
     "text": [
      "elapsed time :  4.138481915197769\n"
     ]
    }
   ],
   "source": [
    "start_time = timeit.default_timer()\n",
    "df1 = pd.read_csv('PD1.csv')\n",
    "elapsed = timeit.default_timer() - start_time\n",
    "print (\"elapsed time : \", elapsed)"
   ]
  },
  {
   "cell_type": "code",
   "execution_count": 3,
   "metadata": {},
   "outputs": [
    {
     "name": "stdout",
     "output_type": "stream",
     "text": [
      "elapsed time :  3.5139527064479807\n"
     ]
    }
   ],
   "source": [
    "start_time = timeit.default_timer()\n",
    "df2 = pd.read_csv('PD2.csv')\n",
    "elapsed = timeit.default_timer() - start_time\n",
    "print (\"elapsed time : \", elapsed)"
   ]
  },
  {
   "cell_type": "code",
   "execution_count": 4,
   "metadata": {},
   "outputs": [
    {
     "name": "stdout",
     "output_type": "stream",
     "text": [
      "elapsed time :  0.6227605506835419\n"
     ]
    }
   ],
   "source": [
    "start_time = timeit.default_timer()\n",
    "df = df1.set_index('TimeStamp').join(df2.set_index('TimeStamp'))\n",
    "elapsed = timeit.default_timer() - start_time\n",
    "print (\"elapsed time : \", elapsed)\n",
    "#print (df.head(4))"
   ]
  },
  {
   "cell_type": "code",
   "execution_count": 5,
   "metadata": {},
   "outputs": [
    {
     "name": "stdout",
     "output_type": "stream",
     "text": [
      "elapsed time :  0.024424985558999524\n"
     ]
    }
   ],
   "source": [
    "start_time = timeit.default_timer()\n",
    "df.index = pd.to_datetime(df.index)\n",
    "elapsed = timeit.default_timer() - start_time\n",
    "print (\"elapsed time : \", elapsed)\n",
    "#print (df.head())"
   ]
  },
  {
   "cell_type": "code",
   "execution_count": 6,
   "metadata": {},
   "outputs": [
    {
     "name": "stdout",
     "output_type": "stream",
     "text": [
      "(60000, 792)\n"
     ]
    }
   ],
   "source": [
    "print(df.shape)\n",
    "dfColNames = list(df)"
   ]
  },
  {
   "cell_type": "code",
   "execution_count": 7,
   "metadata": {},
   "outputs": [
    {
     "name": "stdout",
     "output_type": "stream",
     "text": [
      "Number of NAN values 1544\n",
      "% of NAN values 0.0257333333333\n"
     ]
    }
   ],
   "source": [
    "\n",
    "print (\"Number of NAN values\", df.shape[0]-df['346TT035/PV.V'].count())\n",
    "print (\"% of NAN values\", (df.shape[0]-df['346TT035/PV.V'].count())/df.shape[0])\n"
   ]
  },
  {
   "cell_type": "code",
   "execution_count": 8,
   "metadata": {},
   "outputs": [
    {
     "name": "stdout",
     "output_type": "stream",
     "text": [
      "len(cols2Drop): 311\n",
      "(60000, 792)\n",
      "(60000, 481)\n"
     ]
    }
   ],
   "source": [
    "# Remove any sensors where values are missing in >10% of rows.\n",
    "cols2Drop = []\n",
    "for colName in dfColNames:\n",
    "    percentNaN = (df.shape[0]-df[colName].count())/df.shape[0]\n",
    "    #print (\"colName:\", colName, \",\\t\\t\\t percentNaN:\", percentNaN)\n",
    "    if percentNaN > 0.1:\n",
    "        #print (\"colName: %40s  percentNaN: %f\" % (colName, percentNaN) )\n",
    "        cols2Drop.append(colName)\n",
    "#print (\"cols2Drop=\", cols2Drop)\n",
    "print (\"len(cols2Drop):\", len(cols2Drop))\n",
    "print (df.shape)\n",
    "df = df.drop(cols2Drop, axis=1)\n",
    "print (df.shape)"
   ]
  },
  {
   "cell_type": "code",
   "execution_count": 9,
   "metadata": {
    "collapsed": true
   },
   "outputs": [],
   "source": [
    "df.dropna(subset=['346TT035/PV.V'], how='all', inplace = True)"
   ]
  },
  {
   "cell_type": "code",
   "execution_count": 10,
   "metadata": {},
   "outputs": [
    {
     "data": {
      "text/plain": [
       "(58456, 481)"
      ]
     },
     "execution_count": 10,
     "metadata": {},
     "output_type": "execute_result"
    }
   ],
   "source": [
    "df.shape"
   ]
  },
  {
   "cell_type": "code",
   "execution_count": 11,
   "metadata": {},
   "outputs": [
    {
     "name": "stdout",
     "output_type": "stream",
     "text": [
      "Number of NAN values 0\n",
      "Number of Non NAN values 58456\n",
      "<class 'pandas.core.frame.DataFrame'>\n"
     ]
    },
    {
     "data": {
      "text/plain": [
       "count    58456.000000\n",
       "mean     21214.505728\n",
       "std        615.138200\n",
       "min      20217.620000\n",
       "25%      20707.700000\n",
       "50%      21288.975000\n",
       "75%      21801.280000\n",
       "max      22215.140000\n",
       "Name: PrcTotals/321-WQ-024.V, dtype: float64"
      ]
     },
     "execution_count": 11,
     "metadata": {},
     "output_type": "execute_result"
    }
   ],
   "source": [
    "print (\"Number of NAN values\", df.shape[0]-df['PrcTotals/321-WQ-024.V'].count())\n",
    "print (\"Number of Non NAN values\", df['PrcTotals/321-WQ-024.V'].count())\n",
    "\n",
    "print (type(df))\n",
    "df['PrcTotals/321-WQ-024.V'].describe()"
   ]
  },
  {
   "cell_type": "markdown",
   "metadata": {},
   "source": [
    "NB: there are _ZERO_ missing values in column 'PrcTotals/321-WQ-024.V'.  \n",
    "Question appears to be flawed or misleading   \n",
    "What would be a better imputation scheme & why? \n",
    "ans: Question is redundant for column 'PrcTotals/321-WQ-024.V' as there were no missing values.\n",
    "DataFrame.interpolate() enables several methods to fill missing values.\n",
    "https://pandas.pydata.org/pandas-docs/stable/generated/pandas.DataFrame.interpolate.html#pandas.DataFrame.interpolate\n",
    "some of the methods available include : ‘linear’, ‘time’, ‘index’, ‘values’, ‘nearest’, ‘zero’,\n",
    "‘slinear’, ‘quadratic’, ‘cubic’, ‘barycentric’, ‘krogh’, ‘polynomial’, ‘spline’, ‘piecewise_polynomial’, ‘from_derivatives’, ‘pchip’, ‘akima’  \n",
    "\n",
    "As a first pass, linear interpolation is a significant improvement over replacing missing values with mean. Interpolation is useful where short gaps in data are surrounded by sensible and accurate data. Longer gaps are likely to omit a range of value movements for the missing data. Higher order polynomial data fitting can be useful but also carries the risk of missing events in the missing data. "
   ]
  },
  {
   "cell_type": "code",
   "execution_count": 12,
   "metadata": {},
   "outputs": [
    {
     "data": {
      "application/javascript": [
       "/* Put everything inside the global mpl namespace */\n",
       "window.mpl = {};\n",
       "\n",
       "\n",
       "mpl.get_websocket_type = function() {\n",
       "    if (typeof(WebSocket) !== 'undefined') {\n",
       "        return WebSocket;\n",
       "    } else if (typeof(MozWebSocket) !== 'undefined') {\n",
       "        return MozWebSocket;\n",
       "    } else {\n",
       "        alert('Your browser does not have WebSocket support.' +\n",
       "              'Please try Chrome, Safari or Firefox ≥ 6. ' +\n",
       "              'Firefox 4 and 5 are also supported but you ' +\n",
       "              'have to enable WebSockets in about:config.');\n",
       "    };\n",
       "}\n",
       "\n",
       "mpl.figure = function(figure_id, websocket, ondownload, parent_element) {\n",
       "    this.id = figure_id;\n",
       "\n",
       "    this.ws = websocket;\n",
       "\n",
       "    this.supports_binary = (this.ws.binaryType != undefined);\n",
       "\n",
       "    if (!this.supports_binary) {\n",
       "        var warnings = document.getElementById(\"mpl-warnings\");\n",
       "        if (warnings) {\n",
       "            warnings.style.display = 'block';\n",
       "            warnings.textContent = (\n",
       "                \"This browser does not support binary websocket messages. \" +\n",
       "                    \"Performance may be slow.\");\n",
       "        }\n",
       "    }\n",
       "\n",
       "    this.imageObj = new Image();\n",
       "\n",
       "    this.context = undefined;\n",
       "    this.message = undefined;\n",
       "    this.canvas = undefined;\n",
       "    this.rubberband_canvas = undefined;\n",
       "    this.rubberband_context = undefined;\n",
       "    this.format_dropdown = undefined;\n",
       "\n",
       "    this.image_mode = 'full';\n",
       "\n",
       "    this.root = $('<div/>');\n",
       "    this._root_extra_style(this.root)\n",
       "    this.root.attr('style', 'display: inline-block');\n",
       "\n",
       "    $(parent_element).append(this.root);\n",
       "\n",
       "    this._init_header(this);\n",
       "    this._init_canvas(this);\n",
       "    this._init_toolbar(this);\n",
       "\n",
       "    var fig = this;\n",
       "\n",
       "    this.waiting = false;\n",
       "\n",
       "    this.ws.onopen =  function () {\n",
       "            fig.send_message(\"supports_binary\", {value: fig.supports_binary});\n",
       "            fig.send_message(\"send_image_mode\", {});\n",
       "            if (mpl.ratio != 1) {\n",
       "                fig.send_message(\"set_dpi_ratio\", {'dpi_ratio': mpl.ratio});\n",
       "            }\n",
       "            fig.send_message(\"refresh\", {});\n",
       "        }\n",
       "\n",
       "    this.imageObj.onload = function() {\n",
       "            if (fig.image_mode == 'full') {\n",
       "                // Full images could contain transparency (where diff images\n",
       "                // almost always do), so we need to clear the canvas so that\n",
       "                // there is no ghosting.\n",
       "                fig.context.clearRect(0, 0, fig.canvas.width, fig.canvas.height);\n",
       "            }\n",
       "            fig.context.drawImage(fig.imageObj, 0, 0);\n",
       "        };\n",
       "\n",
       "    this.imageObj.onunload = function() {\n",
       "        this.ws.close();\n",
       "    }\n",
       "\n",
       "    this.ws.onmessage = this._make_on_message_function(this);\n",
       "\n",
       "    this.ondownload = ondownload;\n",
       "}\n",
       "\n",
       "mpl.figure.prototype._init_header = function() {\n",
       "    var titlebar = $(\n",
       "        '<div class=\"ui-dialog-titlebar ui-widget-header ui-corner-all ' +\n",
       "        'ui-helper-clearfix\"/>');\n",
       "    var titletext = $(\n",
       "        '<div class=\"ui-dialog-title\" style=\"width: 100%; ' +\n",
       "        'text-align: center; padding: 3px;\"/>');\n",
       "    titlebar.append(titletext)\n",
       "    this.root.append(titlebar);\n",
       "    this.header = titletext[0];\n",
       "}\n",
       "\n",
       "\n",
       "\n",
       "mpl.figure.prototype._canvas_extra_style = function(canvas_div) {\n",
       "\n",
       "}\n",
       "\n",
       "\n",
       "mpl.figure.prototype._root_extra_style = function(canvas_div) {\n",
       "\n",
       "}\n",
       "\n",
       "mpl.figure.prototype._init_canvas = function() {\n",
       "    var fig = this;\n",
       "\n",
       "    var canvas_div = $('<div/>');\n",
       "\n",
       "    canvas_div.attr('style', 'position: relative; clear: both; outline: 0');\n",
       "\n",
       "    function canvas_keyboard_event(event) {\n",
       "        return fig.key_event(event, event['data']);\n",
       "    }\n",
       "\n",
       "    canvas_div.keydown('key_press', canvas_keyboard_event);\n",
       "    canvas_div.keyup('key_release', canvas_keyboard_event);\n",
       "    this.canvas_div = canvas_div\n",
       "    this._canvas_extra_style(canvas_div)\n",
       "    this.root.append(canvas_div);\n",
       "\n",
       "    var canvas = $('<canvas/>');\n",
       "    canvas.addClass('mpl-canvas');\n",
       "    canvas.attr('style', \"left: 0; top: 0; z-index: 0; outline: 0\")\n",
       "\n",
       "    this.canvas = canvas[0];\n",
       "    this.context = canvas[0].getContext(\"2d\");\n",
       "\n",
       "    var backingStore = this.context.backingStorePixelRatio ||\n",
       "\tthis.context.webkitBackingStorePixelRatio ||\n",
       "\tthis.context.mozBackingStorePixelRatio ||\n",
       "\tthis.context.msBackingStorePixelRatio ||\n",
       "\tthis.context.oBackingStorePixelRatio ||\n",
       "\tthis.context.backingStorePixelRatio || 1;\n",
       "\n",
       "    mpl.ratio = (window.devicePixelRatio || 1) / backingStore;\n",
       "\n",
       "    var rubberband = $('<canvas/>');\n",
       "    rubberband.attr('style', \"position: absolute; left: 0; top: 0; z-index: 1;\")\n",
       "\n",
       "    var pass_mouse_events = true;\n",
       "\n",
       "    canvas_div.resizable({\n",
       "        start: function(event, ui) {\n",
       "            pass_mouse_events = false;\n",
       "        },\n",
       "        resize: function(event, ui) {\n",
       "            fig.request_resize(ui.size.width, ui.size.height);\n",
       "        },\n",
       "        stop: function(event, ui) {\n",
       "            pass_mouse_events = true;\n",
       "            fig.request_resize(ui.size.width, ui.size.height);\n",
       "        },\n",
       "    });\n",
       "\n",
       "    function mouse_event_fn(event) {\n",
       "        if (pass_mouse_events)\n",
       "            return fig.mouse_event(event, event['data']);\n",
       "    }\n",
       "\n",
       "    rubberband.mousedown('button_press', mouse_event_fn);\n",
       "    rubberband.mouseup('button_release', mouse_event_fn);\n",
       "    // Throttle sequential mouse events to 1 every 20ms.\n",
       "    rubberband.mousemove('motion_notify', mouse_event_fn);\n",
       "\n",
       "    rubberband.mouseenter('figure_enter', mouse_event_fn);\n",
       "    rubberband.mouseleave('figure_leave', mouse_event_fn);\n",
       "\n",
       "    canvas_div.on(\"wheel\", function (event) {\n",
       "        event = event.originalEvent;\n",
       "        event['data'] = 'scroll'\n",
       "        if (event.deltaY < 0) {\n",
       "            event.step = 1;\n",
       "        } else {\n",
       "            event.step = -1;\n",
       "        }\n",
       "        mouse_event_fn(event);\n",
       "    });\n",
       "\n",
       "    canvas_div.append(canvas);\n",
       "    canvas_div.append(rubberband);\n",
       "\n",
       "    this.rubberband = rubberband;\n",
       "    this.rubberband_canvas = rubberband[0];\n",
       "    this.rubberband_context = rubberband[0].getContext(\"2d\");\n",
       "    this.rubberband_context.strokeStyle = \"#000000\";\n",
       "\n",
       "    this._resize_canvas = function(width, height) {\n",
       "        // Keep the size of the canvas, canvas container, and rubber band\n",
       "        // canvas in synch.\n",
       "        canvas_div.css('width', width)\n",
       "        canvas_div.css('height', height)\n",
       "\n",
       "        canvas.attr('width', width * mpl.ratio);\n",
       "        canvas.attr('height', height * mpl.ratio);\n",
       "        canvas.attr('style', 'width: ' + width + 'px; height: ' + height + 'px;');\n",
       "\n",
       "        rubberband.attr('width', width);\n",
       "        rubberband.attr('height', height);\n",
       "    }\n",
       "\n",
       "    // Set the figure to an initial 600x600px, this will subsequently be updated\n",
       "    // upon first draw.\n",
       "    this._resize_canvas(600, 600);\n",
       "\n",
       "    // Disable right mouse context menu.\n",
       "    $(this.rubberband_canvas).bind(\"contextmenu\",function(e){\n",
       "        return false;\n",
       "    });\n",
       "\n",
       "    function set_focus () {\n",
       "        canvas.focus();\n",
       "        canvas_div.focus();\n",
       "    }\n",
       "\n",
       "    window.setTimeout(set_focus, 100);\n",
       "}\n",
       "\n",
       "mpl.figure.prototype._init_toolbar = function() {\n",
       "    var fig = this;\n",
       "\n",
       "    var nav_element = $('<div/>')\n",
       "    nav_element.attr('style', 'width: 100%');\n",
       "    this.root.append(nav_element);\n",
       "\n",
       "    // Define a callback function for later on.\n",
       "    function toolbar_event(event) {\n",
       "        return fig.toolbar_button_onclick(event['data']);\n",
       "    }\n",
       "    function toolbar_mouse_event(event) {\n",
       "        return fig.toolbar_button_onmouseover(event['data']);\n",
       "    }\n",
       "\n",
       "    for(var toolbar_ind in mpl.toolbar_items) {\n",
       "        var name = mpl.toolbar_items[toolbar_ind][0];\n",
       "        var tooltip = mpl.toolbar_items[toolbar_ind][1];\n",
       "        var image = mpl.toolbar_items[toolbar_ind][2];\n",
       "        var method_name = mpl.toolbar_items[toolbar_ind][3];\n",
       "\n",
       "        if (!name) {\n",
       "            // put a spacer in here.\n",
       "            continue;\n",
       "        }\n",
       "        var button = $('<button/>');\n",
       "        button.addClass('ui-button ui-widget ui-state-default ui-corner-all ' +\n",
       "                        'ui-button-icon-only');\n",
       "        button.attr('role', 'button');\n",
       "        button.attr('aria-disabled', 'false');\n",
       "        button.click(method_name, toolbar_event);\n",
       "        button.mouseover(tooltip, toolbar_mouse_event);\n",
       "\n",
       "        var icon_img = $('<span/>');\n",
       "        icon_img.addClass('ui-button-icon-primary ui-icon');\n",
       "        icon_img.addClass(image);\n",
       "        icon_img.addClass('ui-corner-all');\n",
       "\n",
       "        var tooltip_span = $('<span/>');\n",
       "        tooltip_span.addClass('ui-button-text');\n",
       "        tooltip_span.html(tooltip);\n",
       "\n",
       "        button.append(icon_img);\n",
       "        button.append(tooltip_span);\n",
       "\n",
       "        nav_element.append(button);\n",
       "    }\n",
       "\n",
       "    var fmt_picker_span = $('<span/>');\n",
       "\n",
       "    var fmt_picker = $('<select/>');\n",
       "    fmt_picker.addClass('mpl-toolbar-option ui-widget ui-widget-content');\n",
       "    fmt_picker_span.append(fmt_picker);\n",
       "    nav_element.append(fmt_picker_span);\n",
       "    this.format_dropdown = fmt_picker[0];\n",
       "\n",
       "    for (var ind in mpl.extensions) {\n",
       "        var fmt = mpl.extensions[ind];\n",
       "        var option = $(\n",
       "            '<option/>', {selected: fmt === mpl.default_extension}).html(fmt);\n",
       "        fmt_picker.append(option)\n",
       "    }\n",
       "\n",
       "    // Add hover states to the ui-buttons\n",
       "    $( \".ui-button\" ).hover(\n",
       "        function() { $(this).addClass(\"ui-state-hover\");},\n",
       "        function() { $(this).removeClass(\"ui-state-hover\");}\n",
       "    );\n",
       "\n",
       "    var status_bar = $('<span class=\"mpl-message\"/>');\n",
       "    nav_element.append(status_bar);\n",
       "    this.message = status_bar[0];\n",
       "}\n",
       "\n",
       "mpl.figure.prototype.request_resize = function(x_pixels, y_pixels) {\n",
       "    // Request matplotlib to resize the figure. Matplotlib will then trigger a resize in the client,\n",
       "    // which will in turn request a refresh of the image.\n",
       "    this.send_message('resize', {'width': x_pixels, 'height': y_pixels});\n",
       "}\n",
       "\n",
       "mpl.figure.prototype.send_message = function(type, properties) {\n",
       "    properties['type'] = type;\n",
       "    properties['figure_id'] = this.id;\n",
       "    this.ws.send(JSON.stringify(properties));\n",
       "}\n",
       "\n",
       "mpl.figure.prototype.send_draw_message = function() {\n",
       "    if (!this.waiting) {\n",
       "        this.waiting = true;\n",
       "        this.ws.send(JSON.stringify({type: \"draw\", figure_id: this.id}));\n",
       "    }\n",
       "}\n",
       "\n",
       "\n",
       "mpl.figure.prototype.handle_save = function(fig, msg) {\n",
       "    var format_dropdown = fig.format_dropdown;\n",
       "    var format = format_dropdown.options[format_dropdown.selectedIndex].value;\n",
       "    fig.ondownload(fig, format);\n",
       "}\n",
       "\n",
       "\n",
       "mpl.figure.prototype.handle_resize = function(fig, msg) {\n",
       "    var size = msg['size'];\n",
       "    if (size[0] != fig.canvas.width || size[1] != fig.canvas.height) {\n",
       "        fig._resize_canvas(size[0], size[1]);\n",
       "        fig.send_message(\"refresh\", {});\n",
       "    };\n",
       "}\n",
       "\n",
       "mpl.figure.prototype.handle_rubberband = function(fig, msg) {\n",
       "    var x0 = msg['x0'] / mpl.ratio;\n",
       "    var y0 = (fig.canvas.height - msg['y0']) / mpl.ratio;\n",
       "    var x1 = msg['x1'] / mpl.ratio;\n",
       "    var y1 = (fig.canvas.height - msg['y1']) / mpl.ratio;\n",
       "    x0 = Math.floor(x0) + 0.5;\n",
       "    y0 = Math.floor(y0) + 0.5;\n",
       "    x1 = Math.floor(x1) + 0.5;\n",
       "    y1 = Math.floor(y1) + 0.5;\n",
       "    var min_x = Math.min(x0, x1);\n",
       "    var min_y = Math.min(y0, y1);\n",
       "    var width = Math.abs(x1 - x0);\n",
       "    var height = Math.abs(y1 - y0);\n",
       "\n",
       "    fig.rubberband_context.clearRect(\n",
       "        0, 0, fig.canvas.width, fig.canvas.height);\n",
       "\n",
       "    fig.rubberband_context.strokeRect(min_x, min_y, width, height);\n",
       "}\n",
       "\n",
       "mpl.figure.prototype.handle_figure_label = function(fig, msg) {\n",
       "    // Updates the figure title.\n",
       "    fig.header.textContent = msg['label'];\n",
       "}\n",
       "\n",
       "mpl.figure.prototype.handle_cursor = function(fig, msg) {\n",
       "    var cursor = msg['cursor'];\n",
       "    switch(cursor)\n",
       "    {\n",
       "    case 0:\n",
       "        cursor = 'pointer';\n",
       "        break;\n",
       "    case 1:\n",
       "        cursor = 'default';\n",
       "        break;\n",
       "    case 2:\n",
       "        cursor = 'crosshair';\n",
       "        break;\n",
       "    case 3:\n",
       "        cursor = 'move';\n",
       "        break;\n",
       "    }\n",
       "    fig.rubberband_canvas.style.cursor = cursor;\n",
       "}\n",
       "\n",
       "mpl.figure.prototype.handle_message = function(fig, msg) {\n",
       "    fig.message.textContent = msg['message'];\n",
       "}\n",
       "\n",
       "mpl.figure.prototype.handle_draw = function(fig, msg) {\n",
       "    // Request the server to send over a new figure.\n",
       "    fig.send_draw_message();\n",
       "}\n",
       "\n",
       "mpl.figure.prototype.handle_image_mode = function(fig, msg) {\n",
       "    fig.image_mode = msg['mode'];\n",
       "}\n",
       "\n",
       "mpl.figure.prototype.updated_canvas_event = function() {\n",
       "    // Called whenever the canvas gets updated.\n",
       "    this.send_message(\"ack\", {});\n",
       "}\n",
       "\n",
       "// A function to construct a web socket function for onmessage handling.\n",
       "// Called in the figure constructor.\n",
       "mpl.figure.prototype._make_on_message_function = function(fig) {\n",
       "    return function socket_on_message(evt) {\n",
       "        if (evt.data instanceof Blob) {\n",
       "            /* FIXME: We get \"Resource interpreted as Image but\n",
       "             * transferred with MIME type text/plain:\" errors on\n",
       "             * Chrome.  But how to set the MIME type?  It doesn't seem\n",
       "             * to be part of the websocket stream */\n",
       "            evt.data.type = \"image/png\";\n",
       "\n",
       "            /* Free the memory for the previous frames */\n",
       "            if (fig.imageObj.src) {\n",
       "                (window.URL || window.webkitURL).revokeObjectURL(\n",
       "                    fig.imageObj.src);\n",
       "            }\n",
       "\n",
       "            fig.imageObj.src = (window.URL || window.webkitURL).createObjectURL(\n",
       "                evt.data);\n",
       "            fig.updated_canvas_event();\n",
       "            fig.waiting = false;\n",
       "            return;\n",
       "        }\n",
       "        else if (typeof evt.data === 'string' && evt.data.slice(0, 21) == \"data:image/png;base64\") {\n",
       "            fig.imageObj.src = evt.data;\n",
       "            fig.updated_canvas_event();\n",
       "            fig.waiting = false;\n",
       "            return;\n",
       "        }\n",
       "\n",
       "        var msg = JSON.parse(evt.data);\n",
       "        var msg_type = msg['type'];\n",
       "\n",
       "        // Call the  \"handle_{type}\" callback, which takes\n",
       "        // the figure and JSON message as its only arguments.\n",
       "        try {\n",
       "            var callback = fig[\"handle_\" + msg_type];\n",
       "        } catch (e) {\n",
       "            console.log(\"No handler for the '\" + msg_type + \"' message type: \", msg);\n",
       "            return;\n",
       "        }\n",
       "\n",
       "        if (callback) {\n",
       "            try {\n",
       "                // console.log(\"Handling '\" + msg_type + \"' message: \", msg);\n",
       "                callback(fig, msg);\n",
       "            } catch (e) {\n",
       "                console.log(\"Exception inside the 'handler_\" + msg_type + \"' callback:\", e, e.stack, msg);\n",
       "            }\n",
       "        }\n",
       "    };\n",
       "}\n",
       "\n",
       "// from http://stackoverflow.com/questions/1114465/getting-mouse-location-in-canvas\n",
       "mpl.findpos = function(e) {\n",
       "    //this section is from http://www.quirksmode.org/js/events_properties.html\n",
       "    var targ;\n",
       "    if (!e)\n",
       "        e = window.event;\n",
       "    if (e.target)\n",
       "        targ = e.target;\n",
       "    else if (e.srcElement)\n",
       "        targ = e.srcElement;\n",
       "    if (targ.nodeType == 3) // defeat Safari bug\n",
       "        targ = targ.parentNode;\n",
       "\n",
       "    // jQuery normalizes the pageX and pageY\n",
       "    // pageX,Y are the mouse positions relative to the document\n",
       "    // offset() returns the position of the element relative to the document\n",
       "    var x = e.pageX - $(targ).offset().left;\n",
       "    var y = e.pageY - $(targ).offset().top;\n",
       "\n",
       "    return {\"x\": x, \"y\": y};\n",
       "};\n",
       "\n",
       "/*\n",
       " * return a copy of an object with only non-object keys\n",
       " * we need this to avoid circular references\n",
       " * http://stackoverflow.com/a/24161582/3208463\n",
       " */\n",
       "function simpleKeys (original) {\n",
       "  return Object.keys(original).reduce(function (obj, key) {\n",
       "    if (typeof original[key] !== 'object')\n",
       "        obj[key] = original[key]\n",
       "    return obj;\n",
       "  }, {});\n",
       "}\n",
       "\n",
       "mpl.figure.prototype.mouse_event = function(event, name) {\n",
       "    var canvas_pos = mpl.findpos(event)\n",
       "\n",
       "    if (name === 'button_press')\n",
       "    {\n",
       "        this.canvas.focus();\n",
       "        this.canvas_div.focus();\n",
       "    }\n",
       "\n",
       "    var x = canvas_pos.x * mpl.ratio;\n",
       "    var y = canvas_pos.y * mpl.ratio;\n",
       "\n",
       "    this.send_message(name, {x: x, y: y, button: event.button,\n",
       "                             step: event.step,\n",
       "                             guiEvent: simpleKeys(event)});\n",
       "\n",
       "    /* This prevents the web browser from automatically changing to\n",
       "     * the text insertion cursor when the button is pressed.  We want\n",
       "     * to control all of the cursor setting manually through the\n",
       "     * 'cursor' event from matplotlib */\n",
       "    event.preventDefault();\n",
       "    return false;\n",
       "}\n",
       "\n",
       "mpl.figure.prototype._key_event_extra = function(event, name) {\n",
       "    // Handle any extra behaviour associated with a key event\n",
       "}\n",
       "\n",
       "mpl.figure.prototype.key_event = function(event, name) {\n",
       "\n",
       "    // Prevent repeat events\n",
       "    if (name == 'key_press')\n",
       "    {\n",
       "        if (event.which === this._key)\n",
       "            return;\n",
       "        else\n",
       "            this._key = event.which;\n",
       "    }\n",
       "    if (name == 'key_release')\n",
       "        this._key = null;\n",
       "\n",
       "    var value = '';\n",
       "    if (event.ctrlKey && event.which != 17)\n",
       "        value += \"ctrl+\";\n",
       "    if (event.altKey && event.which != 18)\n",
       "        value += \"alt+\";\n",
       "    if (event.shiftKey && event.which != 16)\n",
       "        value += \"shift+\";\n",
       "\n",
       "    value += 'k';\n",
       "    value += event.which.toString();\n",
       "\n",
       "    this._key_event_extra(event, name);\n",
       "\n",
       "    this.send_message(name, {key: value,\n",
       "                             guiEvent: simpleKeys(event)});\n",
       "    return false;\n",
       "}\n",
       "\n",
       "mpl.figure.prototype.toolbar_button_onclick = function(name) {\n",
       "    if (name == 'download') {\n",
       "        this.handle_save(this, null);\n",
       "    } else {\n",
       "        this.send_message(\"toolbar_button\", {name: name});\n",
       "    }\n",
       "};\n",
       "\n",
       "mpl.figure.prototype.toolbar_button_onmouseover = function(tooltip) {\n",
       "    this.message.textContent = tooltip;\n",
       "};\n",
       "mpl.toolbar_items = [[\"Home\", \"Reset original view\", \"fa fa-home icon-home\", \"home\"], [\"Back\", \"Back to  previous view\", \"fa fa-arrow-left icon-arrow-left\", \"back\"], [\"Forward\", \"Forward to next view\", \"fa fa-arrow-right icon-arrow-right\", \"forward\"], [\"\", \"\", \"\", \"\"], [\"Pan\", \"Pan axes with left mouse, zoom with right\", \"fa fa-arrows icon-move\", \"pan\"], [\"Zoom\", \"Zoom to rectangle\", \"fa fa-square-o icon-check-empty\", \"zoom\"], [\"\", \"\", \"\", \"\"], [\"Download\", \"Download plot\", \"fa fa-floppy-o icon-save\", \"download\"]];\n",
       "\n",
       "mpl.extensions = [\"eps\", \"jpeg\", \"pdf\", \"png\", \"ps\", \"raw\", \"svg\", \"tif\"];\n",
       "\n",
       "mpl.default_extension = \"png\";var comm_websocket_adapter = function(comm) {\n",
       "    // Create a \"websocket\"-like object which calls the given IPython comm\n",
       "    // object with the appropriate methods. Currently this is a non binary\n",
       "    // socket, so there is still some room for performance tuning.\n",
       "    var ws = {};\n",
       "\n",
       "    ws.close = function() {\n",
       "        comm.close()\n",
       "    };\n",
       "    ws.send = function(m) {\n",
       "        //console.log('sending', m);\n",
       "        comm.send(m);\n",
       "    };\n",
       "    // Register the callback with on_msg.\n",
       "    comm.on_msg(function(msg) {\n",
       "        //console.log('receiving', msg['content']['data'], msg);\n",
       "        // Pass the mpl event to the overriden (by mpl) onmessage function.\n",
       "        ws.onmessage(msg['content']['data'])\n",
       "    });\n",
       "    return ws;\n",
       "}\n",
       "\n",
       "mpl.mpl_figure_comm = function(comm, msg) {\n",
       "    // This is the function which gets called when the mpl process\n",
       "    // starts-up an IPython Comm through the \"matplotlib\" channel.\n",
       "\n",
       "    var id = msg.content.data.id;\n",
       "    // Get hold of the div created by the display call when the Comm\n",
       "    // socket was opened in Python.\n",
       "    var element = $(\"#\" + id);\n",
       "    var ws_proxy = comm_websocket_adapter(comm)\n",
       "\n",
       "    function ondownload(figure, format) {\n",
       "        window.open(figure.imageObj.src);\n",
       "    }\n",
       "\n",
       "    var fig = new mpl.figure(id, ws_proxy,\n",
       "                           ondownload,\n",
       "                           element.get(0));\n",
       "\n",
       "    // Call onopen now - mpl needs it, as it is assuming we've passed it a real\n",
       "    // web socket which is closed, not our websocket->open comm proxy.\n",
       "    ws_proxy.onopen();\n",
       "\n",
       "    fig.parent_element = element.get(0);\n",
       "    fig.cell_info = mpl.find_output_cell(\"<div id='\" + id + \"'></div>\");\n",
       "    if (!fig.cell_info) {\n",
       "        console.error(\"Failed to find cell for figure\", id, fig);\n",
       "        return;\n",
       "    }\n",
       "\n",
       "    var output_index = fig.cell_info[2]\n",
       "    var cell = fig.cell_info[0];\n",
       "\n",
       "};\n",
       "\n",
       "mpl.figure.prototype.handle_close = function(fig, msg) {\n",
       "    var width = fig.canvas.width/mpl.ratio\n",
       "    fig.root.unbind('remove')\n",
       "\n",
       "    // Update the output cell to use the data from the current canvas.\n",
       "    fig.push_to_output();\n",
       "    var dataURL = fig.canvas.toDataURL();\n",
       "    // Re-enable the keyboard manager in IPython - without this line, in FF,\n",
       "    // the notebook keyboard shortcuts fail.\n",
       "    IPython.keyboard_manager.enable()\n",
       "    $(fig.parent_element).html('<img src=\"' + dataURL + '\" width=\"' + width + '\">');\n",
       "    fig.close_ws(fig, msg);\n",
       "}\n",
       "\n",
       "mpl.figure.prototype.close_ws = function(fig, msg){\n",
       "    fig.send_message('closing', msg);\n",
       "    // fig.ws.close()\n",
       "}\n",
       "\n",
       "mpl.figure.prototype.push_to_output = function(remove_interactive) {\n",
       "    // Turn the data on the canvas into data in the output cell.\n",
       "    var width = this.canvas.width/mpl.ratio\n",
       "    var dataURL = this.canvas.toDataURL();\n",
       "    this.cell_info[1]['text/html'] = '<img src=\"' + dataURL + '\" width=\"' + width + '\">';\n",
       "}\n",
       "\n",
       "mpl.figure.prototype.updated_canvas_event = function() {\n",
       "    // Tell IPython that the notebook contents must change.\n",
       "    IPython.notebook.set_dirty(true);\n",
       "    this.send_message(\"ack\", {});\n",
       "    var fig = this;\n",
       "    // Wait a second, then push the new image to the DOM so\n",
       "    // that it is saved nicely (might be nice to debounce this).\n",
       "    setTimeout(function () { fig.push_to_output() }, 1000);\n",
       "}\n",
       "\n",
       "mpl.figure.prototype._init_toolbar = function() {\n",
       "    var fig = this;\n",
       "\n",
       "    var nav_element = $('<div/>')\n",
       "    nav_element.attr('style', 'width: 100%');\n",
       "    this.root.append(nav_element);\n",
       "\n",
       "    // Define a callback function for later on.\n",
       "    function toolbar_event(event) {\n",
       "        return fig.toolbar_button_onclick(event['data']);\n",
       "    }\n",
       "    function toolbar_mouse_event(event) {\n",
       "        return fig.toolbar_button_onmouseover(event['data']);\n",
       "    }\n",
       "\n",
       "    for(var toolbar_ind in mpl.toolbar_items){\n",
       "        var name = mpl.toolbar_items[toolbar_ind][0];\n",
       "        var tooltip = mpl.toolbar_items[toolbar_ind][1];\n",
       "        var image = mpl.toolbar_items[toolbar_ind][2];\n",
       "        var method_name = mpl.toolbar_items[toolbar_ind][3];\n",
       "\n",
       "        if (!name) { continue; };\n",
       "\n",
       "        var button = $('<button class=\"btn btn-default\" href=\"#\" title=\"' + name + '\"><i class=\"fa ' + image + ' fa-lg\"></i></button>');\n",
       "        button.click(method_name, toolbar_event);\n",
       "        button.mouseover(tooltip, toolbar_mouse_event);\n",
       "        nav_element.append(button);\n",
       "    }\n",
       "\n",
       "    // Add the status bar.\n",
       "    var status_bar = $('<span class=\"mpl-message\" style=\"text-align:right; float: right;\"/>');\n",
       "    nav_element.append(status_bar);\n",
       "    this.message = status_bar[0];\n",
       "\n",
       "    // Add the close button to the window.\n",
       "    var buttongrp = $('<div class=\"btn-group inline pull-right\"></div>');\n",
       "    var button = $('<button class=\"btn btn-mini btn-primary\" href=\"#\" title=\"Stop Interaction\"><i class=\"fa fa-power-off icon-remove icon-large\"></i></button>');\n",
       "    button.click(function (evt) { fig.handle_close(fig, {}); } );\n",
       "    button.mouseover('Stop Interaction', toolbar_mouse_event);\n",
       "    buttongrp.append(button);\n",
       "    var titlebar = this.root.find($('.ui-dialog-titlebar'));\n",
       "    titlebar.prepend(buttongrp);\n",
       "}\n",
       "\n",
       "mpl.figure.prototype._root_extra_style = function(el){\n",
       "    var fig = this\n",
       "    el.on(\"remove\", function(){\n",
       "\tfig.close_ws(fig, {});\n",
       "    });\n",
       "}\n",
       "\n",
       "mpl.figure.prototype._canvas_extra_style = function(el){\n",
       "    // this is important to make the div 'focusable\n",
       "    el.attr('tabindex', 0)\n",
       "    // reach out to IPython and tell the keyboard manager to turn it's self\n",
       "    // off when our div gets focus\n",
       "\n",
       "    // location in version 3\n",
       "    if (IPython.notebook.keyboard_manager) {\n",
       "        IPython.notebook.keyboard_manager.register_events(el);\n",
       "    }\n",
       "    else {\n",
       "        // location in version 2\n",
       "        IPython.keyboard_manager.register_events(el);\n",
       "    }\n",
       "\n",
       "}\n",
       "\n",
       "mpl.figure.prototype._key_event_extra = function(event, name) {\n",
       "    var manager = IPython.notebook.keyboard_manager;\n",
       "    if (!manager)\n",
       "        manager = IPython.keyboard_manager;\n",
       "\n",
       "    // Check for shift+enter\n",
       "    if (event.shiftKey && event.which == 13) {\n",
       "        this.canvas_div.blur();\n",
       "        // select the cell after this one\n",
       "        var index = IPython.notebook.find_cell_index(this.cell_info[0]);\n",
       "        IPython.notebook.select(index + 1);\n",
       "    }\n",
       "}\n",
       "\n",
       "mpl.figure.prototype.handle_save = function(fig, msg) {\n",
       "    fig.ondownload(fig, null);\n",
       "}\n",
       "\n",
       "\n",
       "mpl.find_output_cell = function(html_output) {\n",
       "    // Return the cell and output element which can be found *uniquely* in the notebook.\n",
       "    // Note - this is a bit hacky, but it is done because the \"notebook_saving.Notebook\"\n",
       "    // IPython event is triggered only after the cells have been serialised, which for\n",
       "    // our purposes (turning an active figure into a static one), is too late.\n",
       "    var cells = IPython.notebook.get_cells();\n",
       "    var ncells = cells.length;\n",
       "    for (var i=0; i<ncells; i++) {\n",
       "        var cell = cells[i];\n",
       "        if (cell.cell_type === 'code'){\n",
       "            for (var j=0; j<cell.output_area.outputs.length; j++) {\n",
       "                var data = cell.output_area.outputs[j];\n",
       "                if (data.data) {\n",
       "                    // IPython >= 3 moved mimebundle to data attribute of output\n",
       "                    data = data.data;\n",
       "                }\n",
       "                if (data['text/html'] == html_output) {\n",
       "                    return [cell, data, j];\n",
       "                }\n",
       "            }\n",
       "        }\n",
       "    }\n",
       "}\n",
       "\n",
       "// Register the function which deals with the matplotlib target/channel.\n",
       "// The kernel may be null if the page has been refreshed.\n",
       "if (IPython.notebook.kernel != null) {\n",
       "    IPython.notebook.kernel.comm_manager.register_target('matplotlib', mpl.mpl_figure_comm);\n",
       "}\n"
      ],
      "text/plain": [
       "<IPython.core.display.Javascript object>"
      ]
     },
     "metadata": {},
     "output_type": "display_data"
    },
    {
     "data": {
      "text/html": [
       "<img src=\"data:image/png;base64,iVBORw0KGgoAAAANSUhEUgAAAtAAAAIcCAYAAADffZlTAAAgAElEQVR4XuydCZhcVZn+33O76awsIUQQUAR0cB0WGdlkxAWVmSECqVsZBUZww2VEFsWELQn7KuK44eiMGYmBvhWDIMMIw4gLAn/FFXFEkUVQYlgmrKbTuef/vF11SaVS1efUudXddavf8zx5knR/99xzfue9p9576rvnGqiIgAiIgAiIgAiIgAiIgAh4EzDekQoUAREQAREQAREQAREQARGADLREIAIiIAIiIAIiIAIiIAJtEJCBbgOWQkVABERABERABERABERABloaEAEREAEREAEREAEREIE2CMhAtwFLoSIgAiIgAiIgAiIgAiIgAy0NiIAIiIAIiIAIiIAIiEAbBGSg24ClUBEQAREQAREQAREQARGQgZYGREAEREAEREAEREAERKANAjLQbcBSqAiIgAiIgAiIgAiIgAjIQEsDIiACIiACIiACIiACItAGARnoNmApVAREQAREQAREQAREQARkoKUBERABERABERABERABEWiDgAx0G7AUKgIiIAIiIAIiIAIiIAIy0NKACIiACIiACIiACIiACLRBQAa6DVgKFQEREAEREAEREAEREAEZaGlABERABERABERABERABNogIAPdBiyFioAIiIAIiIAIiIAIiIAMtDQgAiIgAiIgAiIgAiIgAm0QkIFuA5ZCRUAEREAEREAEREAEREAGWhoQAREQAREQAREQAREQgTYIyEC3AUuhIiACIiACIiACIiACIiADLQ2IgAiIgAiIgAiIgAiIQBsEZKDbgKVQERABERABERABERABEZCBlgZEQAREQAREQAREQAREoA0CMtBtwFKoCIiACIiACIiACIiACMhASwMiIAIiIAIiIAIiIAIi0AYBGeg2YClUBERABERABERABERABGSgpQEREAEREAEREAEREAERaIOADHQbsBQqAiIgAiIgAiIgAiIgAjLQ0oAIiIAIiIAIiIAIiIAItEFABroNWAoVAREQAREQAREQAREQARloaUAEREAEREAEREAEREAE2iAgA90GLIWKgAiIgAiIgAiIgAiIgAy0NCACIiACIiACIiACIiACbRCQgW4DlkJFQAREQAREQAREQAREQAZaGhABERABERABERABERCBNgjIQLcBS6EiIAIiIAIiIAIiIAIiIAMtDYiACIiACIiACIiACIhAGwRkoNuApVAREAEREAEREAEREAERkIGWBiYbgVsAvKGh08MAHgfwMwBLASwHYMcQTLM2+JxuZwD3+wSOc8wlAE4G8AkA/HcnyosBPADgOwDeVKvwuNrY/TWAFwCYBeBZAPcAuBbAZwCsaXLy3QG8A8CBAHYBsD2AdQB+Wzvu0y2OY1U89/4AXlv786Ja/X8D4McBHeWcuwrAHACHA7imSR1bAngMQB+A6wH8Q4vzXA2gDOCLAD7UJGZHAB8B8FYALwGwea3enwNYCeDfAQwF9KH+kJcBOB3Am2t9ehTA/wA4F8D/Nql7NoDDALwFwKsBsI3TAfwRwPcBXA7gzjbaNB/AVbX40Vg1VrkNgIcBDNT43ORxzv8EcAiALwD4sEd8EUKoYWo7VM9F6KPaKAJjQkAGekywqtIuJpCZV5oIGmYWfoC/BsDLa/9PAPwjgHSM+rGg7lz1p3h37T/fBvBIk3N/HAANSkiZCeApAM8A4L87WcbCQJ8E4NKaAfx8rbG/qxnBX9XMD83ydjWDSyP0EIA3AmBcffk/ADSlf6mZsz/UDPi+tbHncTR0v2kChXXt2uTneQzHIIC4Zvg/1qTuuQC+Wfv5kwC2BrC+SRyNOG8kaKKp2fryzwAuBjAVwBMAbgPAungDsA+AfgC/r5n4XwSK4SAANJXTANwFgOPyCgC8wSFrGv+bG+rmzUrWZ9748Dh+Du0FYKfaNXdijY2rWS+sHc8bKdbRjoFm3dk40IC/03EyGn3e0EU1w/kTV+O64Pc+16UMdBcMlJpQTAIy0MUcN7U6nEBmoJcAWNxQzUfrPrjfU1uhCz9T+0dmq940gWxnJ0vRDPStAGhwaVz+VANxAACaPd4I1Jdta+aJK2lc/eRqaH35IYAvAagAeLruFzsA+AaA1wHgDdUeTYBzVXs1ABomrozS8HEVNY+B/mBtFfOXNbPZeNrLAJxQOyeNJQ3v/2sIelWtLdQMTXT9jRVvtGieeQN4Wu1GhCvuWWG//7W2mkpTzfqbrRaPpr8tajcqXElvvJYWAjivttr9UgC8gcnK2QCm1Maj/kaHq+1nAFhUazfHxLUS/S0ABwP4KoAPBBhorszzZnUtAJpx3mi0KlxlZ9t/WjP7nbw2x6ouHwPNmxbeAPGbLd70qIiACHgSkIH2BKWwniEwmoFmJ79X+6qfH6xvH+dey0BXgTPFgqvCNNFMu/Ap/Gqdq6FkSENAU5QVznOtUnK4Ynp3LXDPum8lWp2TRjWvgf6r2mo320TzT4NeX/jNCGOOraUn0JBe0BDDFeZ/qd1QMEUlK7wJ4KoiDSnTN7LV+8b+cAWaGmeKCm8e2Pd20pYyk84bGp6z8dgfAdgbwKkAzvccC4bdXjP0TOXgTUSr8l4AX66Zbhp0smh3BZq64Co801t48/zZFidjHM0+039GY+qj0/GM8THQ49kenUsEeoqADHRPDac640HAZaA/BYBfIfPr/Cyl45jaajTzo/k7rpTxa3aujnLlrn7lkqkCzI9kzu1uNTPHr9ppNJhb/fVR2tiOgaaJo4lhO5gbzdVG5vRylZXmo36lNfsgbXVqriLSGPLrfuaU8saBhopGdjMATHlgjuiFAB5sUsloH9T8avx9AGjyyIarxzSMTCngqjBXhxtL9k0AWfMrf5+SrSYyp3cGAOa1+xbmUdN0k+V1joM6YaB5Ct4gcCW4Mf2C40o+zP1mmgfPR/Zva2jXCgBH1PiQU1ayvGgaWK7ijlaYv0yd83OAeclZ2ogPN47bfgCYjkRdNBaaX66kcxWZRtq3ML+YK/T8ZmBei4O4asrVe+qdq+eMDzHQrJ7X8lm1GydqvlnhTQZTUZ6rrVQ3y7OvP47XE/OryZUpM83SsRj/FQD8pos3GLzRYOGND1fTjwLAbxmoZd4gcA75Qe0bsuyGrxXT7NumVr//HADegLG0SuHgPEL+1CDPx2/rmLLDun9dG3OmwLC8ssaR35xtVRsXpl/xm4FmhVxYL/vOb404L1DnXLzgjWKWWuerGcWJwIQQkIGeEOw66QQScBlormpxdYuGN1vZyww0V7i4YkmTwweeaLz4dTTNR/ZBwlVQfsDTKNJk8GthGm3mhfLfXO1qVXwNNI35f9fqpdniBw8/ePkBxw8wfuAxjSH74KYpPhTAkTVjuayhAfwwpeHmDQM/HPmBzRsDGmfmh7PtNAJs/9/WUgfqq2hloPlh+MmauefKIs03DQHrYp1MM6ABaywcI56HHNkGV2EOLB8ifH3NBGbj4TqOv+fYZOeg0XOlDXTKQH+tZpIaH0ijKaY5PrOWMkAzwTQI9jFLw+C8zXGnDutNP292OEZk7LtSmn3jQrPDFW+fwjxg6oU3HdQZ02YaC9NtaPjavaGhrlknV4N5I9VY2HeaWY41x4vXabYa3+4KdDb+TF/g9cN0GaZoNBbe9PJGkGP2Tz6AamPIsaT+L2pyDMeI1ycNKb9t4M0AC/Oxeb1yrPkNDNOXaDB5LdBQ82FRPjQ6WuGcdEWND4+hSWZ+elbI+Mraf1wGmjdBvEFh/je1yOuFY8tx4Dx5b23lnzeEZFf/ex7HdtQXPqvAPvIBWmqD5+fNBp8zIH/2+121hQBP1AoTgYkhIAM9Mdx11okjMJqB5ocaDSQNXr2hyAw0W83jOfnX53Xy5zSa/JCiQeYqIHeMqF+potngCg0NdqviY6B5zfKDiuaeOykcXXswkHXSZHEVkWkP/1XLcc3O5ZMDTUPGvOMb68waj6e54Go3DTFXjrkrRX1pZqD5oU+TR7PFVcJGY8qH/5i+wPSB+sJ8XpoGfrDyuGaFq1d/X2tX9hAh+dNwlEZZ8WtWF1McaEr4FT2NjCuNoVMGmmb13xq+6WD7uJJKQ8gxpAHNHrrL/s8Yjj3NDB8s5AOGzGNm4YOw2QOBXNnzedCNNzEcW+Z283ifwnxh7prBQnNPE9VYeA1l31bwmqABcxVqjzed1DhvoHiT2lj4ACKZMFeaK8cseQw0j6fx/jsA9Suz2Xl5TbGv/HaGu/fwhsOnsD7WyxtR3nQ3lmxOYR/ZVxau5HIO4Y5AvDm4r+EgftPEmyQ+fOlTfFI4XAaa52ncXYdzzn/Urm9qkKvN9bvvZH37c+1blvpvg7L8ft5Q84aeKTRZYRoW5zTWyWuRxlpFBLqWgAx01w6NGjZGBJoZ6GwXDhpEruJywqd5ywxI9oHAn/PDsHGXBzY1SzugEclWUtrtgo+B5lf5NMdcAeQHauOuHPzg4Qo0TS9XeflVN4uPgXa1l+aMJotbzNWvDDf7oGbb+OHID0GuSvmW7AG7Vit3rCdb2a6vkyvQNFI+K9bZcfyKOtu9gjtGjHZzkx3TKQPNFcVsS0KmymQPSlI/ZEfjxhU6rqbTVGQr0mxHlh7BBwvrbzKyVAPGkLmPAclymWl2eEPjU7IcbsbSTDdLUWD7aQRZ6nXYqn5uK8f+sO9MDeAqbGPhNy+8eaQpZXpKZszyGuiMMVfvORb1D9NlddO08vy+hdcfbxqYpsMbTt541pds5Z9zC1PDWHiDzdV83kRwlTdv6YSB5nzJdjUWXtscq2a/p6/gTRV/X7+qT62QCXXN9KFM8/V180FNPrDJlBE+nKoiAl1LQAa6a4dGDRsjAq49mLlqzJxd5gBmJTPQo+WV3lDLHeb2a1xlCSk+Bjozj8yn5ledzUrWR67WcRcJlnYMNA0Pv0bnByCP4yoyCz9IaZ6Zb1y/b26zD2oew5U7mjKmxfAreRpw1wov6+WWcvxKt351qlk/+XUwjShXpGm4eU6uatFMuwpTALjSzm8GuJLJFU2f0ikDzXPRZPDBNLaZaQJcfWeuK79i5+4SLFxh5jk5ptl+2PyWgakb1AIfMMwKx4zHsrRroLnvNE2sT+m0gabGOBbMqeYNBM1jtqqetYeGlN8w0JBlqRvZ7/IaaD5QyRsvfpvBa4rXVlZo2PmMw2g3dK2YcScSjg/1//66IK7aM2WDaV48J1PBWMifq/Zc7ebY8lsw39XmZm3ohIFutbc7H0DlPOD6PVPHuFsKC9NfeLPAG1V+g9SsZDcRnAdYv4oIdC0BGeiuHRo1bIwINNsHmitZXH3i1+I0X43bpGUGutXKGJvKVV+uTvNrSK4QhxQfA53lzvJFFVypaVayh5P49fwptQAfA80XbbB+PgA5WmGaBPN0s9Lqg5qGj/mOfKiKhTcnvAlhDivP07hCyhQSrmbSRLV6oKtVu7IPXqbWcHVrtP2yadRoANjfekY+Y+ZjoGnGefPRWLJc8+znWb49x4s3bXygkOk/HFeOb1aoS65+ZqvSNLvMdW+8keGNT5YS45vCkY1dfaoB86e5TV9j4aogV807mcLBtCmmOjA9gukL1AxXwxsLH7Ijk2Yrk3kNNM+V3ZhSm7yBY6FZZ+oR83KZksKbm3ZKZpR5M0BmmVFmP9ifRmPNumngmTec7dVOvd1Ru8Fg3nK2qu/Tjk4YaH4TkD0sWH/O7CFD1+95c5stRnDsfG9Uqfl25wAfJooRgY4RkIHuGEpVVBACrocIm3WjfhcO/rtZ6QUDzb2BaeSY9kETR/PAPObsbXVMJeDX3fUfimQx2gc102OYD0qDROPK1TyuJnKbOeZS1r8AJNuarNFA+kqL5o4r0s1eLJLVUW+e2W6uoLVTfAx0llfaWG+220n2c5olPtDJlXauuGc7UHAFtn53kiwPmuaSZoz1c0xoorkzRFZCHiJkDi5X4+u/0cjMUWP7s72vfR4iZNoCV4xpPmmS6/ehzuqtN8+8fngT1Mw8Mz5jSi6NdTFNgmaV5jJLWeKqvk8KS9YW3nRxtZc3sfxWgFrK8uOpez4QGFK+W8tx5kuSmDdMdkxj4DcE1CJzgRsLx5Urt8x7ZwwfBORnNW9A+fNmueHN2tYJA914rWfnqd+lo/7butF+n6VncOeXZv2u7wMfSmy1QBAyDjpGBDpOQAa640hVYZcTGCsDnaVwtLP1WiMqnxXobKVstLencQs05nIzV5Zb2rH4rEBz5Z1xrdInaKi5KteOgW7sI1MSuPrGV3/zfPzaOjPo2auSuZLf7os9eB6uYPJBLK5I8oGwxkJTx28HuPIcYp5Zn4+B9r0E+PV9lgdK4880Bhqr+h03WFeWo0sDQgPNVXPm0Da+kp6x2dv1fLaxYyoGOfNzYLSbjmb9ybuNHc0zx5sP0NE88+ZgtBXeVjclrVjTEDd7VmG0scmuG6b08DrLdsBguoFPfnyzummcmYpBI81rMtuvnH2mMfYpzMvmTh68KWgnF7vbDDTTWLh1Jb+94rdYKiJQaAIy0IUePjU+gMBYGejsIUKugNFktrMPcdYNHwPteoiQK3E0RY0PETJfmKu+/MMcy8aS/Z77STMvODO1WRw/7JnDzBW0PAaa9bEOrpzynDS83PmEq240UMwNfXXAuNJ4ZtuRNaY2sDqu6vImh+aZ+xY32z7P57SdNNA8X/bNBW8qmDNLE92453OWB03TylVIrui3esiK2uPDeD4vUuG5uOpL/nw4tNnrwlsx8X2RCt+EyH7VF5pnjgVXWJmuw9ztVivPPmPSiRQOnocGlWkSzEPm/tDM1+VKaPaKcZ+2NMbwGxgaceqO1yaNOa+fVrnDrc7BVXa2hYV11n/z0OqYLAe72Yt4smNcu3B0cgWaz0/w25Znaqv8TEVSEYHCEpCBLuzQqeGBBMbKQPNDjWaIH7Z8IIxbo9U/CNXJbeyYH8h8V361zBcuZLmVNKHX1FYmG7exIy6aFKYRtNp6LHuojeaIW1Nlhfm8fBCIZpfFx0BzdZOmlatNjQ+EZVt80aTzIUPmLWcPGLV6oI+rx2w7VwIbv8Jn+5iCwB0p+PUwDXj9DUz9yvNoueM+kuq0geZKOV+8w/SDbHW+/s19WZs45uTPGyB+S9BqmzfG84E3GjXeDNGY8+VAja/y5kogx4G7uXAl22fLu3o+9a/ybjTzvDlhH2iQGl/lXb/yzHxt5huPlq/uMyYuA83V6OwFOdx5pX5P5Pr6eWPJB1/5DQBTl6g3rvpzB5Q8hay5+sqUEKYp8QaSN3yNNw3Zq+t5rTW+VpsaoVba2S0lO4Y3BUyXalbG00Dz/HyYmDn23JWEW31mKTdZ25iGlN1QtavJPGOkY0WgbQIy0G0j0wEFJzBWBppYuIpHg8cPR5pG5oByxXAsX6TCD9T6F6nww58rivxKvHF7sSzHliu95JC9rZCpHvx3lpPLvtDcsB6aCK4UcvWZpoJfQfsYaObVMleTxo3mj3vacoWd6SHZm+nq32KX7SzBPY6zvYzrpcYbBT54SK78YOWqHucvmmfm5tKU8Bw0hfXpH3ypBNvNFUA+KDraDh38cKehqC/8ZoErk1nhw3nctYErp1xJY+ENTLZDRruXBw1dfQ5pq7zYLA86Ox9vlprlFWfn55hypZ2r/Ow3V6/JLsu9ZR+40sqHwFz5qK36xNVrPgDIm0MaIRpTpt9wDGn0uTVgtitIVkdmJvl/mtpWD8VRM75voXQZaN5QZUYty+Nu1adsH27+vj4fut1xrY+nMa7fxo43udxLvrFkGqeeuPsHdwbhOJEpvwHiNwS80Rztbab1dfJmnjeUvAaYQsLrg3Vwq7ysjvE20DTIvI6pO97g8VrnqjS1zFV2aofXKg1/9rKXPOx1rAiMGQEZ6DFDq4q7lMBYGmh2mQaWpot5q1z54gcgDSsNAVdJuctCq+KTwpEdy9xhrhRzxwx+UPLY+ld5N+4kwuO4+ndObQs07irADzOW+ofbmKfJr6+5ws14fujyQT+aMX7wZa/3rTd9zXItyYEvC+FKKT/8udLMFT6aWe4qwLepMYWAhR+YvBGgYeDKdbPCPrI+rmqTK9tMttmDYzTgfDFJ41fbrtca15+r2dfVrteg83ga6WzXhHZln6VncC7mTQy5NUv/yfKgWX+zNI9m5+VX5lyFZEoLbzRourNCQ82t8rJvL9ptdxbP8eLDXlw15Jhw1Zk7WXClnzdgjaXVA4qNce28VbCTBrp+J5NObqWW5eezn61eGc+bGxpH3rDyraC8ZniNclU8e40303PaKVzhZxoNd7TgtwbUWbuv8vZ9SLC+Xa6HDHmjy1d58+aCuuF1yxt+3uhwBZ43Ga5XprfDQbEi0HECMtAdR6oKRUAE2iTA1yRzRaxxX+M2q1G4BwHmV/Nmg6uS9Q+ZehyqEBEQAREQgYyADLS0IAIiMNEEuMsBv1rnV7bt7pww0W0v4vm5FRpz07m6yTc/ct9hFREQAREQgTYIyEC3AUuhIiACItAjBLgSzXxr5qEy97udF3T0CAJ1QwREQATCCchAh7PTkSIgAiIgAiIgAiIgApOQgAz0JBx0dVkEREAEREAEREAERCCcgAx0ODsdKQIiIAIiIAIiIAIiMAkJyEBPwkFXl0VABERABERABERABMIJyECHs9ORIiACIiACIiACIiACk5CADPQ4DLq1lm+D4gsS+MYlFREQAREQAREQARHoZgK78C2mxpjdurmRE9k2GehxoG+t/XOapnOGh5u9YGwcGjDOpxgYGMDQ0NA4n7W7Tycmm46PmDTXrLhIKz6zmXSi68dHJ4wJ0Up/fz+iKFptjHmB73kmW5wM9DiMuLX29qGhoX0effTRcTjbxJ6ir68P2267LVatWoX169dPbGO65OxisulAiElzcYqLtOIzbUknun58dMKYUK1ss802NN53GGP4unWVJgRkoMdBFjLQ4wC5i08ROoF1cZdyN01MZAB8RSSt6KZCWvEl0DmtyEC7mctAuxnljpCBzo2w0BXIAHRuUi+0EDwaL61IKx4yCV5V9Km7yDG6fjp3/chAu68EGWg3o9wRMtC5ERa6Ak3qnZvUCy0Ej8ZLK9KKh0xkoFtA0vXTuetHBtp9JU6YgS6VSrEx5mgAewHYGsD9xpil1trLkiQZeQLNJ6bNuIOMMd9pguXOJEn2rv95HMc7A7gcwJsADFlrrzXGnJQkyeNurBtHyEC3S6y34jWpd25S7y1liIvPeOr6kU58dMIYaaVzWpGBdqtuwgx0HMe3A/gDgJXW2j8C2M8Yc4a19rpKpTKfTfeJaSeuVCplBvq4KIp+UYfn6auvvvqu7P9z587dfMqUKb8EwKf+FhljZlhrLwTwcJIkBwKwbrQbImSg26HVe7Ga1Ds3qfeeOjbukbQirfhoXDppTklcOnf9yEC7r8SJNNBzkiRZ3bDquwDA+QB2SpLkwTiOnTE1A+0VV2egD0yS5Aet8JRKpZONMecB2CVJkocZVyqV9jfG3GqtPbRSqXzLjVYGWrtwVDWgSb1zk3o7110RY6UVacVHt9KJDLSPTvJ8/shAuwlPmIFu1rQ4jg8GcCOA/ZMkuS00pmaqN6nL10DHccw0j+EkSVjH8yWO4/vYviRJjnOjlYGWgZaBbnWdyADIAPjOodKKbiqkFV8CndOKDLSbeVcZ6HK5fLa1dmF/f/92y5cvb7ppsk8Mu90srs5A/xnANkzRsNZ+0xizoD63OY7jVQCWJ0lyQoOBvh7AFrU0DjfdWoRSOLxR9WSgDEDnJvWeFEhdp6QVacVH49KJbkB9dMKYUK3IQLsJd42BjuOYr4u80xizfHBw8P0tVp+dMbXV56Zx8+bN2zOKondaa78H4Ola3vVCPsAIYO/s4cU4joeYwjE4OLi4vh3lcvlKa+2eSZK8ajS0hx122FZTp07dKotZunTpyjRN91izZo17RAoeEUUR5syZg9WrVyNN04L3pjPNF5NNOYpJc22Ji7TiM+tIJ7p+fHTCmFCtzJo1Sy9ScUDuCgN9+OGHz+7v77+VD+cNDAzss2zZsicb2+0Tw2N847L6y+XyobUdNo4eHBy8smbAcxnocrm82Fq7KDvHOeecg9mzZ4/8UREBERABERABERCBAhDQmwhHGaQJN9C1HS9uBrB9Lff5wcb2+sTwGN+4hvpNHMdPWWu/UqlUPlYz0LlSOLQCrRXoeo2FrgAUYHINbqKYaAXNVzzSilblpRVfAp3Tilag3cwn1EAfcsghU2bOnHkDgN0BcGeMuxub7BPDY3zjmiBpZqBv4d7PSZK8tT6eDxFaa2+qVCofcKPdEKEc6HZo9V5saA5a75HY0CMxaT664rIpFzERE9+5UFrpnFaUA+1W3YQZ6DiO+wBUABycpumbV6xYcUdjc31iaivGzrpaoSiVSu8wxlxjrT2qUqksY1y5XP64tfbcvr6+na+66iruUY358+fvm6bpbcaYuYODg9e50cpAaxeOqgY0qXduUm/nuitirLQirfjoVjrRDaiPTvJ8/shAuwlPmIEul8tftNYeZ4w50xhzU31T0zS9l3tE+8TUDK+zLsaVSqWvGWN+C+Bnxphn+RChtfYUAPzZvtlDhEceeeQWQ0NDfJEKd+tgPvN0YwxfpPJIkiQH6EUqrYWliV0GwD3t6KaiFSNdP7p+dP34EJicBtpaC/vDm2F/8WOY2XMQld/rhBU6p8hAO9Fiwgx0HMfc+WKnFk08NkmSr/rE1FagnXXVDPRCY8y7auedBuAha+1KY8ySJEk22iJj/vz5u6Zpyld5HwRgHYDrhoeHT1y5cuVjbqwbRyiFo11ivRUfOoH1FoWNeyMmk9MAhGhaWtFNha9uelkr9rHVSL/2WeBXP63ieNHO6DuTFmX0EspEBtpFFhNnoN1N650IGejeGcuQnoROYCHnKsoxYiID7atVaUUGerJrxT75BNKzTgDWPFFF8cIXwfz13ohKxzrRhF4/MtBOtDLQbkT5I2Sg8zMscg2hE9QBhQYAACAASURBVFiR++xqu5jIQLs0kv1eWpGBnsxasWvXIv2Xs4DfMKsUMKVjYQ5+B0wUeWEJvX5koN14JyyFw9203omQge6dsQzpSegEFnKuohwjJjLQvlqVVmSgJ6tW7OpHkF5yGvD46qp5Lr8X0cHv8MUxEhd6/chAuzHLQLsZ5Y6Qgc6NsNAVhE5ghe60o/FiIgPtq29pRQZ6MmrFPvsM0osWAA8/UDXPbz4UZv77YEx7ti30+pGBdquuvZFw16eIJgRkoCe3LEInsF6mJiYy0L76llZkoCebVkZ22/jXS2B/9P2qeT7meEQHvMUXw0ZxodePDLQbtwy0m1HuCBno3AgLXUHoBFboTmsFOmj4pBWZRR/hSCe9fQOa3noz7FerO2yYt89DNO/dPrJoGhOqFRloN3IZaDej3BEy0LkRFrqC0Ams0J2WgQ4aPmlFBtpHONJJ7xpo+8C91dSNobXAzn+F6JQLYPr7fWQhAx1MKexAGegwbm0dJQPdFq6eC9aHnUyRr6ilFWnFRyvSSW8aaPvEY0jPOxn4v8eB6TMRnf4pmDnb+UiiZUyoVrQC7cYuA+1mlDtCBjo3wkJXEDqBFbrTWoEOGj5pRQbaRzjSSe8ZaDs8jPTck4GH7uPWGYhOPAtmt9f4yGHUmFCtyEC70ctAuxnljpCBzo2w0BWETmCF7rQMdNDwSSsy0D7CkU56y0CPPDS49DOwt9480jHz7o8iev3BPlJwxoRqRQbaiVYvUnEjyh8hA52fYZFrCJ3AitxnV9vFpLcMgGu88/xeWtFNha9+iqqV9IYVsN9YWu3mHvsi+vDCtrera8UolIkMtFt1WoF2M8odIQOdG2GhKwidwArdaa1ABw2ftCKz6CMc6aQ3bkDTm78Fe/3VwFNrqh16xe6Ijl+U66HBRjKhWpGBdl+JMtBuRrkjZKBzIyx0BaETWKE7LQMdNHzSigy0j3Ckk+Ib6JHdNs45cUNHtt4G0Rmfhpm5hY8EvGNCtSID7UYsA+1mlDtCBjo3wkJXEDqBFbrTMtBBwyetyED7CEc6KbaBtul6pBcuAH7/GyCKYI76MMxrD4CZPsNn+NuKCdWKDLQbswy0m1HuCBno3AgLXUHoBFboTstABw2ftCID7SMc6aTYBjq97irYa78+0gnz3hMR7ftGn2EPignVigy0G7cMtJtR7ggZ6NwIC11B6ARW6E7LQAcNn7QiA+0jHOmkuAba3ncP0gs/CaxfD+y1H6IPLujYA4PNqIRqRQbafSXKQLsZ5Y6Qgc6NsNAVhE5ghe60DHTQ8EkrMtA+wpFOimmg7Z8eQnrxwupDg5tvieisz3U857mRTKhWZKDdV6IMtJtR7ggZ6NwIC11B6ARW6E7LQAcNn7QiA+0jHOmkOw003ySINY8Da9fC3v0z4InVwPAw7PC6kb/xu18Dzz0D9PUjOmExzMv/2me4c8WEakUG2o1dBtrNKHeEDHRuhIWuIHQCK3SnZaCDhk9akYH2EY500n0GOv3+jbD/8Vn38EURog8thNljH3dsByJCtSID7YYvA+1mlDtCBjo3wkJXEDqBFbrTMtBBwyetyED7CEc66S4Dna68EvY/Bzdt1It2BraeA9O/GdDfD0ybAfP6t8Ds9FKfYe5ITKhWZKDd+GWg3YxyR8hA50ZY6ApCJ7BCd1oGOmj4pBUZaB/hSCfdY6Dtj3+A9IqLqg3aeg6iY44HXrgjMDB1TLal89FHfUyoVmSg3aRloN2MckfIQOdGWOgKQiewQndaBjpo+KQVGWgf4Ugn3WGg7YO/rz4U+JfngB12QrTgQpip032GcNxiQrUiA+0eIhloN6PcETLQuREWuoLQCazQnZaBDho+aUUG2kc40snEG2j709uR/uslwLohYOo0RKddCrPdjj7DN64xoVqRgXYPkwy0m1HuCBno3AgLXUHoBFboTstABw2ftCID7SMc6WRiDbT95Y+RfvYcIE2B/s0QffhUmNe81mfoxj0mVCsy0O6hkoF2M8odIQOdG2GhKwidwArdaRnooOGTVmSgfYQjnUycgba//jnSTy+qmufpMxB9/DwYPizYpSVUKzLQ7gGVgXYzyh0hA50bYaErCJ3ACt1pGeig4ZNWZKB9hCOdTIyBts88hfSMD1dfhLLVbEQnLoHZ/sU+QzZhMaFakYF2D5kMtJtR7ggZ6NwIC11B6ARW6E7LQAcNn7QiA+0jHOlkfA20ffIJ2G98Dfb2W4D1w4CJEJ16McxLXuYzXBMaE6oVGWj3sMlAuxnljpCBzo2w0BWETmCF7rQMdNDwSSsy0D7CkU7Gz0CPpGx84YLqGwRrxcTHInrr4T5DNeExoVqRgXYPnQy0m1HuCBno3AgLXUHoBFboTstABw2ftCID7SMc6WR8DHR60zdhB79SPVkUwbzx72H22h/mr17lM0xdEROqFRlo9/BNmIEulUqxMeZoAHtx+3EA9xtjllprL0uSZIhN94nJuhjHMbP4LwfwJgBD1tprjTEnJUnyeD2GTse5EQMy0D6UejcmdALrXSKAmIyPAegFDUkruqnw1XEntZLe8V3Yr1wG2BSYtQ2iYz8G84rdfZvSNXGhTGSg3UM4YQY6juPbAfwBwEpr7R8B7GeMOcNae12lUpnPpvvEMG7u3LmbT5ky5ZcAHgWwyBgzw1p7IYCHkyQ5EIAdizg33mqEDLQvqd6MC53AepNGtVdiIgPtq29pRQZ6vLWSfu/bsFd+nh/ewDbbVvd4nrmFbzO6Ki70+pGBdg/jRBroOUmSrG5YHV4A4HwAOyVJ8mAcx84YHl8qlU42xpwHYJckSR6u/Wx/Y8yt1tpDK5XKt8Yizo1XBtqXUS/HhU5gYtLLBGSgfUdX148M9HhpxVoLe/3VsN/8evWUL9ge0clnw2w9x7cJXRcXev3IQLuHcsIMdLOmxXF8MIAbAeyfJMltvjFxHH8HwHCSJDz++RLH8X2sL0mS4/jDTse58cpA+zLq5bjQCUxMepmADLTv6Or6kYEeL62k//1N2KtrOc98NfeJZ8FsOcv39F0ZF3r9yEC7h7OrDHS5XD7bWruwv79/u+XLlzMdY5PSLCaO41UAlidJckKDgb4ewBa1NA4a6I7GufHKQPsy6uW40AlMTHqZgAy07+jq+pGBHmutjKw8V74Ke+PK6ql23BnRKefDTJvue+qujQu9fmSg3UPaNQY6juPdANxpjFk+ODj4/mZNbxUTx/EQUzgGBwcX1x9XLpevtNbumSTJyCOznY5rhfewww7baurUqVtlv1+6dOnKNE33WLNmjXtECh4RRRHmzJmD1atXI+WbmlQgJpuKQEyaXxjiIq34TJnSSfvXj01TpDdUkP7vL4D164F0ffXv9ethVz8CPPNUtdK+fvSfejGinf/KZyi6PiZUK7NmzcLAwMAdxph9u76TE9TArjDQhx9++Oz+/v5b+bzdwMDAPsuWLXuykcdoMZ02xr71tRqzcrm82Fq7KPv9Oeecg9mzZ4/8UREBERABERABERhfAk98+TI8vXLZqCcdeMVfY5vTL0HfVtwYTAWADPQoMphwA13bQeNmANvXcp8fbGyvK6bTqRm+9bXiqhVorUDXayN0BaCXp28xaX8FrZf1MFrfpJVN6YhJe9fP8DXLkF5bezBw9gsQvWpPbgUERH3Vv/v6RnKdowPf1hNpG534/NEKtHvGnVADfcghh0yZOXPmDQC4ueKBSZLc3dhkn5g4jm/h3s9Jkry1/ng+RGitvalSqXyAP+90nBtvNULb2PmS6s240By03qRR7ZWYNB9dcdmUi5iIie9c2Ewr6fdvhP2Pz1arePEuiE4+F2b6DN8qCx8Xev0oB9o99BNmoOM47gNQAXBwmqZvXrFixR2NzfWJ4THlcvnj1tpz+/r6dr7qqqu4pzTmz5+/b5qmtxlj5g4ODl43FnFuvDLQvox6OS50AhOTXiYgA+07urp+ZKBDtWLv/hnSz50LDK0FdnxJdVeNLZ5/PMm32kLHhV4/MtDuYZ8wA10ul79orT3OGHOmMeam+qamaXov94j2ieFxRx555BZDQ0N8kcqfATD/eLoxhi9SeSRJkgOyF6l0Os6NVwbal1Evx4VOYGLSywRkoH1HV9ePDHSIVoYfegDpuScBa/8CTJuB6IzLYOZs51tVz8SFXj8y0G4JTJiBjuP4fr4wpUUTj02S5Ks+Mdnx8+fP3zVNU77K+yAA6wBcNzw8fOLKlSsfqz9Hp+PciJXC4cOol2NCJzAx6WUCMtC+o6vrRwbaVyuRTTHlhgTP/PInsH+4H1j7HDB1GqKPLYZ56St8q+mpuNDrRwbaLYMJM9DupvVOhHKge2csQ3oSOoGFnKsox4iJDLSvVqUVGWhfrdhv/MfIVnX1JfrgJ2Feyy+iJ2cJvX5koN16kYF2M8odIQOdG2GhKwidwArdaUfjxUQG2lff0ooMtI9W7L3/i/TCBYBNYV68K/DqvWB2ew3MK/fwObxnY0KvHxlotyRkoN2MckfIQOdGWOgKQiewQndaBjpo+KQVmUUf4UgnG1Oy64aQnnUC8MhD6OM2dUv+BemUaT4oez4mVCsy0G5pyEC7GeWOkIHOjbDQFYROYIXutAx00PBJKzLQPsKRTjZQGnkN97IvwH73v0Z+uM2Sy/Hki16K9XzLoErwlqEy0G7xyEC7GeWOkIHOjbDQFejDTqbIV8DSirTioxXpZAOl9MZrYJN/G/lBdMBbsMOpF2DVqlUy0DVEoVqRgXZfiTLQbka5I2SgcyMsdAWhE1ihO60V6KDhk1ZkoH2EI51UKdmH7kN63ieAdUPAbq/BZicsxnYv3kkGuk5EoVqRgXZfiTLQbka5I2SgcyMsdAWhE1ihOy0DHTR80ooMtI9wpBPAPvEY0vM+DvzfY9V9npd8Fv3bvADbbrutDLQMtM9llDtGBjo3QncFMtBuRr0coQ87mSJffUsr0oqPVia7TuwzTyG9+FTg4QeAvj5Exy8a2W1jsnNppp1QJlqBdl+JMtBuRrkjZKBzIyx0BaETWKE7rRXooOGTVmSgfYQzmXVi0/VIP70Y+PXPR1CZd38U0esPHvn3ZObSSjehTGSg3VeiDLSbUe4IGejcCAtdQegEVuhOy0AHDZ+0IgPtI5zJqhM7tBbpFRcBv/hR1TwffjSiv4ufRzZZuYymmVAmMtDuK1EG2s0od4QMdG6Eha4gdAIrdKdloIOGT1qRgfYRzmTUiX3kYaRfvhR44HdV87zvQTDvORHGbLAxk5GLSy+hTGSgXWQBGWg3o9wRMtC5ERa6gtAJrNCdloEOGj5pRQbaRziTTSfp974N+/UvArW9nc1b5sLE74GJoo1wTTYuY6kVGWg3XRloN6PcETLQuREWugJN6jJFvgKWVqQVH61MFp3YJ5+AvWYZ7PdvrGLp74c5+iMw+71po5XnjNlk4eKjkbxMZKDdlGWg3YxyR8hA50ZY6Ao0qcsU+QpYWpFWfLQyGXRin3ka6fmfAFY9XEWyw06IPrQQZtvtWyKaDFx89FEfE8pEBtpNWgbazSh3hAx0boSFriB0Ait0px2NF5PmgMRFBtrnuu91ndjnnkX6mSXA7349gsP87dtgSsfCTJs+Kp5e5+KjjcaYUCYy0G7aMtBuRrkjZKBzIyx0BaETWKE7LQMdNHzSigy0j3B6WSd27Vqkl54G3HdP1TzPezeit8/zwaJt7JpQCtWKDLRbcjLQbka5I2SgcyMsdAWhE1ihOy0DHTR80ooMtI9welUn9tlnkH72bOC3d1fN89vnwRzxT03znZtx6lUuPppoFRPKRAbaTV0G2s0od4QMdG6Eha4gdAIrdKdloIOGT1qRgfYRTi/qxA6vQ3rhAuD+31bN89uOQFQ6xgfH8zG9yKUtAFqBzourreNloNvCFRYsAx3GrVeO0qQuU+SrZWlFWvHRSi/qJK18Ffbb36ia50PfCXPoP3qvPGfMepGLjx5GiwllohVoN3kZaDej3BEy0LkRFrqC0Ams0J3WCnTQ8EkrMtA+wuklndjhYdjv3gB79ZcBa2H2eyOi95zog2GTmF7iEgRAK9CdwuZVjwy0F6Z8QTLQ+fgV/WhN6jJFvhqWVqQVH630ik7sPb9C+pVLgccfrXZ72x0QnXoxzPSZPhhkoD0ohWpFK9BuuDLQbka5I2SgcyMsdAWhE1ihO60V6KDhk1ZkoH2E0ws6sT+5DemXLnr+7YLY8SWIjl8EM2u2D4KmMb3AJbjzLQ4MZSID7R4JGWg3o9wRMtC5ERa6gtAJrNCdloEOGj5pRQbaRzhF10n6nethl/8rYFNgy60RvfdEYLfXbPJqbh8W9TFF59Juf33iQ5nIQLvpykC7GeWOkIHOjbDQFYROYIXutAx00PBJKzLQPsIpsk7SH/0A9l8vqZrnrecgOunsUd8u6MMjiykyl3b62U5sKBMZaDdlGWg3o9wRMtC5ERa6gtAJrNCdloEOGj5pRQbaRzhF1Yn99c+RfnoRkKbANtsiWnARzJazfLrsFVNULl6dCwwKZSID7QYuA+1mlDtCBjo3wkJXEDqBFbrTMtBBwyetyED7CKeIOrGP/RnpOScBTz8JzNoG0Snnw2yzrU93vWOKyMW7c4GBoUxkoN3AZaDdjHJHyEDnRljoCkInsEJ3WgY6aPikFRloErBcob33f2Hv/TUwPMyfVMHwL2sRRRFmzJiOp59+phr7/C+rv9/w3+zftb/r6xmpb6TCjQ7f8P/R6slOWV//KPX85TnYX/20ap77N0O04EKYnV4adI2MdpCun85dPzLQbnnKQLsZ5Y6Qgc6NsNAVaFLv3KReaCF4NF5akVZGXmf9+fOA3/zSQzEFCzEG5j0nItr3oDFpuK6fzl0/MtBuicpAuxnljpCBzo2w0BVoUu/cpF5oIXg0XlqZ3Fqx64aq5vmun1RBTJsBzNy8+m+TfVwbwAD9/f0YXs/VZ6781n73fEyNI//f7GfVCmv1NtS90bk86qmvv76NdadgG8w228G88e9gXvIyjyshLETXT+euHxlotwZloN2MckfIQOdGWOgKNKl3blIvtBA8Gi+tTF6tWGthv/wp2P/33aq9PWQezDuOgunr2wSKdNL8YhKXzl0/MtDuCXvCDHSpVIqNMUcD2AvA1gDuN8YstdZeliTJEJt+xBFH7BhF0QJjzOsA7A5gIEmSTdocx/EtAN7QrLvGmCsGBwc/yN+VSqWDjDHfaRJ3Z5Ike9f/PI7jnQFcDuBNAIastdcaY05KkuRxN9aNI2Sg2yXWW/Ga1Ds3qfeWMsTFZzwny/WT3rAC9htLq+b5wLfCHPXhlvsiTxYmPvqojxGXzs0pMtBu9U2YgY7j+HYAfwCw0lr7RwD7GWPOsNZeV6lU5tcZ3qsA/AjAVgBe38JAvzKKoi3qu2ut/Xtr7enW2kMrlcq3Ggz0cVEU/aIu/umrr776ruz/c+fO3XzKlClMQOP7RRcZY2ZYay8E8HCSJAdueOrCDZgRMtB+nHo1SpN65yb1XtVI1i9pZXJqZeTFIl+/otr5V+xefSNff39LuUsnzdGIS+euHxlo96fNRBroOUmSrK5vYhzHCwCcD2CnJEkeXLRoUbRkyZKRR4xLpdLpxpizmxnoZt2M4/g6APusXr16+1tuuYWPMdevQB+YJMkPWuEplUonG2POA7BLkiQP147d3xhza70hd+OtRshA+5LqzThN6p2b1HtTIRt6Ja1MLq3Yp56E/fY3Rv6MlDnbIfrkhc69kaUTGWjfuTBUKzLQbsITZqBbmN6DAdwIYP8kSW6rj2nHQMdxPAfAH621n69UKh/L6qlL4RjVQMdxzDSP4SRJ2J7nSxzH97F9SZIc50a7IUIGuh1avRcbOoH1HgkZRdeYSiuTx0Db+3+L9FNnAM89W+30jjsj+ugZMFtv45IJpBMZaKdIagGhWpGBdhPuKgNdLpfPttYu7O/v32758uVMn3i+tGOgy+Xy8dbay9M0/ZsVK1b8uImB/jMAzlKPWmu/aYxZUJ/bHMfxKgDLkyQ5ocFAXw9gi1oah5tuLUIG2htVTwaGTmA9CSPnpN7LTNg3aaV3DLR94HdIr7uquvcx92pev776d8q/1wOPjHy5OVLM3xxYzXmePsNL4tKJDLSXUHLMKTLQbsJdY6DjON4NwJ3GmOWDg4Pvb2x6OwY6jmPmTM9IkuSV9fXMmzdvzyiK3mmt/R6Ap2t51wv5ACOAvbOHF+M4HmIKx+Dg4OL648vl8pXW2j2TJHnVaGgPO+ywraZOncqc7ZGydOnSlWma7rFmzRr3iBQ8ghv8z5kzB6tXr0b6/Ab/Be9UzuaLyaYAxaS5qMSlN7Ri//QHrDv3ZODZZ0afPYxB/8cWI/rrjZ5hd8440omuH6dIagGhWpk1axYGBgbuMMbs63uuyRbXFQb68MMPn93f338r04UHBgb2WbZs2ZOhBnrevHkvj6Lo19baUyuVCvOpRy3lcvnQ2g4bRw8ODl7J4LwGulwuL7bWLspOfM4552D27Nkjf1REQAREQAR6l4Bdtw6rTjga6+7/HRBFmH7Q2xFtviVM1MevGEZ+Zvr6R/6e8srdMXUPbjKlIgJdSUAGepRhmXADXdvx4mYA29dynx9s1l7fFehSqXSuMYaryi/hg4gekjRxHD9lrf1Kli+dN4VDK9Baga7XXegKgId2CxsiJlpB8xVv0bQy/NXPIP3et0e61//hhYj2fr1vV73jisbEu2M5A8VlU4ChTLQC7RbjhBroQw45ZMrMmTNvqO3xzAf77m7VZE8DTTPMB/1+nyQJ92/2Kc0MNPeVHkqS5K31FbBua+1NlUrlAz4VZzHKgW6HVu/FKl9x0zEVk+Y6F5dia8X++AdIr7hopBPmgLcgOub4MZnQpBNdP77CCtWKcqDdhCfMQMdxzNcrVQAcnKbpm1esWHHHaM31MdBxHPNlKrdYa99TqVT+3d39ka3t3mGMucZae1SlUlnGY8rl8settef29fXtfNVVV3GPasyfP3/fNE1vM8bMHRwc5BZ53kUG2htVTwaGTmA9CaPWKTGRAfDVd1G0Yu+5C+llZwLDw8COL0F06qUwm23m28224orCpK1OdSBYXDp3AyoD7RbkhBnocrn8RWvtccaYM40xN9U3NU3Te7M9ouM4Lo3czRszz1r7j0xR5v/TNL2/focN/iyO4y8DeNfatWu3vfbaa59q7H6pVPqaMea3AH5mjOHeQftZa08BwJ/tmz1EeOSRR24xNDTEF6lwtw7mM083xvBFKo8kSXKAXqTSWliawDo3gbkv3+JGSCcy0L7qLYJW7LohpIs/Cvz5T8CUaYgWXAiz40t8u9h2XBGYtN2pDhwgLp37/JGBdgtywgx0HMfc+WKnFk08NkmSr9ZMsW0WY61dWqlUjsl+d8wxx0x95plnHrHW/melUnlXs2NKpdJCYwx/x/NOA/CQtXalMWZJkiQbbZExf/78XdM05au8DwKwDsB1w8PDJ65cufIxN9aNI7QC3S6x3orXpN65Sb23lCEuPuPZ7dcPHxpMP3s2cPfPRroTnbAE5lV7+nQtOKbbmQR3LOeB4tK5OUUG2i3GCTPQ7qb1ToQMdO+MZUhPNKl3blIP4V+kY6SVYmnFWgv7tc/Bfp/v/wLMmw9F9I+b7MLacQlKJ82Rikvnrh8ZaPdlKwPtZpQ7QgY6N8JCV6BJvXOTeqGF4NF4aaU4WrE/+WF1t41f/bRqnvd/M8wxxzPd0GOk84VIJzLQvgoK1YoMtJvw2F/p7jb0fIQMdM8P8agdDJ3AepmamMgA+Oq7G7Vif3kn0s8s2dCFl70S0Ylnj9lDg42supGJ73iOZZy4dO4GVAbarVQZaDej3BEy0LkRFroCTeqdm9QLLQSPxksr3a8V++QTSC/4JLD6EWCLrWAOeDPM20ver+H2kIEzRDrRDahTJLWAUK3IQLsJy0C7GeWOkIHOjbDQFYROYIXutKPxYiID4KvvbtIKc57Tz5wF3HXnSPOjjy2CefVrfbvSsbhuYtKxTnWgInHp3A2oDLRbkDLQbka5I2SgcyMsdAWa1Ds3qRdaCB6Nl1a6Vyvcqs5ePzjyh8XMezeit8/zGNXOh0gnugH1VVWoVmSg3YRloN2MckfIQOdGWOgKQiewQndaK9BBwyetdJ+Btr//DdIvXQw8xtcC1Mpur0F00tkwURQ0znkPkk5koH01FKoVGWg3YRloN6PcETLQuREWuoLQCazQnZaBDho+aaW7DLR9+kmk554MPLpqQ8Ne+kpE/3wazIzNg8a4EwdJJzLQvjoK1YoMtJuwDLSbUe4IGejcCAtdQegEVuhOy0AHDZ+00j0G2qbrq/nO2TZ1hx0Fs9urgV1ePmErzxkd6UQG2neCCdWKDLSbsAy0m1HuCBno3AgLXUHoBFboTstABw2ftNIdBtqmKex//AvsrTePNMgc8U+IDikFjelYHCSdyED76ipUKzLQbsIy0G5GuSNkoHMjLHQFoRNYoTstAx00fNJKdxjo9LqrYK/9etU87/16mPd/fMJXnevJSCcy0L4TTKhWZKDdhGWg3YxyR8hA50ZY6ApCJ7BCd1oGOmj4pJWJN9D2z39EeuZHgPXrgVe/FtFHToPp7w8az7E6SDqRgfbVVqhWZKDdhGWg3YxyR8hA50ZY6ApCJ7BCd1oGOmj4pJWJNdAb7fM8bQai866AmblF0FiO5UHSiQy0r75CtSID7SYsA+1mlDtCBjo3wkJXEDqBFbrTMtBBwyetTIyBtg/eC3vPXbA/+gHw+9+MNMKU34vo4HcEjeNYHySdyED7aixUKzLQbsIy0G5GuSNkoHMjLHQFoRNYoTstAx00fNLK+Bto+8C9SM//BLB+eMPJX7E7ohMWw0R9QeM41gdJJzLQvhoL1YoMtJuwDLSbUe4IGejcCAtdQegEVuhOy0AHDZ+0Mr4GmrttpJ86A/jNL6snnrMdMPsFt43WVAAAIABJREFUiN5zIsys2UFjOB4HSScy0L46C9WKDLSbsAy0m1HuCBno3AgLXUHoBFboTstABw2ftDK+Bjrlq7mvuXLkpOZdH0T0xr8LGrfxPkg6kYH21VyoVmSg3YRloN2MckfIQOdGWOgKQiewQndaBjpo+KSV8TPQ9jd3Ib30dMCmwGv2RvTPp3fVVnWjCUg6kYH2nWBCtSID7SYsA+1mlDtCBjo3wkJXEDqBFbrTMtBBwyetjI+Btk8+gfSsE4E1jwNbb4PojE935W4brUQknchA+04woVqRgXYTloF2M8odIQOdG2GhKwidwArdaRnooOGTVsbeQNuhtUgvXwzc8yugrw/RJ86H2fXlQeM1UQdJJzLQvtoL1YoMtJuwDLSbUe4IGejcCAtdQegEVuhOy0AHDZ+0MrYG2qbrkX7hQuBnt4+cyMTHInrr4UFjNZEHSScy0L76C9WKDLSbsAy0m1HuCBno3AgLXUHoBFboTstABw2ftDK2BjpdeSXsfw5WzfObD4WZ/z4YU7yPQelEBtp3ggnVigy0m3DxZg53n7ouQga664ZkXBsUOoGNayPH+WRiIgPgK7lOaWWjhwb32g/RcZ8szEODjaw6xcR3DIoSJy6duwGVgXarXgbazSh3hAx0boSFrkCTeucm9UILwaPx0srYaMX+6Q9ILzgFePYZYNY2iBZ9BmbGTI8R6c4Q6UQ3oL7KDNWKDLSbsAy0m1HuCBno3AgLXUHoBFboTjsaLyYyAL76zqsVu24d0vM+Djx0HzBlKqKTz4XZ+WW+p+/KuLxMurJTHWiUuHTuBlQG2i1IGWg3o9wRMtC5ERa6Ak3qnZvUCy0Ej8ZLK53XSvr1L8J+5z9HKjbvOxnRPm/wGInuDpFOdAPqq9BQrchAuwnLQLsZ5Y6Qgc6NsNAVhE5ghe60VqCDhk9a8TPQ9tFVsHyL4CMPAWkKWFv9O11f+5s/S4G//AX4v8eq5vn1ByN690eDxqXbDpJOZKB9NRmqFRloN2EZaDej3BEy0LkRFrqC0Ams0J2WgQ4aPmnFbaDTb38D9pplwPA6f8YvfBGiUy+BmTrN/5gujpROZKB95RmqFRloN2EZaDej3BEy0LkRFrqC0Ams0J2WgQ4aPmlldAO9rrL0+W3oMGUazN+8HhiYAkQRwO3o+PfIv/s2/Hv6DJh93lCoNw26xCOdyEC7NJL9PlQrMtBuwjLQbka5I2SgcyMsdAWhE1ihOy0DHTR80kprA/3Hb16N9V+6uBqw68sRfWghzJazgjgX/SDpRAbaV8OhWpGBdhOeMANdKpViY8zRAPYCsDWA+40xS621lyVJMsSmH3HEETtGUbTAGPM6ALsDGEiSZJM2l0qlg4wx32nS3TuTJNm7/udxHO8M4HIAbwIwZK291hhzUpIkj4fEuREzPc/ePjQ0tM+jjz7qE17omNCLtdCdlllse/ikExkAX9FQK7P7DP70wRh47hlgh50QLbgQZup03yp6Lk7Xj64fX1GHakUG2k14wgx0HMd8l+ofAKy01v4RwH7GmDOstddVKpX5bHrNGF8F4EcAtgLweoeBPi6Kol/Udfvpq6+++q7s/3Pnzt18ypQpvwRAJ7vIGDPDWnshgIeTJDkQgGWsb5wbbzVCBtqXVG/GhU5gvUmj2isxkQHw0bf9v8eB5N+Ae+5Cyn9vNoDozMthttvB5/CejdH1o+vHV9yhWpGBdhOeSAM9J0mS1fVNjON4AYDzAeyUJMmDixYtipYsWZLWzPTpxpizHQb6wCRJftCq26VS6WRjzHkAdkmS5OFavfsbY2611h5aqVS+VfuZV5wbrwy0L6NejgudwMSklwnIALhGd2T/5gs/CTzwu+dDzVEfRvSGt7sO7fnfa07R9eMr8lCtyEC7CU+YgW7WtDiODwZwI4D9kyS5rT6mVCrlNtBxHDPNYzhJEp7n+RLH8X08b5Ikx/GHvnFuvDLQvox6OS50AhOTXiYgA+Aa3XTllc8/MDj1tftj+ODDYHd9ueuwSfF7zSm6fnyFHqoVGWg34a4y0OVy+Wxr7cL+/v7tli9fvlHCsKeB/jOAbZiiYa39pjFmQX1ucxzHqwAsT5LkhAYDfT2ALWppHDTQXnFuvDLQvox6OS50AhOTXiYgAzDa6Npf/xzp5YuB9esR7fdG7HD6xVi1ahXWr18/+UTRpMeaU3T9+F4IoVqRgXYT7hoDHcfxbgDuNMYsHxwcfH9j00cz0PPmzdsziqJ3Wmu/B+DpWj71Qj6YCGDv7KHEOI6HmMIxODi4uL7+crl8pbV2zyRJXlVbgfaKa4X3sMMO22rq1KnM2R4pS5cuXZmm6R5r1qxxj0jBI6Iowpw5c7B69WqkfLGBCsRkUxGISfMLY7Jysc88BfvYn4Fnn8F6viDlVz+tAtpiK0w563N4wct205xSJ5nJqhPXx4m4dG6unTVrFgYGBu4wxuzr4j5Zf98VBvrwww+f3d/ffyuftxsYGNhn2bJlT7ZjoJsNXrlcPrS2w8bRg4ODV7ZjjH2NdivRlMvlxdbaRdnvzznnHMyePXvkj4oIiIAIiMAGAs/edgsev/h02LV/2QiLmTET2yy8AFP31Oe39CICE0RABnoU8BNuoGs7XtwMYPta7vODzdo72gp0i/6ZOI6fstZ+pVKpfKxmoL1SM/KmcGgFWivQ9ZrUqkjnVkUm6ENk3E472bSS3nMXhj91JjC0dgNjYxAd8Bb0zX8vzIzN9Q1OE/VNNp34XoDi0rm5VivQbtVNqIE+5JBDpsycOfOG2h7P3EHj7lZN7pCBvoV7PydJ8tb68/AhQmvtTZVK5QM1o+0V58ZbjdA2dr6kejMuNAetN2lUeyUmzUd3MnGxv7sb6acXA1x5plF+70nA9i8Gpk2HmT7jeUCTiYnvNS8mun7GWivKgXYTnjADHcdxH4AKgIPTNH3zihUr7hitue0a6FKp9A5jzDXW2qMqlcoy1l0ulz9urT23r69v56uuuop7T2P+/Pn7pml6mzFm7uDg4HXtxLnxykD7MurlOH3YbTq6YjJ5DYBdvx7pF84Hfv7/qhCmz0D0scUwu/AxGGnFZy7U9TN5rx8ffdTHhGpFBtpNesIMdLlc/qK19jhjzJnGmJvqm5qm6b3ZHtFxHJf4O2PMPGvtP3KXOf4/TdP7V6xY8WP+u1Qqfc0Y81sAPzPGPMuHCK21pwDgz/bNHiI88sgjtxgaGuKLVLhbB/OUpxtj+CKVR5IkOSB7kYpvnBuvDLQvo16OC53AxKSXCUxeA5Be/WXY/762CmDKNEQnnwOz88taDrauH91U+M4E0krntCID7VbdhBnoOI65Q8ZOLZp4bJIkX+Xv4jgeeTtgY7HWLq1UKsfUDPRCY8y7avVNA/CQtXalMWZJkiQbbX0xf/78XdM05au8DwKwDsB1w8PDJ65cufKx+nP4xrkRK4XDh1Evx2hS79yk3ss6Yd96XSvp7bfAfuVT1WHc/sXVleetufNo69LrTEI0LSaT9wa0Xb2EakUG2k16wgy0u2m9E6Ec6N4Zy5CehE5gIecqyjFiMvkMgF39CNKzTwCeexZ48S6ITrkQZsoUp2SlFd2AOkVSC5BWOqcVGWi36mSg3YxyR8hA50ZY6Ao0qXduUi+0EDwa30tasU8/WX1AcN064NmnkV5xIfD4o8DAFERnXAaz3Y4eRHp/Vd4LQkNQL+kkpP+tjhGXzs21MtBuZcpAuxnljpCBzo2w0BVoUu/cpF5oIXg0vle0kg5+BfambzbtsXnfyYj2eYMHjWpIrzDx7rBHoJg0hyQunZtrZaDdF6IMtJtR7ggZ6NwIC12BJvXOTeqFFoJH43tBK+mPfgD7pYuam+e3HoYofo8HiQ0hvcCkrQ57BIuJDLSHTHLdgMpAuwnLQLsZ5Y6Qgc6NsNAV6MNOBtpXwEXXiv3zn6p5zn95DthhJ0RHfQjYbADo3wyYOg3Yeg53VPLFkcsAtHWSggUXXSdjhVtcOjfXykC7VdreTOauTxFNCMhAT25ZaFLv3KTe60oqslbsunVILzgFePBeYMpURKd/yjvPebRxLTKTsdKrmGgF2ldboVqRgXYTloF2M8odIQOdG2GhKwidwArdaUfjxaT3DEC6/Euw//OtkY6Z956IaN83dkTC0opuQH2FJK10Tisy0G7VyUC7GeWOkIHOjbDQFWhS79ykXmgheDS+qFqxP/kh0i9cUDXPB7wF0THHe/TWL6SoTPx6FxYlJr13AxqmBPdRoVqRgXazlYF2M8odIQOdG2GhKwidwArdaa1ABw1fEbViH38U6eKPAs89U305yqmXeu3v7AuoiEx8+xYaJyYy0L7aCdWKDLSbsAy0m1HuCBno3AgLXUHoBFboTstABw1fEbWSXnER7I9/AAwMIDrtUzDbvzio760OKiKTjgJoUpmYyED7aixUKzLQbsIy0G5GuSNkoHMjLHQFoRNYoTstAx00fEXTir3rJ0gvXzzSV/OOIxH9w/ygfo92UNGYdByADLQ3UmllU1ShTGSg3bKTgXYzyh0hA50bYaErCJ3ACt1pGeig4SuSVuwzTyM99yRg9SPAdjsiWnQ5DLer63ApEpMOd71ldWKiFWhfrYVqRQbaTVgG2s0od4QMdG6Eha4gdAIrdKdloIOGryhasdYi/fz5wM9uH+lndPwimNe8NqjProOKwsTVj07+XkxkoH31FKoVGWg3YRloN6PcETLQuREWuoLQCazQnZaBDhq+omglvfVm2K9ePtJH83dlRIcfFdRfn4OKwsSnL52KERMZaF8thWpFBtpNWAbazSh3hAx0boSFriB0Ait0p2Wgg4avCFqxjzyE9NyTq28b3PXliD5xPkxfX1B/fQ4qAhOffnQyRkxkoH31FKoVGWg3YRloN6PcETLQuREWuoLQCazQnZaBDhq+bteKvfOHSL98CTA8XH3b4JmXw7zghUF99T2o25n49qOTcWIiA+2rp1CtyEC7CctAuxnljpCBzo2w0BWETmCF7rQMdNDwdbNW7OOrkS4+vrrfc18/zLEfQ7TPG4L62c5B3cyknX50MlZMZKB99RSqFRloN2EZaDej3BEy0LkRFrqC0Ams0J2WgQ4avm7VyshDg59eBNz9s+p+zwsvhtlx56A+tntQtzJptx+djBcTGWhfPYVqRQbaTVgG2s0od4QMdG6Eha4gdAIrdKdloIOGr1u1kv7oB7BfumikT+adH0D0pn8I6l/IQd3KJKQvnTpGTGSgfbUUqhUZaDdhGWg3o9wRMtC5ERa6gtAJrNCdloEOGr6x1Ep6+y2wN1SAobWAtYBNgZR/1/7d6mdpCqwbqvaHr+rmfs/R2D002AhuLJkEDVIXHCQmMtC+MgzVigy0m7AMtJtR7ggZ6NwIC11B6ARW6E7LQAcN31hpxf7u10gvOQ1YPxzUrpGDttwa0YlnwezQ2Vd1uxo0Vkxc5+3m34uJDLSvPkO1IgPtJiwD7WaUO0IGOjfCQlcQOoEVutMy0EHDNxZasevXIz3nJOCh+4Ap02De9HfA1OmAiYDIAIZ/og1/b/IzAwxMGXlRipk+M6hfeQ4aCyZ52tMNx4qJDLSvDkO1IgPtJiwD7WaUO0IGOjfCQlcQOoEVutMy0EHDNxZaSa+5Evb6wZH2RB9aCLPXfkFtm6iDxoLJRPWlU+cVExloXy2FakUG2k1YBtrNKHeEDHRuhIWuIHQCK3SnZaCDhq/TWrGr/oh00UeA9euB3V+H6COnwXDFuUCl00wK1PWWTRUTGWhfHYdqRQbaTbhYM6m7P10ZIQPdlcMybo0KncDGrYETcCIxGXsDMLL13KWnA7/5JTBtBqJzr4DZfIsJGO18p5RWNuUnJmN//eRTbfccHaoVGWj3GMpAuxnljpCBzo2w0BWETmCF7rRWoIOGr5NaSX94M+y/Xz7SDnP0hxH97duD2jTRB3WSyUT3pVPnFxMZaF8thWpFBtpNWAbazSh3hAx0boSFriB0Ait0p2Wgg4avU1qxT61BesaHgWeeAl76SkSfOA8mioLaNNEHdYrJRPejk+cXExloXz2FakUG2k1YBtrNKHeEDHRuhIWuIHQCK3SnZaCDhq8TWmHqhr3iItg7bx155fbIvs0vfFFQe7rhoE4w6YZ+dLINYiID7aunUK3IQLsJy0C7GeWOkIHOjbDQFYROYIXutAx00PB1QivpD/8H9t8/PXJ+c+g7Ec19Z1BbuuWgTjDplr50qh1iIgPtq6VQrchAuwnLQLsZ5Y6Qgc6NsNAVhE5ghe60DHTQ8LWrFbv6Edhrl8M+8SgwvA74y3PAww9Uz73TSxEtuAimvz+oLd1yULtMuqXdY9kOMZGB9tVXqFZkoN2EJ8xAl0ql2BhzNIC9AGwN4H5jzFJr7WVJkoy8N/aII47YMYqiBcaY1wHYHcBAkiSbtNmnLtZXKpUOMsZ8pwmWO5Mk2bv+53Ec7wyAT+C8CcCQtfZaY8xJSZI87sa6cYQMdLvEeis+dALrLQob90ZM8hsA+5dnkZ73CeBPf9i0ss23RHTapTCzX1B4GUkrmw6hmOS/fgp/YXh2IFQrMtBuwBNmoOM4vh0AZ/6V1to/AtjPGHOGtfa6SqUyv87wXgXgRwC2AvD6Zgbap64GA31cFEW/qMPz9NVXX31X9v+5c+duPmXKlF8CeBTAImPMDGvthQAeTpLkQADWjXZDhAx0O7R6LzZ0Aus9Eht6JCb5DMDIFnVfOB/4KadRAH/9NzCz5wD9mwFTp8Hs9yaYOdv1hISkFRloXyFLK53Tigy0W3UTaaDnJEmyur6JcRwvAHA+v3xMkuTBRYsWRUuWLElr5vd0Y8zZLQy0s64GA31gkiQ/aIWnVCqdbIw5D8AuSZI8XDt2f2PMrdbaQyuVyrfcaGWg1/PlDSrQpN65Sb3X5eSrlfSGFbDfWDqCw7x9HqJ57+5ZNL5MehZAk46JSb4bUGnFTUAG2s1owgx0s6bFcXwwgBsB7J8kyW31MaVSqaWB9q2rLoVjVAMdxzHTPIaTJGF7ni9xHN/H9iVJcpwbrQy0DHRVA/qwk4H2nS98tGIffxTpGR8EhoaAV+6B6GOLYKI+31MULs6HSeE6lbPBYiID7SuhUK3IQLsJd5WBLpfLZ1trF/b392+3fPlypk88X9o10M3qqjPQfwawDVM0rLXfNMYsqM9tjuN4FYDlSZKc0GCgrwewRS2Nw023FqEUDm9UPRkYOoH1JIxap8QkzADYp59E+vnzgN/eDQwMIDrnCphZs3tZKroBbTK6un7Crp+evlBadC5UKzLQbrV0jYGO43g3AHcaY5YPDg6+v7Hp7RjoVnXNmzdvzyiK3mmt/R6Ap2t51wv5ACOAvbOHF+M4HmIKx+Dg4OL6dpTL5SuttXsmSfKq0dAedthhW02dOpU52yNl6dKlK9M03WPNmjXuESl4RBRFmDNnDlavXo00Hcm+mfRFTDaVgJg0vyxG42LXr8fwxafC3lN9XKOv/B70vX1ez19f0oquH1+RSyud08qsWbMwMDBwhzFmX1/+ky2uKwz04YcfPru/v/9WPpw3MDCwz7Jly54MNdA+dTWY4kNrO2wcPTg4eCV/l9dAl8vlxdbaRdl5zjnnHMyePXvkj4oIiIAIhBBYc+UVeHL5v44cunn5WGz5Tx+GMV0xhYd0R8eIgAh0PwEZ6FHGaMJn39qOFzcD2L6W+/xgs/b6rED71tVQv4nj+Clr7VcqlcrHagY6VwqHVqC1Al2vMa2KdG5VpPs/b/K1sJVW7P89jnUL3gcMrYXZ+wD0f2jhpDHPun50/fheVdJK57SiFWi36ibUQB9yyCFTZs6ceUNtj2c+2Hd3qya7DHQ7dXkY6Fu493OSJG+tj+VDhNbamyqVygfcaDdEKAe6HVq9Fxuag9Z7JDb0SEyaj24rLul/fBb2+zeObFMXnfPF6pZ1k6RIK5sOtJi0d/1MkkulaTdDtaIcaLdqJsxAx3HMx8YrAA5O0/TNK1asuGO05o5moNutq/48pVLpHcaYa6y1R1UqlWX8Xblc/ri19ty+vr6dr7rqKu5Rjfnz5++bpultxpi5g4OD17nRykBrF46qBkInsHY0VrRYMfE3APZndyD93LkjB5iD34Go/N6iDXeu9korMtC+ApJWOqcVGWi36ibMQJfL5S9aa48zxpxpjLmpvqlpmt6b7REdx3Fp5IPDmHnW2n9kijL/n6bp/StWrPhxzfB61VUqlb5mjPktgJ8ZY57lQ4TW2lMA8Gf7Zg8RHnnkkVsMDQ3xRSrcrYP5zNONMXyRyiNJkhygF6m0FpYmsM5NYO7Lt7gR0omfgbZr/4L0zI8Aj68GdtgJ0amXwAxMKe7AB7RcWtGc4isbaaVzWpGBdqtuwgx0HMfc+WKnFk08NkmSr/J3cRw3feuftXZppVI5phbjVVepVFpojHlX7bzTADxkrV1pjFmSJMlGW2TMnz9/1zRN+SrvgwCsA3Dd8PDwiStXrnzMjXXjCKVwtEust+I1qXduUu8tZbi5pN+6CvabXx8JjD55AcxLX9nrCDbpn64ft04mnShadFha6ZxWZKDdV9WEGWh303onQga6d8YypCea1Ds3qYfwL9Ix9VoZfoIvTPkw8OwzMPsehOi9JxWpKx1rq64fXT++YpJWOqcVGWi36mSg3YxyR8hA50ZY6Ao0qXduUi+0EDwan2nlkV/8FOsuPR14dBXz1xAt+SzMC1/kUUPvhej60fXjq2pppXNakYF2q04G2s0od4QMdG6Eha5Ak3rnJvVCC8Gj8dTKlqv+gNVLTgT+8tzIEeadH0D0pn/wOLo3Q3T96PrxVba00jmtyEC7VScD7WaUO0IGOjfCQlegSb1zk3qhheDReHP3T7H+c+fBDq0FpkyDOepDiPblYxiTt+j60fXjq35ppXNakYF2q04G2s0od4QMdG6Eha5Ak3rnJvVCC6FJ4/l6bvz+N8BTa2Af+B3sjdcAw+uAzbdEdMISmBfv0mtdbrs/un50/fiKRlrpnFZkoN2qk4F2M8odIQOdG2GhK9Ck3rlJvdBCaGi8ffYZpJ86A3jgdxv9JtpiK0SfOA92ux17qbvBfdH1o+vHVzzSSue0IgPtVp0MtJtR7ggZ6NwIC12BJvXOTeqFFkKt8fYnP0R6+y3Ag78HHuNW87Wy+ZYwL9oZL/jgJ/DEzK2gFxFVuej60fXje91LK53Tigy0W3Uy0G5GuSNkoHMjLHQFmtQ7N6kXWgh8A9Pvf4P0glMAu2F7e/O2w2H+YT7M1Okyi00GWNePrh/f615a6ZxWZKDdqpOBdjPKHSEDnRthoSvQpN65Sb3IQrBpWjXP991TfUBw3zfAvPq1wO6v45tWtdraYnB1/ej68b3upZXOaUUG2q06GWg3o9wRMtC5ERa6Ak3qnZvUiyoEOzwM+2+Xwf7o+yNdMO87GdE+b9ikO9KKtOKjcemkOSVx6dz1IwPtvhJloN2MckfIQOdGWOgKNKl3blIvohDsE48h/fIlwD2/qjZ/l90QLbjo+VXn+j5JK5NbK776lk5koMdaKzLQbsIy0G5GuSNkoHMjLHQF+rCbvKaI29SlZ58APPxAFcJfvQrRR06HmT6jqaallcmrlXYmOelEBtpXL6FakYF2E5aBdjPKHSEDnRthoSsIncAK3WlH4ycLk/SO78J++dIRGuZtR8AcfjRMX19LOpOFSzvaFhPdVPjqRVrpnFZkoN2qk4F2M8odIQOdG2GhK9Ck3rlJvUhCsGvXIl3yUWD1I8CuL0f0yQubpm3U90lamZxaaVfX0olWoH01E6oVGWg3YRloN6PcETLQuREWuoLQCazQndYKNNIVS2H/a8UIiejEs2BeuYdzSKUVGWinSLQ3tr7B8RFJLSZ0TpGBdkOWgXYzyh0hA50bYaErCJ3ACt3pSW6g09u+M7LrBov5mwMRfeATXsMprchA+whFOtEKtI9OGBOqFRloN2EZaDej3BEy0LkRFrqC0Ams0J2exAbaPv4o0jM+CAwNAVtvg2jBxTCzZnsNp7QiA+0jFOlEBtpHJzLQvpTC4mSgw7i1dZQMdFu4ei5YH3aTxxSN7Lpx+WLg1z8HBgYQnXopzA47eWtaWpk8WvEWRZNA6UQG2lc/oVrRCrSbsAy0m1HuCBno3AgLXUHoBFboTk/CFWhrLSzznr/9jZHem9KxiN52eFvDKK3IQPsIRjqRgfbRiVagfSmFxclAh3Fr6ygZ6LZw9VywPuwmhylKv/tfsFd+vtrZ3V+H6COnOXfdaCQjrUwOreSd5KQTGWhfDYVqRSvQbsIy0G5GuSNkoHMjLHQFoRNYoTs9yVag7bNPI134AeDZp4EXbI/otEtgps9sewilFRloH9FIJzLQPjrRCrQvpbA4Gegwbm0dJQPdFq6eC9aHXW+bIju0FulXPgX85DYgihCd+RmYHV4cpGNppbe1EiSKJgdJJzLQvloK1YpWoN2EZaDdjHJHyEDnRljoCkInsEJ3epKsQNt1Q0gvPR24939HemwOfCuif/rn4KGTVmSgfcQjnchA++hEK9C+lMLiZKDDuLV1lAx0W7h6Llgfdr1pikYeGlz2Bdjv/lfVPP/t22He+X6Y/s2CNSyt9KZWggXR4kDpRAbaV1OhWtEKtJuwDLSbUe4IGejcCAtdQegEVuhO99AKNLemG1lhfvIJjPx7/TCwfj3sT34I3PWTqnl+3Rtg3ndS2w8NNmKSVmSgfa576UQG2kcnWoH2pRQWJwMdxq2to2Sg28LVc8H6sCuuKbLD65BectrzKRpNxbnry6uv6p4yNbd2pZXiaiX34LdRgXQiA+0rl1CtaAXaTVgG2s0od4QMdG6Eha4gdAIrdKd7ZAU6vX4Q9porN+5NXz/fjwvw75e+AtF7T4SZsXlHhktakYH2EZJ0IgPtoxOtQPtSCouTgQ7j1tZRMtBt4eq5YH3YFdMU2T89hPSs44HhYWAadgu9AAAgAElEQVSv/RC9/xMjxtmYsZs2pZViamW8Jy3pRAbaV3OhWtEKtJvw2H0SuM89aSJkoCfNUDftaOgE1svUup2JTVOkl5wK/PZuYPpMRGd/DmaLWWM+JN3OZcwBNDmBmOimwld30krntCID7VadDLSbUe4IGejcCAtdgSb1zk3q4yWE9KZvwg5+ZeR05pjjER3wlnE5tbRSPK2MizAaTiKdaAXaV3ehWpGBdhOeMANdKpViY8zRAPYCsDWA+40xS621lyVJMsSmH3HEETtGUbTAGPM6vhwXwECSJE3bHMfxzgAuB/AmAEPW2muNMSclSfJ4PYZOx7kRAzLQPpR6NyZ0AutdIsyE6MO2226LVatWYT13tuiiYn/9c6SfXgSkKfDKPRCdsGRM0zbqu97NXCZqiMRENxW+2pNWOqcVGWi36ibMQMdxfDuAPwBYaa39I4D9jDFnWGuvq1Qq89n0Uql0kDHmKgA/ArAVgNc3M9Bz587dfMqUKb8E8CiARcaYGdbaCwE8nCTJgQAs6+t0nBtvNUIG2pdUb8ZpUu/cpD7WCrGrH0F67snAM08BW2+D6LRLxyV1I+uXtFIcrYy1FkerXzrRCrSv/kK1IgPtJjyRBnpOkiSrG1aHFwA4H8BOSZI8uGjRomjJkiVpzUyfbow5u5mBLpVKJxtjzgOwS5IkD9fi9zfG3GqtPbRSqXyr9rOOxrnxykD7MurluNAJTEzGl4BduxbpBacAD90HbDaA6JMXwuy067g2QlqRgfYRnHQiA+2jE8aEakUG2k14wgx0s6bFcXwwgBsB7J8kyW31MaVSqaWBjuP4OwCGkyTh8c+XOI7vY31JkhzHH3Y6zo1XBtqXUS/HhU5gYjK+BNKrvwz739eOnNS872RE+7xhfBuQ48Nu3Bs6jifU9aObCl+5SSud04oMtFt1XWWgy+Xy2dbahf39/dstX76c6RjPF4eBXgVgeZIkJzQY6OsBbFFL46CB7micG68MtC+jXo7TpN65SX2sdJLeuBI2+feqeT7wrYj+6Z/H6lSj1iutdL9WJkQYDSeVTpqPgrh07vqRgXZf6V1joOM43g3AncaY5YODg+9vbLrDQA8xhWNwcHBx/XHlcvlKa+2eSZK8ij+P47ijca3wHnbYYVtNnTqVOdsjZenSpSvTNN1jzZo17hEpeEQURZgzZw5Wr16NlA9hqUBMNhVBNzFJ77kLwxd8strIF74Im53+KZhp0ydEud3EZUIANDmpmHT39dMtOmE7pJXOaWXWrFkYGBi4w5j/396ZgMlV1Gv/rTM9k5AEyE5AAQE/kMXLIkLACwQRNFeJJOnqIYR4gwoIcgHZTC6QEAiyy6oXUK5ECMl0dTJA0CiIRhQBEUXB4HJZZM++MNkm06e+p3q6Q2emZ06dZbr7dL/9PGGYnn9tv3pP1dun61SJ0dXUx9VUl6ow0OPHjx+WSCSeNs/bNTU1HTl37tz1cTbQqVTqKq31zEIbZs+ejWHDhuX+8UUCJFA9BHRHB94/N4WOd95Ew4hR2OW2H6NhsNkUiC8SIAESqHsCNNC9SKDiBjq/M8aTAHbLr31+s1R947SEg3egeQe6WMO8KxLdXZGop7PsT9LILpiTyzZx0TVwDjK7albuRa1Ur1YqpwoysWXP6yc6rfAOtLfqKmqgx44d22/QoEGL83s8H6OUWtpTlT0M9BKz97NS6qTi9OYhQq31E5lM5izzvpQy0jhvvJ0R3MbOllRtxnFdXvd+7Qsm2mw99+rfADcLuNpceDAnCkKbf+Z3t3NvZ/P/5ud7b0E/uajz/w87Cg3nTK+4APuCS8UbFbICZFKe6ydkN1VFcmolOq1wDbS3pCtmoKWUDQAyAE50XfeEBQsWPNdbdXsz0KlU6hKt9bUNDQ17zZ8/3+wpjebm5tGu6z4jhBiXTqcXmfeijvPGSwNty6iW4zioRzOoa2N833odWLkMems7YA5gyXZ0GuC1qzp30Ni8yb+Uho6AM/1GiMGVX2JFrUSjFf8iiFcK6qR0f5FLdNcPDbT3mFAxA51Kpe7WWp8thJghhHiiuKqu675a2CNaSpk0fxNCTNRan2puJJvfXdd9Y8GCBX8w/z958uSd2tvbzUEqywGY9ccDhBDmIJX3lVKfKRykEnWcN14aaFtGtRzHQT38oK7dLNz/uR54sdfP2T3LSAgziADCMU8affj/e+8LZ+oFEEOHV4UEqZXwWqmKjuzjSlAnNNC2EguqFRpob8IVM9BSyjfMgSk9VPEMpdT95m9Sytwpgl1fWus5mUxmauH95ubmfVzXNUd5jwGwFcCijo6Ob7W2tq4qTht1nDdiLuGwYVTLMUEHMDL5kIC7eAH0ws61yttexgg3JMxJAZ0/zcmByTOAffb/0CQ7naZZGPMcgxe1QgNtI1PqhAbaRicmJqhWaKC9CcdjVvFuR1VHcA10VXdPn1cu6ADW5xWrYAF+mLi/eBQ6/b+da5gPOBTOudOBpn6xMcV+MPvh4iffOMeSCT9U2OqXWolOKzTQ3qqjgfZmFDqCBjo0wlhnwEE9+KDuPv8b6Htv6sxg2Eg4l98CsePOsdZDb5WnVoJrpWZFUaJh1AnvQNvqPahWaKC9CdNAezMKHUEDHRphrDMIOoDFutEelbdhopf+Ce6d1wAdHcDI3eBMu6GmzbNBZsOllnVRqm1kwg8VtpqnVqLTCg20t+pooL0ZhY6ggQ6NMNYZcFD3P6jr1/4O97szgC2bgJ2HwrnsOoiRu8ZaBzaVp1b8a8WGa63FUCe8A22r6aBaoYH2JkwD7c0odAQNdGiEsc4g6AAW60aHuAOtN22EO/M8YM1KYIeBneb5ox+rZRzb2kat0EDbCJ06oYG20UmYb7VooL0J00B7MwodQQMdGmGsM+Bk588UuQ/dA/2rn+S2mnMu+Q7EvgfGuv/9VJ5a8acVP2xrKZY6oYG21XNQrdBAexOmgfZmFDqCBjo0wlhnEHQAi3WjA96B1hvb4F4yFdjaDnHcF+Ccfm4tY+jWNmqFBtpG8NQJDbSNTngH2pZSsDga6GDcfKWigfaFq+aCOdnZmSKdzcK990bgj8/k9m52rrsXYtjImtNDbw2iVuy0UleiKNFY6oQG2vYaCKoV3oH2JkwD7c0odAQNdGiEsc4g6AAW60b7vAOdM8933wC8+GwupfjcODjNX69lBCXbRq3QQNuInjqhgbbRCe9A21IKFkcDHYybr1Q00L5w1VwwJztvU+T+4hHolvs6zfNRx0NMPR/Caag5LXg1iFrx1ooXw3r4O3VCA22r86Ba4R1ob8I00N6MQkfQQIdGGOsMgg5gsW60jzvQHatXwr3yHGDTxs6TBi+YUZfmOczdonrRSjabreWmWreNYwoNtK1YgmqFBtqbMA20N6PQETTQoRHGOoOgA1isG+3DQG/9/nXQf/gtkGiEM+uuutjvuSc81ArvQNtc99QJDbSNTsJ8KKeB9iZMA+3NKHQEDXRohLHOgJNdz6bo3UdakM0f1S1OngRn3KRY93XYylMrNNA2GqJOaKBtdEIDbUspWBwNdDBuvlLRQPvCVXPBnOxKm6LB61Zi+WVn5rasw54fhzPtRohEoub630+DqBUaaBu9UCc00DY6oYG2pRQsjgY6GDdfqWigfeGquWBOdt271Fm3GtlrL4a7ZhUwaEc402+CGLlbzfW93wZRKzTQNpqhTmigbXRCA21LKVgcDXQwbr5S0UD7wlVzwZzstu9SvXYV9J3XQL/5GtCQgHPRNXV12mBvAqdWaKBtBkDqhAbaRic00LaUgsXRQAfj5isVDbQvXDUXzMnuwy7VL70A9+7rgPb23JsNX70QOOqzNdfnQRtErdBA22iHOqGBttEJDbQtpWBxNNDBuPlKRQPtC1fNBXOy6+xSvfxduLMvBjZtyP2+81fOxaYxXwS3JvtQ8tQKDbTNAEid0EDb6IQG2pZSsDga6GDcfKWigfaFq+aCOdkBessWuNdfCrz9BtCvPxKXXItdjz4Oy5Yto4EuUjy1QgNtMwBSJzTQNjqhgbalFCyOBjoYN1+paKB94aq54Hqf7HTHVrj33PThMd1nXoLGo47HLrvsQgPdRe31rpVSFz+Z8EOF7aRArUSnFe4D7a06GmhvRqEjaKBDI4x1BvU+qLuPPgS9aH6uD8WxX4Az5VzUO5OeBE0u0RmAWA8aHpWnTngH2lbfQbVCA+1NmAbam1HoCBro0AhjnUHQASzWjc5XXq9dDfeKc4Atm4BPHQ3nrEtzx3TXM5Pe+pVcaKBtrnvqhAbaRicmJqhWaKC9CdNAezMKHUEDHRphrDMIOoDFtdH63Tfh/vgu4J1/AZs3dTbDHNN99fcgRozK/VpvTGz7klxooG20Qp3QQNvoJMxYSwPtTZgG2ptR6Aga6NAIY51BPU12OfN88+XAB+u26zORnArn8xO2vVdPTPyIl1xooG30Qp3QQNvohAballKwOBroYNx8paKB9oWr5oLrZbLTHR1wr74AeO+t3B1n8YUJwKiPQoz6CMSeH9+uX+uFiV8xkwsNtI1mqBMaaBud0EDbUgoWRwMdjJuvVDTQvnDVXHC9THbuk49Bz78313/OOdMgDju6x76sFyZ+xUwuNNA2mqFOaKBtdEIDbUspWBwNdDBuvlLRQPvCVXPB9TDZ6bb1cC8/G9i4Afjk4Wg4f0av/VgPTIIImVxooG10Q53QQNvohAballKwOBroYNx8paKB9oWr5oJrfbLTWkPPuRP66V8ADQk4V92ZW7bR26vWmQQVMbnQQNtohzqhgbbRCQ20LaVgcTTQwbj5SkUD7QtXzQXX8mRn1j3r1gegH2/N9Zv43Dg4zV/37MNaZuLZ+F4CyIUG2kY/1AkNtI1OaKBtKQWLq5iBTiaTUggxBcBhAIYCeEMIMUdrfatSqr3QHCnlXgBuB/BZAO1a60eFEBcppVYXxSwBcFwpBEKIe9Lp9DfM35LJ5BghxK9KxL2glDq8+H2bcm2R00DbkqrNuGqa7PSmjdC/XgysWg5o3fs/aMDVgPmZj9Xazf0K89N1gdf+/uGOG/sfDOe8KyCa+nl2ZDUx8axsGQPIhQbaRm7UCQ20jU5ooG0pBYurmIGWUj4L4C0ArVrrdwEcJYS4Umu9KJPJNJvmjBs3bsd+/fq9BGAlgJlCiIFa6xsAvKOUOqZzZgeklAc4jrNTMQKt9Re11ldorU/OZDKPdTHQZzuO85ei+LaWlpaXC7/blmuLnAballRtxlXLZKc3b4J7wzTg7dejB23M8zemQQwYaJV3tTCxqmwZg8iFBtpGbtQJDbSNTmigbSkFi6ukgR6hlFpRXG0p5TQA1wHYUyn1ZjKZvFgI8R0Aeyul3smb4KOFEE8XG+NSTZdSLgJw5IoVK3ZbsmRJRxcDfYxS6rc9IQtTbqk8aaCDibNWUlXDZKf/+Du4Cx8AluUuI2CPvYH+O5hFF4Do6Z/TGevkfwonF478T2F+9usHccSxwP6HQJh8LF/VwMSyqmUNIxcaaBvBUSc00DY6oYG2pRQszn7GC5a/r1RSyhMBPA7gaKXUM1JKs9yiQyll3t/2klKaW2iPK6XO7sE8jwDwrtb6+5lM5oJCTNESjl4NdNBye2osDbQvGdRccCUnu9wDfg8/CP1TtY2rGJuEM+ErFeVcSSYVbbhH4eRCA22jT+qEBtpGJzTQtpSCxVWVgU6lUtdoracnEolR8+bNWymlXAZgnlLqwi4G+icAdsov4+jW8lQqdb7W+nbXdT+9YMGCP5Qw0MsBDDdLQ7TWjwghpnVZUx2oXBpoHtFcSgOVnOzc3z8F/YObO6s1ZDjE8V+E+Px4iMJd5WDjRuhUlWQSuvJ9mAG50EDbyIs6oYG20QkNtC2lYHFVY6CllPsBeEEIMS+dTp9pmiOlbDdLONLp9FXFzUulUg9qrQ9VSh1YqtlSyucBDFRKHVD894kTJx7qOM4krfVTANry666nmwcYARxeeHgxaLmFsk455ZTB/fv3H1z4fc6cOa2u6x6ybt32xxsH67LqTuU4DkaMGIEVK1bANQ+Z8YVKMTE7ZGw1ezOveB9ij32QmHYDRG7ZRuVflWJS+Zb3XgNy6c6HTMjE9rqlVqLTypAhQ9DU1PScEGK0Lf96i6sKAz1+/PhhiUTiafNQYFNT05Fz585dH9RAT5w48ROO47yitf7vTCZj1lP3+kqlUifnd/aYkk6nHwxabheDf5XWembhvdmzZ2PYsGG5f3yRQLkItP38Yay5Y3auuBHX34P+n/xUuYpmOSRAAiRAAvEnQAPdSx9W3EDnd7x4EsBu+bXPbxbqG2QJRzKZvFYIYe4qf8w8iGihXyGl/EBrfV9hvXSQcovL4R1o3oEu1kMl7oqYHTe2XvZVoG09xL4HonHajRaXQvlCKsGkfK0LXhK5dGdHJmRie0VRK9FphXegvVVXUQM9duzYfoMGDVoM4GAA5sG+pcVVllKa/Z3blVIndXn/da31E5lM5qwuTTRm2Dxg+JpSyuwbbfMqZaD9lttrOXyI0KYbajemEusV3Qe+D/3Uz3JQnRm3Q+xutlOvnlclmFRP63uuCbl0Z0MmZGJ77VIr0Wll+PDhXMLhIbyKGWgpZQOADIATXdc9YcGCBc91rWsqlbpEa31tQ0PDXvPnzzd7RaO5uXm067rPCCHGpdNps1XdtpeU0hymskRr/dVMJvMjm4sumUx+WQjxsNb69EwmM9ek8VuuVzk00F6Eavvv5RzU9ZbN0D++C/r3Zpk/IMb8B5zJuXOEqupVTiZV1XCPypBLdAYgTv3ut67USWli5BLd9UMD7X1VVsxAp1Kpu7XWZwshZgghniiuquu6r5o9oidPnrxTe3u7OUjF7Jph1hUPEEKYg1TeV0p9pnCQSiGtlPKHAE7bsmXLLo8++ugHXZufTCYfEEL8E8CLQoiN5iFCrfVlAMx7owsPEfot1wszDbQXodr+ezkHdbflPuhfPNIJdMQoOFfeBrHDgKoDXE4mVdf4XipELtEZgDj1u9+6Uic00LaaCaoVGmhvwhUz0FJKs/PFnj1U8Qyl1P3mb83Nzfu4rmuO8h4DYCuARR0dHd9qbW1dVZx26tSp/Tds2PC+1vqnmUzmtFL5JpPJ6UII8zdTrtmO4G2tdasQYpZSarstMmzL9UZsTkHWz7a3tx+5cqU5ULG2X0Ev1lqmUi4m+h9/hXvL5Z1HbA8eCmfajRDDRlYl2nIxqcrG00D76hZqhR8qbAVDrUSnFRpob9VVzEB7V612Imiga6cvg7Qk6kE9dzjKs0ugn/4FsGUz0NEBdGwF1qzs/N2Y56vughg4KEh1y5ImaiZlqXQZCiGX6AxAGbqrYkVQJ7wDbSu+oFqhgfYmTAPtzSh0BA10aISxziDoANa10XrtauglP4X++8vA/233vO2HoYlGOJddB7HXvlXNLComVd3IAJUjFxpoG9lQJzTQNjoxMUG1QgPtTZgG2ptR6Aga6NAIY51B0AGsuNHGPLs3TQeWv/fh2x/dC+ITnwQSjUAikfspDhkN8ZE9qp5XFEyqvpEBKkguNNA2sqFOaKBtdEIDbUspWBwNdDBuvlLRQPvCVXPBYSc7vXFDp3l+2zw2AGC/T+buMIsvnQrRr18seYVlEstGW1SaXGigLWQS+K6iTd5xjuH1E931wzvQ3lcCDbQ3o9ARNNChEcY6gzCDuu7YCveOq4FX/pxjIE4/F85xX4g1jzB3RWLfcI8GhNFKrbIhk+hMUa1qpNAuaiU6rdBAe18tNNDejEJH0ECHRhjrDIIO6rmHBf/31twDgznzfPIkOOMmxZoFJ7reuy+oVmpCFD00gkyiM0W1rBN+MC/du0GvHxpo76uFBtqbUegIGujQCGOdQdABzG19APqnqtM8//uJEF85D0LUxiUblEmshWBReXKhWbSQCZdw8MOWjUxyMUHHFBpob8S1MRt7t7OiETTQFcVf8cKDDGDuk4ug5/+gs+4HfQrONy+HMA8K1sgrCJMaaXqvzSAXGmgbnVMn0d5ttWEe15igWqGB9u5xGmhvRqEjaKBDI4x1Bn4HMPd3v4Sec0fngSh7fhzOJddC9Dfn/tTOyy+T2ml57y0hFxpoG61TJzTQNjoxMUG1QgPtTZgG2ptR6Aga6NAIY52BnwHMNQek3PfdzvbuPBTOjFshdhoS6/aXqrwfJjXX+F4aRC400DZ6p05ooG10QgNtSylYHA10MG6+UtFA+8JVc8G2k53+v6Vwb7mi82TBXXeHc97lECN3qzkeYQb1moRR1ChbrdQ6h+L2kQk/VNjqnVqJTiu8A+2tOhpob0ahI2igQyOMdQY2g7p+519wb74caFsP7LgznMtvgRg2Mtbt7q3yNkxqtvG8A+2ra6mV6EyRL/AxDKZWotMKDbT3BUAD7c0odAQNdGiEsc7Aa1DXq1fAvfZiYP1aoLGpc83z3vvFus1elfdi4pW+Vv9OLtEZgFrViGkXdVK6d8kluuuHBtp7BKGB9mYUOoIGOjTCWGfQ26CuN7bBve4y4P23c8dxO+dMh/i3T8e6vTaV50RHA2CjE5pF6sRWJ9RKtFqhgfZWHg20N6PQETTQoRHGOoOezKLOZuF+71rgpT/k2ie+9i04o4+PdVttK08DHe1kZ8s9jnHUSnR3FePY/37qTK1EpxUaaG/l0UB7MwodQQMdGmGsMyg1qOeO6L7zGmDpi53medxpcE4+Ndbt9FN5TnQ00LZ6oVaiM0W2zOMaR61EpxUaaO+rgAbam1HoCBro0AhjnUHXQT13RPePbod+5ped5nn08RBnXADhOLFup5/Kc6KjgbbVC7USnSmyZR7XOGolOq3QQHtfBTTQ3oxCR9BAh0YY6wy6DuruovnQjz7UaZ5r7Ihu247iREcDTa3YEojOFAUvMR4pOa5EpxUaaG/N00B7MwodQQMdGmGsMyge1Lf+5gnoH93W2Z4DDoHzXzNq6ohu247iREcDTa3YEojOFAUvMR4pOa5EpxUaaG/N00B7MwodQQMdGmGsMzCD+siRI/Fe5gFkf3xX5xHdoz4KZ/pNEAMGxrptQSvPiY4G2lY71Ep0psiWeVzjqJXotEID7X0V0EB7MwodQQMdGmGsM3CEQOOD38PGJT/rbMfOQzrNcw0flOLVYZzoaKC9NFL4O7USnSmyZR7XOGolOq3QQHtfBTTQ3oxCR9BAh0YY7wx+qpBtfaCzDbvtAecb34bYdfd4tylk7TnR0UDbSohaic4U2TKPaxy1Ep1WaKC9rwIaaG9GoSNooEMjjGUGud02fv8U9H23AtqFOOhTEN+8vC7XPHftQE50NNC2FzW1Ep0psmUe1zhqJTqt0EB7XwU00N6MQkfQQIdGGMsM3EfnQS+al6u7M3Q4Gq66E+4O9bnmmQbaTsI0ANEZADvi8YyiTvgB1Fa5QbVCA+1NmAbam1HoCBro0Ahjl4H7/G+g772ps947DcbIK2/G2mG7IpvNxq4tfVHhoIN6X9SlmvIkFxpoGz1SJzTQNjoxMUG1QgPtTZgG2ptR6Aga6NAIY5WBXv4e3KsvBLZsAnbdHY2X34JRe+2NZcuW0UDnezLooB4rIQSoLLnQQNvIhjqhgbbRCQ20LaVgcTTQwbj5SkUD7QtXrIN1RwfcG6cBr/8D6LcDnBm3IrHr7thll11ooIt6lgaABsD2QqdW+KGCWrElEJ1WeAfamzkNtDej0BE00KERxiYD97EW6Efm5uprjud2jj4h8FdosWl0gIrSFNFA28qGWonOFNkyj2sctRKdVmigva8CGmhvRqEjaKBDI4xFBvrN1+B+5xIg2wEcdhScb0yDEIIGukTvcaKjgba9qKmV6EyRLfO4xlEr0WmFBtr7KqCB9mYUOoIGOjTCqs9Ab22HO+sCYNk7wKAd4cy6C2KnIbl6c1CPblCveiGErCC1Qq3YSIg64QdQG52EmX9ooL0JV8xAJ5NJKYSYAuAwAEMBvCGEmKO1vlUp1V6oupRyLwC3A/gsgHat9aNCiIuUUqsLMclkcowQ4lclmvuCUurw4vdt8jPxtnHeiAEaaBtK8Y5xF82HfvShXCOc82dAfPJD2XGyoymyVTe1Qq3YaIU6oYG20QkNtC2lYHEVM9BSymcBvAWgVWv9LoCjhBBXaq0XZTKZZtOccePG7divX7+XAKwEMFMIMVBrfQOAd5RSxwDQJq7IQJ/tOM5filC0tbS0vFz43TY/2zhb5DTQtqTiGafXrYF7+dnAls0QRxwH58yLt2sIJzuaIltlUyvUio1WqBMaaBud0EDbUgoWV0kDPUIptaK42lLKaQCuA7CnUurNZDJ5sRDiOwD2Vkq9kzfLRwshntZan5zJZB7rYqCPUUr9ticUPvKzKtcWOQ20Lal4xem29cC/XoX7eCuw9EUg0Qhn9t0Qw0bQQHt0JQ0ADYDt1U6t8EMFtWJLIDqtcAmHN/OKGehSVZNSngjgcQBHK6WekVKaZRkdSinz/raXlPJ1E6eUOtuPgbbNzzbOG29nBA20Lan4xOlVy+Fedymwbs22SovPT4CTnNqtETQA0Q3q8VFIsJpSK9SKjXKoE34AtdGJiQmqFRpob8JVZaBTqdQ1WuvpiURi1Lx581ZKKZcBmKeUurCLgf6JOd8tv4yjeAnHcgDDzZIPrfUjQohpxWulbfOzjfPGSwNtyyhOcTqb7dzr+bW/f1jtfQ+C883LIQZ0P6o76AAWJyZ+60omNAC2mqFW+KGCWrElEJ1WaKC9mVeNgZZS7gfgBSHEvHQ6faapupSy3SzhSKfTVxU3JZVKPai1PlQpdaB5f+LEiYc6jjNJa/0UgLb8eurp5sFEAIcXHkq0zc82rie8p5xyyuD+/fsPLvx9zpw5ra7rHrJu3TrvHol5hOM4GDFiBFasWAHXdWPemtLVzz7xCLLz7s39seH0c+AcNxaioaHHttYDE78dTSaliZFLdy5kQia24wu1Ep9IE0gAACAASURBVJ1WhgwZgqampueEEKNt+ddbXFUY6PHjxw9LJBJPm9UOTU1NR86dO3e9HwNdqtNSqdTJ+R07pqTT6Qf95BfWQKdSqau01jML9Zo9ezaGDRuW+8dXvAlsffctLDtvEvSWzeh/+NEYftXtub2e+SIBEiABEiCBGiNAA91Lh1Z85s/vePEkgN3ya5/fLNQ35FIKIaX8QGt9XyaTuSBvoK2WhIQsF7wDXbt3oDvm3An31z/LHdPdePVdECNGeY6XvCsS3V0RT9gxD6BWqBUbCVMn/AbHRicmJqhWeAfam3BFDfTYsWP7DRo0aDGAgwGYHTSWFldZSrnE7P2slDqpy/uva62fyGQyZ/X24aCEgbbKL2S53arEhwi9hRiHCP3yC3Bvn5Wrqvj8eDjJM6yqzTWc3TGRSWnpkAu1YjOoUCe8fmx0YmKCaoVroL0JV8xASynNotEMgBNd1z1hwYIFz3WtbiqVukRrfW1DQ8Ne8+fPN3tFo7m5ebTrus8IIcal0+lFPTUxmUx+WQjxsNb69EwmM9fE2eZnG+eNtzOCBtqWVPXG6T8/D/d7s01nAk1NcK6/D2LHna0qHHQAs8o8pkFkQgNgK11qhR8qqBVbAtFphQbam3nFDHQqlbpba322EGKGEOKJ4qq6rvuq2SN68uTJO7W3t5uDVMzuGmZd8QAhhDlI5X2l1GeKDlJ5QAjxTwAvCiE2mocItdaXATDvjS48RGibn22cN14aaFtG1Ryn3Szcqy8E3vlXrprizEvgHHGsdZVpAKIb1K2hxzSQWqFWbKRLnfADqI1OTExQrdBAexOumIGWUpodMvbsoYpnKKXuN39rbm7ex3Vdc5T3GABbASzq6Oj4Vmtr66pC2mQyOV0IcVo+vx0AvK21bhVCzFJKbbf1hU1+tuV646WBtmVUzXHuE49Ap+/LVTG3Vd0hR/qqbtABzFchMQsmExoAW8lSK/xQQa3YEohOKzTQ3swrZqC9q1Y7EVzCEd++1KtWwJ1xDtDeDnzycDj/daXvXTdoAKIb1OOrJLuaUyvUio1SqBN+ALXRCe9A21IKFkcDHYybr1Q00L5wVU2w1hruPTcAL/wO6NcfztXfhxhqzunx9+JkR1NkqxhqhVqx0Qp1QgNtoxMaaFtKweJooINx85WKBtoXrqoJ1n/4Ldx7bszVR5xyOpwvpgLVjZMdTZGtcKgVasVGK9QJDbSNTmigbSkFi6OBDsbNVyoaaF+4qiJYb9wA94pvAB+sA/bYB870myASiUB142RHU2QrHGqFWrHRCnVCA22jExpoW0rB4migg3HzlYoG2heuigfrrVvh/vBm4I/PAELAufI2iN33ClwvTnY0RbbioVaoFRutUCc00DY6oYG2pRQsjgY6GDdfqWigfeGqaHBuy7rbrwaW/ilXD3HCyXBOPTNUnTjZ0RTZCohaoVZstEKd0EDb6IQG2pZSsDga6GDcfKWigfaFq6LB7qL50I8+1FmHQ0fDOfNSiMbGUHXiZEdTZCsgaoVasdEKdUIDbaMTGmhbSsHiaKCDcfOVigbaF66KBbu/+yX0j27rLP/gIzr3fBbhLxFOdjRFtqKmVqgVG61QJzTQNjqhgbalFCwuvDsIVm5dpaKBrv7u1q/8Ge5tMwHXBXbbA85l10EM3DGSinOyoymyFRK1Qq3YaIU6oYG20QkNtC2lYHE00MG4+UpFA+0LV9mD9eZNcGeeB6xeAQwdDufbNwba77mninOyoymyFTW1Qq3YaIU6oYG20QkNtC2lYHE00MG4+UpFA+0LV9mD3cyPoH/emivX+fYNEB/fP9I6cLKjKbIVFLVCrdhohTqhgbbRCQ20LaVgcTTQwbj5SkUD7QtXWYP1G/+E+51LAe1CHHMSnK+cF3n5nOxoimxFRa1QKzZaoU5ooG10QgNtSylYHA10MG6+UtFA+8JVtmC9ZTPc2RcB778N7DwUztV3QQwYFHn5nOxoimxFRa1QKzZaoU5ooG10QgNtSylYHA10MG6+UtFA+8JVtmD3oXugf/WTXHnOeVdCHPzpPimbkx1Nka2wqBVqxUYr1AkNtI1OaKBtKQWLo4EOxs1XKhpoX7jKEqyXvti564bWEGP+A87kb/RZuZzsaIpsxUWtUCs2WqFOaKBtdEIDbUspWBwNdDBuvlLRQPvC1efB+oN1cGddAKxbDYwYBeeKWyEGDOyzcjnZ0RTZiotaoVZstEKd0EDb6IQG2pZSsDga6GDcfKWigfaFq0+DtdZw/+c64E/PAo7TuevG3vv1aZmc7GiKbAVGrVArNlqhTmigbXRCA21LKVgcDXQwbr5S0UD7wtWnwe4zv4L+31tzZYgvT4bzpeY+LS/MANbnFatgATQANAC28qNW+KGCWrElEJ1Whg8fjqampueEEKODl17bKWmgy9C/NNBlgGxRRG7pxpXnAhs+APbat/Puc0ODRcpwITQA0Q3q4Xqi+lNTK9SKjUqpE34AtdFJmBs4NNDehGmgvRmFjqCBDo0wkgzc+74L/ewSoCEBZ8ZtELvtEUm+XplwsqMp8tJI4e/UCrVioxXqhAbaRic00LaUgsXRQAfj5isVDbQvXH0SrP/6p85dN8zSjS+dCufLp/VJOaUy5WRHU2QrNmqFWrHRCnVCA22jExpoW0rB4migg3HzlYoG2heuyIP1li1wrzoPWLkMGPURODNuh2hsirycnjLkZEdTZCs2aoVasdEKdUIDbaMTGmhbSsHiaKCDcfOVigbaF67Ig93Mj6B/3prL17nkOxD7HRR5Gb1lyMmOpshWcNQKtWKjFeqEBtpGJzTQtpSCxdFAB+PmKxUNtC9ckQbrN1+FO/tiQLsQx5wE5yvnRZq/TWac7GiKbHQSZrKzzT+Ocbx+eP3Y6pZaiU4rfIjQW3U00N6MQkfQQIdGGCgDnc3Cve5S4F//B+w8BM6s70EMHBQorzCJOKhHN6iH6Yc4pKVWqBUbnVInvANto5MwH8ppoL0J00B7MwodQQMdGmGgDNwnH4Oef28urTjzEjhHHBson7CJONnRFNlqiFqhVmy0Qp3QQNvohAballKwOBroYNx8paKB9oUrkmC9bg3cK88BNm0EDvoUnPNnQIjKyJ2THU2RraipFWrFRivUCQ20jU5ooG0pBYurjKMIVtfYpqKBLn/XbdvzOdEIZ9ZdECN3LX8l8iVysqMpshUftUKt2GiFOqGBttEJDbQtpWBxNNDBuPlKRQPtC1foYPfpX0Dff0cuH/GlZjhfnhw6zzAZcLKjKbLVD7VCrdhohTqhgbbRCQ20LaVgcTTQwbj5SkUD7QtXqODccd2XfwPYtAHYY+/O47qb+oXKM2xiTnY0RbYaolaoFRutUCc00DY6oYG2pRQsrmIGOplMSiHEFACHARgK4A0hxByt9a1KqfZCc6SUewG4HcBnAbRrrR8VQlyklFpdiLHNK5lMjhFC/KoEqheUUocXv29Tri1yGmhbUsHjdMdWYNm7cM2d5zf+CTQ0wLn6exAjdwueaUQpOdnRFNlKiVqhVmy0Qp3QQNvohAballKwuIoZaCnlswDeAtCqtX4XwFFCiCu11osymUyzac64ceN27Nev30sAVgKYKYQYqLW+AcA7SqljAGgTZ5OXiSsy0Gc7jvOXImRtLS0tLxd+ty3XFjkNtC2pYHH67y/BvedG4IN12zIo93HdvdWckx1Nka2yqRVqxUYr1AkNtI1OaKBtKQWLq6SBHqGUWlFcbSnlNADXAdhTKfVmMpm8WAjxHQB7K6XeyZvgo4UQT2utT85kMo/lDbRnXl0M9DFKqd/2hMy2XFvkNNC2pPzH6bb1cGeeB6xf25lYCIjkVIgTT6nYrhtdW8HJjqbIVtnUCrVioxXqhAbaRic00LaUgsVVzECXqq6U8kQAjwM4Win1jJTSLLfoUEqZ97e9pJSvmzil1Nk9NbtrXn4MdJhyS9WHBhrQWkM//QvgnX+ZXzoxmZ/azX+PoAHXvG/eK/pnft/2vvlzUbzJc9k7wJuvAcKBmHQWxMGfhhg6ItjV0EepONnRFNlKi1qhVmy0Qp3QQNvohAballKwuKoy0KlU6hqt9fREIjFq3rx5K6WUywDMU0pd2MVA/wTATvllHCVb3jWvLgZ6OYDhZmmI1voRIcS04jXVYcqlgW7ALrvsgmXLliGbzW7D4T7xCHT6vmAqtUhVDbtt9FRNTnY0RRYSzoVQK9SKjVaoExpoG52EGVN4EqE34aox0FLK/QC8IISYl06nzzRVl1K2myUc6XT6quKmpFKpB7XWhyqlDizVxFJ5mbiJEyce6jjOJK31UwDa8uuup5sHGAEcXnh4MWi5hbqccsopg/v37z+48PucOXNaXdc9ZN26D9foendNPCPEhg8w2O3A6rfegN60EXrjBrjP/Ar6b/kl5/13gNh199xSi23/IADHSLHovcKhJ46Tf9/8cHIhuf8UxYtdPoKGCVMgEo1VCc1xHIwYMQIrVqyA67pVWcdyV4pMShMnl+5cyIRMbMcnaiU6rQwZMgRNTU3PCSFG2/Kvt7iqMNDjx48flkgknjZf0Dc1NR05d+7c9UENdE959dSxqVTq5PzOHlPS6fSDQcvtYvCv0lrPLLw3e/ZsDBs2LPevVl9micaGny3Emu/fAPRgEsWAgRh1x1wkdv1orWJgu0iABEiABEigVgjQQPfSkxU30PkdL54EYPYbM2uf3yzU1+9Sit7y6o2BlPIDrfV9mUzmgryBDrx0xKSvlzvQ+t03kf39b3IP8LmvvJjbRq7by9w1HjkKDaOPh3PMSRBDzcqZ+nrxrkh0d0VqXTnUCrVio3HqpDQlconu+uEdaO8rsaIGeuzYsf0GDRq0GMDBAMzOGEuLqyylXGL2flZKndTl/de11k9kMpmzCu975eXTQFuX64049wDds+3t7UeuXGl244vfy9xdzj28Zx7my//Uv/819Lx7ga3btuzubNiIURg57XqsaWhC1hxgkkhUzW4YlSLP9YrdyZNJaTWSC7ViM05RJ7x+bHRiYoJqhWugvQlXzEBLKRsAZACc6LruCQsWLHiua3VTqdQlWutrGxoa9po/f37u9mZzc/No13WfEUKMS6fTi8x7Nnn1hCKZTH5ZCPGw1vr0TCYz18TZluuNtzOimg20WaOMV/8G/Y+Xof/yPLBqBaCz25nlnGnu6bXDAGDUR4HBQyE+fSwShxyBUXt+rNtDhLasajEu6ABWiywKbSITGgBbfVMr/FBBrdgSiE4rNNDezCtmoFOp1N1a67OFEDOEEE8UV9V13VfNHtGTJ0/eqb293RykYnbNMOuKBwghzEEq7yulPlM4SMUmL5N/Mpl8QAjxTwAvCiE2mocItdaXATDvjS48RGhbrjfe8hno7J3XAO+Zc2l8vMxa5dUrO+8qB3ntsQ+cc6ZBDN9lW2pOdtENYEG6JC5pqBMaaFutUiscU6gVWwLRaYUG2pt5xQy0lNLsfLFnD1U8Qyl1v/lbc3PzPq7rmqO8xwDYCmBRR0fHt1pbW1cV0trmlUwmpwshTsuXuwOAt7XWrUKIWUqp7bbIsCnXG28ZDfTVFwBvme2xA76GDIf4fwcAe+4D7DAQcBo6d8kwu2DkfjZAmJ0vzJpm816//sB+B0GYuKIXJ7voBrCAPRmLZNQJDbStUKkVjinUii2B6LRCA+3NvGIG2rtqtRNRjiUc7m8e//A0Pj/ojHHe90Bg2MhI1ipzsotuAPPTjXGLpU5ooG01S61wTKFWbAlEpxUaaG/mNNDejEJHlMNAh65kRBlwsotuAIuoS6oyG+qEBtpWmNQKxxRqxZZAdFqhgfZmTgPtzSh0BA10aISxzoAGILpBPdZCsKg8tUKtWMgk8M4KNnnHOYbXT3TXDw2095VAA+3NKHQEDXRohLHOgIN6dIN6rIVgUXlqhVqxkAkNdA+QeP1Ed/3QQHtfiTTQ3oxCR9BAh0YY6ww4qEc3qMdaCBaVp1aoFQuZ0EDTQNvIJBcTdEyhgfZGTAPtzSh0BA10aISxziDoABbrRntUnkxKAyIXGmib65464fVjoxMaaFtKweJooINx85WKBtoXrpoL5mRHU2QramqFWrHRCnVCA22jExpoW0rB4migg3HzlYoG2heumgvmZEdTZCtqaoVasdEKdUIDbaMTGmhbSsHiaKCDcfOVigbaF66aC+ZkR1NkK2pqhVqx0Qp1QgNtoxMaaFtKweJooINx85WKBtoXrpoL5mRHU2QramqFWrHRCnVCA22jExpoW0rB4migg3HzlYoG2heumgvmZEdTZCtqaoVasdEKdUIDbaMTGmhbSsHiaKCDcfOVigbaF66aC+ZkR1NkK2pqhVqx0Qp1QgNtoxMaaFtKweJooINx85WKBtoXrpoL5mRHU2QramqFWrHRCnVCA22jExpoW0rB4migg3HzlYoG2heumgvmZEdTZCtqaoVasdEKdUIDbaMTGmhbSsHiaKCDcfOVigbaF66aC+ZkR1NkK2pqhVqx0Qp1QgNtoxMaaFtKweJooINx85VKa73cdd0RHR0dvtLFNbipqQnt7e1xrX6f1JtMumMlk9JSIxdqxWYQok54/djoxMQE0UoikYDjOCuEECNty6m3OBroMvS41vrvAIYAeK0MxVW0iGw227B69epdhw4d+l5DQ0O2opWpksLJpHtHkElpcZILtWIzbFEnvH5sdGJiQmhlbwBrhBD72ZZVb3E00PXW433c3lNPPfVj2Wz29YaGhr3mz5//Rh8XF4vsyaR7N5FJaemSC7ViM6hRJ7x+bHRiYqgVW1L+42ig/TNjil4I8GKlAbC5QKgTGgAbndAAUCe2OqFWqBU/WokilgY6CorMYxsBGiMaaJvLgTrhZGejE5oi6sRWJ9QKteJHK1HE0kBHQZF50EDzrryvq4AGmpOdrWCoFX4op1ZsCVArwUn5T0kD7Z8ZU/RC4JRTThnc1NR0YXt7+20PP/zwWsICyKS7Csik9JVBLtSKzZhJnfD6sdGJiaFWbEn5j6OB9s+MKUiABEiABEiABEiABOqYAA10HXc+m04CJEACJEACJEACJOCfAA20f2ZMQQIkQAIkQAIkQAIkUMcEaKDruPPZdBIgARIgARIgARIgAf8EaKD9M2MKEiABEiABEiABEiCBOiZAA13Hnc+mkwAJkAAJkAAJkAAJ+CdAA+2fWb2nMJrR9Q6B7fckQJ14ImJAngC1QinYEKBObCgxpmwEaKDLhjq+BSWTyQlCiJ2UUvePGTMmsWTJko74tiaamk+YMGHvfv36rZ83b97KaHKMfy7USek+pFa6c6FWujOhTqgT21mAWrEl1bdxNNB9yzf2uSeTyTFCiF+ahiQSiZHGMM6cOdOZNWuWG/vGBWhAc3Pzvq7r3gNgNwCNQojHtNZ3KKX+L0B2NZOEOuneldRKaXlTK9tzoU6oE9uJgFqxJVWeOBro8nCObSlSyrMAXAkgC+B5pZSsVwMtpdwLwMMA3hBC/NB13WOFEF80ny0cx/lSS0vLP2Lb0SErTp1sD5Ba6VlQ1MqHbKgT6sR26KVWbEmVL44GunysY1VSwSRLKacAmC6EeFBrPRvAZ5RSz9TjUg4p5dcAXO84zmcKZnnixImHOo5jTPVLjuNc0NLS8iqAulmrR52Uvqyple5cqJXuTKgT6sTWGFArtqTKF0cDXT7WcSipm/FLpVJXuq67u9b6dsdx5gPYrJT6dBwaE3UdpZQzAJzW1tZ28OLFi7cUjLKU0tyFXiSEmK61vlUp1R512VWWH3Xi0SHUyjZA1EovWqFOqBPbsZ1asSVVvjga6PKxrsqSpJRDAQxSSr1ZVEExc+ZMYdY5p1Kp87XWE5VSx0kpzwHwPQBnKqXuq8oGRVApKeUOSqlNXbNKpVLXaK2/6rrumAULFvwz//ecQZBStgI42HGcZEtLyx8jqEZVZUGd9HinmVrpgoZaKXmnmTqhTqzGdM4/VpiqIogGuiq6oTKVSKVSt2qtJYA2AK9qre/PZDKquDapVOoG13V3y2QyU6SU+wG4BcCnOjo6DkokEqlsNvvThQsX/qsyLYi+1LxJPiybzf7XwoULX8t/7Wy27TMm+QCzVAPAVKXUA6Z0KWWDUiorpfw4gL8DuEgpdXv0NatcjtRJafbUSncu1EpJJuaDN8eUIjTUCceUys1o0ZVMAx0dy9jkJKVsAnAbgBO11teYLeoAjANwghBi0uDBg1vvvfferXmDOA3Al5RS/25+z28/NRdAPwC/dRzn3JaWlpdj0/geKjpx4sQDHce5GcDnAawVQnwnnU6b37e9Jk+evFN7e7tpu3mY8LDCUo2itZ0LzO4cSqmj4s4j3/fUSYmOpFa6Q+GY0p0JdUKd2M4D1IotqeqKo4Gurv4oS23yT/P+HsDlSql7TaHjx48f2djYeJPW+gtCiK+k0+mf503UPUKILel0+vxkMjlWCHFXfgu3pvzDdM8W7sKWpfJ9UIiUchCA3PpmIcQtWuvm/Prmc5VSLxS3L5lMfkkIkTE7kyilbspXJ7eMI5lMXiaE+CaAI5VS7/dBVcuaJXVS0gBQKyVUSK1sD4VjSumhijrhmFLWSayPC6OB7mPA1Zi9lPIIAIsBnKqUeqJQx5NPPnlA//79zdreP7uue4FZ5yulNDtvfNls3QZgLID7zZ1nAFcA+IdS6j9qYdeJZDJ5IYB3zBKWVCr1Oa31PK31AwceeOAlZi144S7zaaedNmTr1q1Xm2UcZgu7dDr9VIGflPKHxjwDOKLUGupq1EJvdaJOStOhVkqaAI4pXbBQJ9SJ7ZhPrdiSqq44Gujq6o+y1Ka5uflg13V/bx6IO/DAA+cZg1i4y5pMJqUQokUI8fV0Ov2/qVTq21prs4zDPBh3PQBzqEoDgFkAvg1g3zgfItLTntbJZNIwOCS/pvknxXGTJk3apaOjYxGAnQHcCOAnjuN8zHXdO8wHE6XUzLJ0ZB8XQp1sD5ha6Vlw1MqHbKgT6sR2aKZWbElVZxwNdHX2S5/XSkr5AoA3lVLjuxYmpTTLO9qUUidMmDDhIw0NDft2dHS83NraurwQO2HChD0bGhq21MJSheL2F/a3zq9JM8tYft3Y2HjeQw89tKZ4KUe+/WYdubk7/1cAH8vfmf+KUmpFn3dgmQqgTnoGTa1sz4ZaKa0V6oQ6sR2uqRVbUtURRwNdHf0QdS08D/JIJpPnCiHuFEIcm06nnzYVKLoLfao5OAXA3mZ7uy6fkj3zjroxEeXnp965WLMDidb6dK31zEwmY5Zn5F4FHmbJy4ABA/4tm80a82yWf/wmorr2eTa2B+HUm05suRR1UM1rZdKkScPnzZu30usE0nrSii2TetPJ2rVrP8jvkd/jGFZPOjEQjFZsuNSTVvp8gitTATTQZQLd18Xk1y9/xnXdtxzHeVspZbam6/GV33btIQBb2traPlc86EkpPwXgZwDOUUqZB+Zi+fLLpKtBllKaJRrPGHOczWa/brbrM4NhW1vbxkWLFm2MI5Q8k2sALB0yZMiPC7ut9NSWetCJabtfLvWgFbPrzNatW+/RWn+iqanpuLlz566v9zHFL5N60Mm4ceN27N+/v3kA/VNCiKs/+OCDx3sz0fUypvjlUg9aieOc2VudaaBroEellGaN8nkAzOEfZou1ZwF8TSll9iXe9jJ3mA844ABdWPNsNt8AME8IMbOxsfGuwgSZSqU+r7U263r/vaWlxeQVu5cfJmYf564NLNyJTKVSX9VaX6+1vttxnKe01ubhyYcOOOCAHxqOcQOTSqXu0FobrZi17OcrpZZ2bUM96aTQdlsu9aKVZDJ5hRDCaP3PAKYrpX5lvpWpZ634YVIvOpFSmu1Pf2AeKBdCPOa67m8ymczv6lknpu1+uNSLVuI2V9rUlwbahlKVxkycOPETjuPcDWAPs/2auatojt0WQtxmlmCYreeKjpvOHfiRv7iTQojlZgeJ/GEQlwEwh3/cm81mXcdxpgkhPm4OSjFf3VZp80tWKyiTVCo1UWu9RilljOW2l/naeunSpWaJy6EAGgH8zXXdU4pOIowFnsLynFQq9d9aa7Nu+zAA12zevPnm4rvpxeu8pZQ1q5NCpwXhUstayX/79FMAW7XWVzU1NS0w6/9LibxetBKUSS3rxOgh/63NfACvmQfMhwwZsqrUN1r1opPCNRKES61rJRaTZIBK0kAHgFYNSc4666zGNWvWfAXABCHEDfvvv/9vC3dEpZR3AvicUmr/4rrmn5Q3f/uM2a84nU4b820+LRvzfSoAx0ycxnRrradmMpknq6GttnUIyeRoIcR5BSZ5LnsAMHtCm1013tNaX5LJZB6xrU81xkkpH9Fa/9lxnITW+iwzDyqlzDKVba9a10kPZtAPl5rUivmw+Morr0zRWv9ICHHu8uXLf7hkyZIOw2vq1Kn977///s1d2dW6VkIyqUmdFH34PM7sOqS1PrkwV5jzBIQQDQsXLnyvXscUKWUQLjWtlWqcC6OoEw10FBTLk0e3h+Cam5sPc103oZQyu2Zse0kpFwghXkqn01fl3xSpVOporbV5yO1hx3FmmNMDC3cGzHKFESNGmAfhDtBaD8hkMuauQhxekTMpNNpMnH/9618nCSF+qLX+biaTuTwOQHrak7voyPHbtNZbGxsbb+7o6HhFa92azWYva21tXWXSSilHAzB33GtJJ6brSj5EGoZLLWolv8+5Oab+o0qpQ8yH0tWrV5vTSvcXQqw1z0ZordP54+vN6aRmH/Ra0ko3nYRlUos6MW1KpVJnaq1nKKV2Nx+w2tra7hBCmHMB2rTWzzqO8wPzgHoymTxGCPHrGtNJj2NKGC41oJWYTJPRVJMGOhqOfZ6LeSDh0Ucf/cBrl4D82l9j9v4CYJUQ4mYzmG3evDnR1NR0wKpVq14s3FXq80r3cQF9zURK+ZEtW7asN9z7uCmRZe/FREpptuZ7Xil1hZTy4d4QawAADxxJREFUUgCztdapwp31/M4iBy5btuxPtaITA7evudSSVpLJ5BghhHmI+HEAnwZgHh40z1N8wuzMY76ub2pqurG9vX2r67oH1sOYEhWTWtKJlPILZg98s5OTOcVVa/3vQoj7tNYjAfxn/tvMk8w5Ac3NzZ+ulzElKi5x1EpkE1lMMqKBrvKOyp8Gp8wSAqWUuTtY6iWmTJkyYPPmzWb9rnmIMHc8N4DPmoNOtNYXZTKZH1d5U62rRybdUXkxKWxBlj8tcYVS6r/zmjEP/JivWxcLIQ5Op9Nfte6IGASSi3+tSCl3AHAdgK8LIa5qaGh4YO3atWuPOOKIrUuXLjVjizlsySwBM1td1sTLSydk0n3uSaVSx2ut7wPwOgDz7M0ZhS1Rk8nk2PxzOW/kT6utCZ2YRnhppV651EwH+2gIDbQPWOUMNV8tCyHMHsTmbvIQAMMAnKKUerSnu9Bm0EokEi/Pnz//rfyF3mQeegPwUmNj49SeHgYqZ7vClEUmJc2QL51IKc0ynl8WTktMJpP/ZR46BZAVQiwYMGDAGaXWuobpt0qk9auVeuDih4k5SEgIcVxjY+OCefPmLSv0YX651/ta60cGDRr0zbhrhUzCjSlSyicAmDW/fxw4cOCYgh7yHzjMabVfAzBGKfVSJcaBKMv0o5V64hIl47jlRQNdpT2W34PY3HneTWt9nRDC3Bn8uFJqz3yVi9fqdVu3V7S7wK1m1wWllPnqNdYvMik52Zm9qj11UrgDnT+ifInZik9rfZMQwkxwZv3zRsdxJrS0tJgj22P/stVKPXGxZZL/8L1t157CeCOldPJrnxeacamXb8Riox8yCTamFGkht4wDgFkfbw7eWle0BegkrfW9ruseFrddi0oJ2EYr9cglNhd7H1SUBroPoIbMMmeGpZRNQojjt27d+idzhLaU0uwGYR7umaWUuraHu9DbGWmzhgqAmeyWr1ixYvySJUvMNnbd9nINWd9yJCeT7pQDMZFSPgdgAIBdAaw2e4C7rvsvIcQvhBDm0IwrvQ7hKUeHhyiDXCLSSikjnT8E40khxG/S6fTpXqcThujHvk4aSCdk0n3uKdpD/Q6l1IV5Rubbz9lmlx8AxyqlVvR1h/Zh/oG0Ugdc+hB5PLKmga6Cfmpubt4/m80OTyQSr86fP//dUlWaNGnSLtls9kat9amNjY2jzHKMniYv8+T8+vXrR3R0dJwphJgohLggnU6bgxBi8yKT7l0Vkon54GQ+mF0E4Fta63tc171/4cKF7+SPLf+B1nrvpqam8V4nzlWbiMglcq10OyCoMKZks1ljkMzWmV81+8hXmxZ6q09InZBJl7ln6dKlwnwjMWHChI8mEolrtdZmC8R7HMd5Xmttlhx+W2t9SyaTMevpY/UKo5Va5hKrTixDZWmgywC5pyLMsbBbtmz5gRDiJLP1DwDz8M4dAP4n/4l9uzvKyWTyBCHEXHO3sMTdHzF27NimQYMG/acQYojWepK5y5h/gHBuBZvpq2gy6Y4rSibjx48f1tTUNNgc+a6Uai+U1tM+v746r8zB5NK3Wslva9iotZ7sOI4ZS8y3YGZvdHOCpfk2LBavKHVCJiXnHphxJZFIfBPAGXlRmH3mb8xkMubcgdi8ItZKzXCJTQeWuaI00GUGXlxcKpUyW8x9HsA5WusEgCOEENcAuD9/fO7q/F3m3N1Ds8XYDjvsMN08WOg4zpEtLS3PF+dnturq16+fSWsmu6eHDh3636VOhqpgkz2LJpPuiKJm4tkJMQkgl77XipRykBDCfDvxcbOX7+DBg6fX+5hCJt3nnoISx44d22/QoEH7rFix4h9x3Aazr8aUuHOJyZRQ9mrSQJcdeWeBUspRZj9eIcS96XTarBXLrU2WUponl/9Taz0/k8lMK6pe7m70xIkTD3Ucx5jkLUqpI8zTzo7j7N7e3r7WrJU2X6f1799/Qxx33CCT7mKMmonruiuVUoUPZt2+lq7Q5eC7WHLpe60UxhQppbnr3GZ047ujKpwgap2QSfe5pzCmeJ1RUGEpeBYftVZqhYsnuDoOoIEuX+d3fcDP7J7wjtb66+bkP/MJdfHixVvyd5G/B+B4ABPNKYOFHTUKVU0mk2cLIf5HCHExgAattfn9luJjqMvXrFAlkUl3fH3KRGt9cyaTuSdUr1UmMbmUWSscUzjO2sw9HFOAUnNyjLlUZoSPYak00H3caVOmTBm4efPmC4UQA13XXdXQ0PBzc4z2hAkT9m5oaMiY/TOVUl/P333ObR2VX+t8mxDi5XQ6bdYyb/eaOHHi4Y7j/AjAgQDMOtZrzM4cfdyUyLInk+4oyaS0vMiFWrEZeKgT6sRGJyaGWrElxTgvAjTQXoRC/D2VSp2ptb4BwKtmn10Ah5hjcR3HGdPS0vKqlNJsMWf2df6aUurF4k/7qVTqbq21OSJ1qrkLbaph1kO/8sorJ2qtLwFwgtb6+0KIaXHadoxMuguKTEpfZORCrdgMv9QJdWKjExNDrdiSYpwNARpoG0o+Y4wR1lqfIYT4lhDixw0NDfe3tbV9MGDAgH9zXbelsIdq/k7zE0KIK8zXPWZXhMI6MimlOYb7ESHElHQ6/bB5+ju/3dgN+afhzamEL/qsWsXCyaQ7ejIpLUdyoVZsBirqhDqx0YmJoVZsSTHODwEaaD+07GOFlPIRrbU5qOLSwibyZi/VtWvXztZam9Pf9jGnNkkpHwNwAICzlVJPFN+FllIuE0Jcm06n7yh6QKPbqYP21apoJJl0x08mpSVJLtSKzWBFnVAnNjoxMdSKLSnGWROggbZG5S/Q7IYxcODANQ888MCGfMrCaUZmU/nTEonEEfPmzVt26qmn7p7NZs12dM+7rntR4chTKeVRAB4TQpyTTqfT/kqvzmgy6d4vZFJaq+RCrdiMYtQJdWKjExNDrdiSYpwtARpoW1IB4wqnBRbuLKdSqVu11icrpf7fzJkzxaxZs9xkMvl1IcRlANaZo5W11mvM3tAADspms19cuHDhewGLr8pkZNK9W8iktFTJhVqxGcSoE+rERicmhlqxJcU4LwI00F6EIv67lPIZAH9TSp1hlnQUDiXIr3m+FcDI/Hrn5eZUJ6XUCxFXoeqyI5PuXUImpWVKLtSKzQBGnVAnNjoxMdSKLSnGdSVAA11GTeSPO33V7KKRyWR+2LVoc4zopk2bhjQ2Nu7a0tLybBmrVrGiyKQ7ejIpLUdyoVZsBirqhDqx0YmJoVZsSTGuFAEa6DLqIpVKHau1XgJgtNmaznyV9Le//e0Q13UHr1ix4qk4Hn0aFh+ZdCdIJqVVRS7Uis14Q51QJzY6MTHUii0pxtFAV0gDRWuuLgVg/pm9n0cAuAjA+UKI65cvXz6jngw0mXQXI5mUvkDJhVqxGbqpE+rERicmhlqxJcW43gjwDnQZ9SGlNCcP7qi1XiyEmA6gTWt9XiaTWVzGalRVUWTSvTvIpLREyYVasRm8qBPqxEYnJoZasSXFON6BrqAGpk6d2n/Dhg0vmf2fzamEQoir0un0zRWsUsWLJpPuXUAmpWVJLtSKzYBFnVAnNjoxMdSKLSnG9USAd6DLqI1kMvkAgBUbNmyYvnjx4i1lLLpqiyKT7l1DJqXlSi7Uis1ARp1QJzY6MTHUii0pxvEOdIU1UFh3VeFqVFXxZNK9O8iktETJhVqxGbyoE+rERicmhlqxJcU4GmhqgARIgARIgARIgARIgARCEuASjpAAmZwESIAESIAESIAESKC+CNBA11d/s7UkQAIkQAIkQAIkQAIhCdBAhwTI5CRAAiRAAiRAAiRAAvVFgAa6vvqbrSUBEiABEiABEiABEghJgAY6JEAmJwESIAESIAESIAESqC8CNND11d9sLQmQAAmQAAmQAAmQQEgCNNAhATI5CZAACZAACZAACZBAfRGgga6v/mZrSYAESIAESIAESIAEQhKggQ4JkMlJgARIgARIgARIgATqiwANdH31N1tLAiRAAiRAAiRAAiQQkgANdEiATE4CJEACJEACJEACJFBfBGig66u/2VoSIAESIAESIAESIIGQBGigQwJkchIgARIgARIgARIggfoiQANdX/3N1pIACZAACZAACZAACYQkQAMdEiCTkwAJkAAJkAAJkAAJ1BcBGuj66m+2lgRIgARIgARIgARIICQBGuiQAJmcBEiABEiABEiABEigvgjQQNdXf7O1JEACJEACJEACJEACIQnQQIcEyOQkQAIkQAIkQAIkQAL1RYAGur76m60lARIgARIgARIgARIISYAGOiRAJicBEiABEiABEiABEqgvAjTQ9dXfbC0JkAAJkAAJkAAJkEBIAjTQIQEyOQmQAAmQAAmQAAmQQH0RoIGur/5ma0mABEiABEiABEiABEISoIEOCZDJSYAESIAESIAESIAE6osADXR99TdbSwIkQAIkQAIkQAIkEJIADXRIgExOAiRAAiRAAiRAAiRQXwRooOurv9laEiABEiABEiABEiCBkARooEMCZHISIAESIAESIAESIIH6IkADXV/9zdaSAAmQAAmQAAmQAAmEJEADHRIgk5MACZAACZAACZAACdQXARro+upvtpYESIAESIAESIAESCAkARrokACZnARIgARIgARIgARIoL4I0EDXV3+ztSRAAiRAAiRAAiRAAiEJ0ECHBMjkJEACJEACJEACJEAC9UWABrq++putJQESIAESIAESIAESCEmABjokQCYnARIgARIgARIgARKoLwI00PXV32wtCZAACZAACZAACZBASAI00CEBMjkJkAAJkAAJkAAJkEB9EaCBrq/+ZmtJgARIgARIgARIgARCEqCBDgmQyUmABEiABEiABEiABOqLAA10ffU3W0sCJEACJEACJEACJBCSAA10SIBMTgIkQAIkQAIkQAIkUF8EaKDrq7/ZWhIgARIgARIgARIggZAEaKBDAmRyEiABEiABEiABEiCB+iJAA11f/c3WkgAJkAAJkAAJkAAJhCRAAx0SIJOTAAmQAAmQAAmQAAnUFwEa6Prqb7aWBEiABEiABEiABEggJAEa6JAAmZwESIAESIAESIAESKC+CNBA11d/s7UkQAIkQAIkQAIkQAIhCdBAhwTI5CRAAiRAAiRAAiRAAvVFgAa6vvqbrSUBEiABEiABEiABEghJ4P8Dw9TY9ri9zEEAAAAASUVORK5CYII=\" width=\"640\">"
      ],
      "text/plain": [
       "<IPython.core.display.HTML object>"
      ]
     },
     "metadata": {},
     "output_type": "display_data"
    }
   ],
   "source": [
    "plt.close('all')\n",
    "fig, ax = plt.subplots(1)\n",
    "plt.title('PrcTotals/321-WQ-024.V vs time')\n",
    "ax.plot(df['PrcTotals/321-WQ-024.V'])\n",
    "\n",
    "# rotate and align the tick labels so they look better\n",
    "fig.autofmt_xdate()\n",
    "\n",
    "# use a more precise date string for the x axis locations in the\n",
    "# toolbar\n",
    "import matplotlib.dates as mdates\n",
    "ax.fmt_xdata = mdates.DateFormatter('%Y-%m-%d')\n",
    "#plt.title('fig.autofmt_xdate fixes the labels')"
   ]
  },
  {
   "cell_type": "markdown",
   "metadata": {},
   "source": [
    "d. Challenge question (optional):   \n",
    "Impute all other missing sensor values using a more robust technique   \n",
    "(including but not limited to interpolation or kNN imputation).   \n",
    "What are the advantages & disadvantages of your chosen imputation technique? \n",
    "---------------\n",
    "Notes: col 'AS01-ScanTime/OB82T2.V' has 285 str values which count as NaN values col 'ACP:P:C2 TT Control/LaMvX_DB.PV_TipMv' has 2 float values which count as NaN values"
   ]
  },
  {
   "cell_type": "code",
   "execution_count": 13,
   "metadata": {},
   "outputs": [
    {
     "name": "stdout",
     "output_type": "stream",
     "text": [
      "                                  Column Name   #Non NAN  Count NAN\n",
      "type: <class 'str'>\n",
      "                       AS01-ScanTime/OB82T2.V      58171        285\n",
      "                       AS01-ScanTime/OB82T2.V      58171        285\n",
      "-------------------------------------------------------------------\n",
      "type: <class 'float'>\n",
      "         ACP:P:C2$T$Control/LaMvX_DB.PV_TipMv      58454          2\n",
      "         ACP:P:C2$T$Control/LaMvX_DB.PV_TipMv      58454          2\n",
      "-------------------------------------------------------------------\n",
      "# rows NOT fixed by interpolation : 2\n"
     ]
    }
   ],
   "source": [
    "#https://pandas.pydata.org/pandas-docs/stable/generated/pandas.DataFrame.interpolate.html#pandas.DataFrame.interpolate\n",
    "#summaries missing sensor values in all columns\n",
    "print ( \"%45s %10s %10s\" % (\"Column Name\", \"#Non NAN\", \"Count NAN\") )\n",
    "count = 0\n",
    "for colName in list(df):\n",
    "    #print (colName, df[colName].count(), df.shape[0]-df[colName].count())\n",
    "    if df.shape[0]-df[colName].count()!=0 and df.shape[0]-df[colName].interpolate().count()!=0 and not isinstance(df[colName][0], np.float64):\n",
    "        print (\"type:\", type(df[colName][0]))\n",
    "        print ( \"%45s %10d %10d\" % (colName, df[colName].count(), df.shape[0]-df[colName].count() ))\n",
    "        print ( \"%45s %10d %10d\" % (colName, df[colName].interpolate().count(), df.shape[0]-df[colName].interpolate().count() ))\n",
    "        print (\"-------------------------------------------------------------------\")\n",
    "        count += 1\n",
    "    \n",
    "print (\"# rows NOT fixed by interpolation :\", count)"
   ]
  },
  {
   "cell_type": "code",
   "execution_count": 14,
   "metadata": {},
   "outputs": [
    {
     "name": "stdout",
     "output_type": "stream",
     "text": [
      "<class 'str'>\n",
      "148.3796\n"
     ]
    }
   ],
   "source": [
    "print (type(df['AS01-ScanTime/OB82T2.V'][0]))\n",
    "print (df['AS01-ScanTime/OB82T2.V'][0])\n"
   ]
  },
  {
   "cell_type": "code",
   "execution_count": 16,
   "metadata": {},
   "outputs": [
    {
     "data": {
      "text/plain": [
       "'Error'"
      ]
     },
     "execution_count": 16,
     "metadata": {},
     "output_type": "execute_result"
    }
   ],
   "source": [
    "df['AS01-ScanTime/OB82T2.V'][41622]"
   ]
  },
  {
   "cell_type": "code",
   "execution_count": 19,
   "metadata": {},
   "outputs": [
    {
     "data": {
      "text/plain": [
       "'0.20.1'"
      ]
     },
     "execution_count": 19,
     "metadata": {},
     "output_type": "execute_result"
    }
   ],
   "source": [
    "#print(pd.version)\n",
    "import pkg_resources\n",
    "pkg_resources.get_distribution(\"pandas\").version"
   ]
  },
  {
   "cell_type": "code",
   "execution_count": 22,
   "metadata": {},
   "outputs": [
    {
     "data": {
      "text/plain": [
       "(58456, 481)"
      ]
     },
     "execution_count": 22,
     "metadata": {},
     "output_type": "execute_result"
    }
   ],
   "source": [
    "df['AS01-ScanTime/OB82T2.V'] = pd.to_numeric(df['AS01-ScanTime/OB82T2.V'], errors='coerce')\n",
    "df.shape"
   ]
  },
  {
   "cell_type": "code",
   "execution_count": 23,
   "metadata": {},
   "outputs": [
    {
     "name": "stdout",
     "output_type": "stream",
     "text": [
      "# of non NAN : 57593\n",
      "# of NAN: 863\n",
      "# of non NAN after interpolation: 58456\n",
      "# of NAN after interpolation: 0\n"
     ]
    }
   ],
   "source": [
    "print (\"# of non NAN :\", df['AS01-ScanTime/OB82T2.V'].count())\n",
    "print (\"# of NAN:\", df.shape[0] - df['AS01-ScanTime/OB82T2.V'].count())\n",
    "\n",
    "print (\"# of non NAN after interpolation:\", df['AS01-ScanTime/OB82T2.V'].interpolate().count())\n",
    "print (\"# of NAN after interpolation:\", df.shape[0] - df['AS01-ScanTime/OB82T2.V'].interpolate().count())\n"
   ]
  },
  {
   "cell_type": "code",
   "execution_count": 24,
   "metadata": {},
   "outputs": [
    {
     "name": "stdout",
     "output_type": "stream",
     "text": [
      "0    1.0\n",
      "1    2.0\n",
      "2   -3.0\n",
      "dtype: float64\n",
      "0    apple\n",
      "1      1.0\n",
      "2        2\n",
      "3       -3\n",
      "dtype: object\n",
      "0    NaN\n",
      "1    1.0\n",
      "2    2.0\n",
      "3   -3.0\n",
      "dtype: float64\n"
     ]
    }
   ],
   "source": [
    "s = pd.Series(['1.0', '2', -3])\n",
    "print(pd.to_numeric(s))\n",
    "s = pd.Series(['apple', '1.0', '2', -3])\n",
    "print(pd.to_numeric(s, errors='ignore'))\n",
    "print(pd.to_numeric(s, errors='coerce'))"
   ]
  },
  {
   "cell_type": "code",
   "execution_count": 27,
   "metadata": {},
   "outputs": [
    {
     "name": "stdout",
     "output_type": "stream",
     "text": [
      "0    NaN\n",
      "1    1.0\n",
      "2    2.0\n",
      "3   -3.0\n",
      "dtype: float64\n"
     ]
    },
    {
     "data": {
      "text/plain": [
       "0    NaN\n",
       "1    1.0\n",
       "2    2.0\n",
       "3   -3.0\n",
       "dtype: float64"
      ]
     },
     "execution_count": 27,
     "metadata": {},
     "output_type": "execute_result"
    }
   ],
   "source": [
    "temp = pd.to_numeric(s, errors='coerce')\n",
    "print (temp)\n",
    "temp.interpolate()"
   ]
  },
  {
   "cell_type": "code",
   "execution_count": 28,
   "metadata": {},
   "outputs": [
    {
     "data": {
      "text/plain": [
       "3"
      ]
     },
     "execution_count": 28,
     "metadata": {},
     "output_type": "execute_result"
    }
   ],
   "source": [
    "temp.count()"
   ]
  },
  {
   "cell_type": "code",
   "execution_count": 30,
   "metadata": {},
   "outputs": [
    {
     "data": {
      "text/plain": [
       "1"
      ]
     },
     "execution_count": 30,
     "metadata": {},
     "output_type": "execute_result"
    }
   ],
   "source": [
    "temp.shape[0]-temp.count()"
   ]
  },
  {
   "cell_type": "code",
   "execution_count": 34,
   "metadata": {},
   "outputs": [
    {
     "data": {
      "text/plain": [
       "0    apple\n",
       "1      1.0\n",
       "2        2\n",
       "3       -3\n",
       "dtype: object"
      ]
     },
     "execution_count": 34,
     "metadata": {},
     "output_type": "execute_result"
    }
   ],
   "source": [
    "s"
   ]
  },
  {
   "cell_type": "code",
   "execution_count": 41,
   "metadata": {},
   "outputs": [
    {
     "name": "stdout",
     "output_type": "stream",
     "text": [
      "0    0.0\n",
      "1    1.0\n",
      "2    NaN\n",
      "3    3.0\n",
      "dtype: float64\n",
      "<class 'pandas.core.series.Series'>\n"
     ]
    }
   ],
   "source": [
    "\n",
    "temp = pd.to_numeric(s, errors='coerce')\n",
    "print (temp)\n",
    "print (type(temp))"
   ]
  },
  {
   "cell_type": "code",
   "execution_count": 47,
   "metadata": {},
   "outputs": [
    {
     "name": "stdout",
     "output_type": "stream",
     "text": [
      "0        0\n",
      "1        1\n",
      "2      NaN\n",
      "3        3\n",
      "4    Error\n",
      "5        5\n",
      "dtype: object\n",
      "<class 'pandas.core.series.Series'>\n"
     ]
    }
   ],
   "source": [
    "s = pd.Series([0, 1, np.nan, 3, \"Error\", 5])\n",
    "print (s)\n",
    "print (type(s))"
   ]
  },
  {
   "cell_type": "code",
   "execution_count": 48,
   "metadata": {},
   "outputs": [
    {
     "name": "stdout",
     "output_type": "stream",
     "text": [
      "0    0.0\n",
      "1    1.0\n",
      "2    NaN\n",
      "3    3.0\n",
      "4    NaN\n",
      "5    5.0\n",
      "dtype: float64\n",
      "<class 'pandas.core.series.Series'>\n"
     ]
    }
   ],
   "source": [
    "s = pd.to_numeric(s, errors='coerce')\n",
    "print (s)\n",
    "print (type(s))"
   ]
  },
  {
   "cell_type": "code",
   "execution_count": 49,
   "metadata": {},
   "outputs": [
    {
     "data": {
      "text/plain": [
       "0    0.0\n",
       "1    1.0\n",
       "2    2.0\n",
       "3    3.0\n",
       "4    4.0\n",
       "5    5.0\n",
       "dtype: float64"
      ]
     },
     "execution_count": 49,
     "metadata": {},
     "output_type": "execute_result"
    }
   ],
   "source": [
    "s.interpolate()"
   ]
  },
  {
   "cell_type": "code",
   "execution_count": null,
   "metadata": {
    "collapsed": true
   },
   "outputs": [],
   "source": []
  }
 ],
 "metadata": {
  "kernelspec": {
   "display_name": "Python 3",
   "language": "python",
   "name": "python3"
  },
  "language_info": {
   "codemirror_mode": {
    "name": "ipython",
    "version": 3
   },
   "file_extension": ".py",
   "mimetype": "text/x-python",
   "name": "python",
   "nbconvert_exporter": "python",
   "pygments_lexer": "ipython3",
   "version": "3.6.1"
  }
 },
 "nbformat": 4,
 "nbformat_minor": 2
}
